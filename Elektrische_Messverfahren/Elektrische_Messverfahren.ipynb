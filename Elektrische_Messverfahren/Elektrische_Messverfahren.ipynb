{
 "cells": [
  {
   "cell_type": "markdown",
   "id": "885c7767-e912-4e31-b5d6-3a3443ffa58e",
   "metadata": {},
   "source": [
    "# Fakultät für Physik\n",
    "\n",
    "## Physikalisches Praktikum P1 für Studierende der Physik\n",
    "\n",
    "Versuch P1-34, 35, 36 (Stand: Oktober 2023)\n",
    "\n",
    "[Raum F2-17](https://labs.physik.kit.edu/img/Praktikum/Lageplan_P1.png)\n",
    "\n",
    "\n",
    "\n",
    "# Elektrische Messverfahren"
   ]
  },
  {
   "cell_type": "markdown",
   "id": "02723acd-b4da-43cb-8534-d52f27e5e556",
   "metadata": {},
   "source": [
    "Name: __________________ Vorname: __________________ E-Mail: __________________\n",
    "\n",
    "\\begin{equation*}\n",
    "\\begin{split}\n",
    "&\\\\\n",
    "&\\\\\n",
    "\\end{split}\n",
    "\\end{equation*}\n",
    "\n",
    "Name: __________________ Vorname: __________________ E-Mail: __________________\n",
    "\n",
    "\\begin{equation*}\n",
    "\\begin{split}\n",
    "&\\\\\n",
    "&\\\\\n",
    "&\\\\\n",
    "\\end{split}\n",
    "\\end{equation*}\n",
    "\n",
    "Gruppennummer: _____\n",
    "\n",
    "\\begin{equation*}\n",
    "\\begin{split}\n",
    "&\\\\\n",
    "&\\\\\n",
    "&\\\\\n",
    "\\end{split}\n",
    "\\end{equation*}\n",
    "\n",
    "\n",
    "Betreuer: __________________\n",
    "\n",
    "\\begin{equation*}\n",
    "\\begin{split}\n",
    "&\\\\\n",
    "&\\\\\n",
    "&\\\\\n",
    "\\end{split}\n",
    "\\end{equation*}\n",
    "\n",
    "Versuch durchgeführt am: __________________"
   ]
  },
  {
   "cell_type": "markdown",
   "id": "bd1ced8c-5364-400f-b2ab-cd86a81d5eda",
   "metadata": {},
   "source": [
    "---\n",
    "\n",
    "**Beanstandungen:**\n",
    "\n",
    "\\begin{equation*}\n",
    "\\begin{split}\n",
    "&\\\\\n",
    "&\\\\\n",
    "&\\\\\n",
    "&\\\\\n",
    "&\\\\\n",
    "&\\\\\n",
    "&\\\\\n",
    "&\\\\\n",
    "&\\\\\n",
    "&\\\\\n",
    "\\end{split}\n",
    "%\\text{\\vspace{10cm}}\n",
    "\\end{equation*}\n",
    "\n",
    "<br>\n",
    "Testiert am: __________________ Testat: __________________"
   ]
  },
  {
   "cell_type": "markdown",
   "id": "305b8433-7bc6-4a3c-b0e6-fa5c8955849a",
   "metadata": {},
   "source": [
    "# Durchführung\n",
    "\n",
    "## Aufgabe 1: Innenwiderstände von Strom- und Spannungsmessgeräten\n",
    "\n",
    "### Aufgabe 1.1: Strommessgerät\n",
    "\n",
    "Messen Sie den Innenwiderstand $R_{i}^{I}$ des $\\mu\\mathrm{A}$-Multizet Messgeräts im $1\\,\\mathrm{mA}$-Bereich. \n",
    "\n",
    " * Schließen Sie hierzu das Strommessinstrument in Reihe mit einem Potentiometer bestehend aus einem festen $1\\,\\mathrm{k\\Omega}$-Widerstand und einem regelbaren $10\\,\\mathrm{k\\Omega}$-Widerstand an eine Gleichspannung von $6\\,\\mathrm{V}$ an. \n",
    " * Stellen Sie den Messbereich des $\\mu\\mathrm{A}$-Multizet Messgeräts auf $1\\,\\mathrm{mA}$. \n",
    " * Stellen Sie das Potentiometer so ein, dass das Strommessgerät $1\\,\\mathrm{mA}$ anzeigt. \n",
    " * Notieren Sie sich den eingestellten Wert des Potentiometers. \n",
    " * Schalten Sie dann ein Spannungsmessinstrument ($\\mathrm{AV\\Omega}$-Multizet im $0,3\\,\\mathrm{V}$-Bereich) zum Strommessinstrument parallel.\n",
    "\n",
    "Berechnen Sie aus den gleichzeitig angezeigten Werten von Strom und Spannung $R_{i}^{I}$.\n",
    "\n",
    "---"
   ]
  },
  {
   "cell_type": "markdown",
   "id": "375bc285-33cc-43cc-bf8f-9247c1431ae4",
   "metadata": {},
   "source": [
    "**Lösung:**\n",
    "\n",
    "*Sie können Ihr Protokoll direkt in dieses Dokument einfügen. Wenn Sie dieses Dokument als Grundlage für ein [Jupyter notebook](https://jupyter.org/) verwenden wollen können Sie die Auswertung, Skripte und ggf. bildliche Darstellungen mit Hilfe von [python](https://www.python.org/) ebenfalls hier einfügen. Löschen Sie hierzu diesen kursiv gestellten Text aus dem Dokument.* \n",
    "\n",
    "---"
   ]
  },
  {
   "cell_type": "markdown",
   "id": "20887c3e-9c2e-4cf2-918e-c6091ec8f900",
   "metadata": {},
   "source": [
    "### Aufgabe 1.2: Spannungsmessgerät\n",
    "\n",
    "Berechnen Sie aus den Messdaten von **Aufgabe 1.1** den Innenwiderstand $R_{i}^{U}$ des $\\mathrm{AV\\Omega}$-Multizets im\n",
    "$0,3\\,\\mathrm{V}$-Bereich. \n",
    "\n",
    " * Nehmen Sie dazu an, dass die Parallelschaltung von $R_{i}^{U}$ zu $R_{i}^{I}$ den Gesamtstrom im Stromkreis nur vernachlässigbar ändert. \n",
    " * Prüfen Sie diese Annahme nachträglich und verbessern Sie in einem zweiten Rechenschritt mit Hilfe der ersten $R_{i}^{U}$-Näherung diesen Wert. Dies ist ein häufig genutztes iteratives Näherungsverfahren, das in diesem Fall die Aufstellung und Lösung einer quadratischen Gleichung ersetzt.\n",
    "\n",
    "---"
   ]
  },
  {
   "cell_type": "markdown",
   "id": "4ff10d07-87d1-4a2a-a7ef-a7014dc727b6",
   "metadata": {},
   "source": [
    "**Lösung:**\n",
    "\n",
    "*Sie können Ihr Protokoll direkt in dieses Dokument einfügen. Wenn Sie dieses Dokument als Grundlage für ein [Jupyter notebook](https://jupyter.org/) verwenden wollen können Sie die Auswertung, Skripte und ggf. bildliche Darstellungen mit Hilfe von [python](https://www.python.org/) ebenfalls hier einfügen. Löschen Sie hierzu diesen kursiv gestellten Text aus dem Dokument.* \n",
    "\n",
    "---"
   ]
  },
  {
   "cell_type": "markdown",
   "id": "ed47f5e9-e6ea-44bf-867b-6c6198f7cf88",
   "metadata": {},
   "source": [
    "## Aufgabe 2: Messung ohmscher Widerstände\n",
    "\n",
    "### Aufgabe 2.1: Messung mit Strom- und Spannungsmessgerät\n",
    "\n",
    "Bestimmen Sie aus Strom- und Spannungsmessungen einen unbekannten Widerstandswert $R_{X}$. Schließen Sie einen $10\\,\\mathrm{k\\Omega}$-Widerstand, den unbekannten Widerstand $R_{X}$ und ein Strommessinstrument (im $1\\,\\mathrm{mA}$-Bereich) in Reihe an eine Gleichspannung von $6\\,\\mathrm{V}$ an. Messen Sie mit einem Spannungsmessinstrument (im $0,3$- oder $1\\,\\mathrm{V}$-Bereich) die folgenden Spannungen:\n",
    "\n",
    " * Die Spannung an $R_{X}$ (spannungsrichtige Schaltung).\n",
    "\n",
    " * Die Spannung an der Reihenschaltung aus $R_{X}$ und Strommessinstrument (stromrichtige Schaltung).\n",
    "\n",
    "Wiederholen Sie beide Messungen, wobei Sie die Rollen des $\\mathrm{\\mu A}$-Multizet und des $\\mathrm{AV\\Omega}$-Multizet Messgerät tauschen. Berechnen Sie aus den vier Wertepaaren jeweils --zunächst ohne und dann mit Berücksichtigung der Instrumenteninnenwiderstände-- den Widerstandswert $R_{X}$. Welchen Innenwiderstand wünscht man sich bei einem Strom- und welchen bei einem Spannungsmessgerät?\n",
    "\n",
    "---"
   ]
  },
  {
   "cell_type": "markdown",
   "id": "b44041f9-bc43-4e0d-9728-8c75f87e06b5",
   "metadata": {},
   "source": [
    "**Lösung:**\n",
    "\n",
    "*Sie können Ihr Protokoll direkt in dieses Dokument einfügen. Wenn Sie dieses Dokument als Grundlage für ein [Jupyter notebook](https://jupyter.org/) verwenden wollen können Sie die Auswertung, Skripte und ggf. bildliche Darstellungen mit Hilfe von [python](https://www.python.org/) ebenfalls hier einfügen. Löschen Sie hierzu diesen kursiv gestellten Text aus dem Dokument.* \n",
    "\n",
    "---"
   ]
  },
  {
   "cell_type": "markdown",
   "id": "11c0b215-d552-470a-8ad2-ea8cf7e2d15a",
   "metadata": {},
   "source": [
    "### Aufgabe 2.2: Wheatstonesche Brücke\n",
    "\n",
    "Messen Sie den Widerstandswert $R_{X}$ mit Hilfe einer Wheatstoneschen Brückenschaltung. \n",
    "\n",
    " * Benutzen Sie hierfür das lineare $1\\,\\mathrm{k\\Omega}$-Potentiometer und den als bekannt angenommenen $1\\,\\mathrm{k\\Omega}$-Widerstand. \n",
    " * Schalten Sie in die Anschlussleitung zwischen Brücke und der Gleichspannung von $6\\,\\mathrm{V}$ einen Widerstand von $220\\,\\Omega$ als Strombegrenzungswiderstand. \n",
    " * Verwenden Sie das $\\mathrm{\\mu A}$-Multizet Messinstrument als Nullinstrument in der Brückendiagonalen. \n",
    " * Wählen Sie anfangs einen unempfindlichen Messbereich (z.B. im $10\\,\\mathrm{V}$-Bereich) und dann zunehmend empfindlichere Messbereiche bis zu $30\\,\\mathrm{mV}$. \n",
    "\n",
    "Worin besteht der Vorteil einer Brückenschaltung?\n",
    "\n",
    "---"
   ]
  },
  {
   "cell_type": "markdown",
   "id": "5bffb0ee-04a9-4823-a1e8-6f5f8d75fd0c",
   "metadata": {},
   "source": [
    "**Lösung:**\n",
    "\n",
    "*Sie können Ihr Protokoll direkt in dieses Dokument einfügen. Wenn Sie dieses Dokument als Grundlage für ein [Jupyter notebook](https://jupyter.org/) verwenden wollen können Sie die Auswertung, Skripte und ggf. bildliche Darstellungen mit Hilfe von [python](https://www.python.org/) ebenfalls hier einfügen. Löschen Sie hierzu diesen kursiv gestellten Text aus dem Dokument.* \n",
    "\n",
    "---"
   ]
  },
  {
   "cell_type": "markdown",
   "id": "091dcac9-bb2a-48df-8ca2-a3ccba06aff6",
   "metadata": {},
   "source": [
    "### Aufgabe 2.3: Messung mit dem $\\Omega$-Meter\n",
    "\n",
    "Messen Sie den Widerstandswert $R_{X}$ mit Hilfe des $\\Omega$-Messbereichs des $\\mathrm{\\mu A}$-Multizet Messgeräts. Wie funktioniert ein solches Ohmmeter? Wie funktioniert ein Ohmmeter mit linearer Skala?\n",
    "\n",
    "---"
   ]
  },
  {
   "cell_type": "markdown",
   "id": "b4fc3db5-841d-4169-829f-a6d0ff41925a",
   "metadata": {},
   "source": [
    "**Lösung:**\n",
    "\n",
    "*Sie können Ihr Protokoll direkt in dieses Dokument einfügen. Wenn Sie dieses Dokument als Grundlage für ein [Jupyter notebook](https://jupyter.org/) verwenden wollen können Sie die Auswertung, Skripte und ggf. bildliche Darstellungen mit Hilfe von [python](https://www.python.org/) ebenfalls hier einfügen. Löschen Sie hierzu diesen kursiv gestellten Text aus dem Dokument.* \n",
    "\n",
    "---"
   ]
  },
  {
   "cell_type": "markdown",
   "id": "b97bc452-bdb2-40f8-a6b5-e6d6841e6f4f",
   "metadata": {},
   "source": [
    "## Aufgabe 3: Messungen an einer Trockenbatterie\n",
    "\n",
    "### Aufgabe 3.1: Urspannung mit Kompensationsschaltung\n",
    "\n",
    "Messen Sie die Urspannung $U_{0}$ einer Trockenbatterie (von ca. $1,5\\,\\mathrm{V}$) mit Hilfe einer Kompensationsschaltung. \n",
    "\n",
    " * Überlegen Sie sich hierzu vorab, wie man mit Hilfe eines Potentiometers eine regelbare Spannungsquelle aufbauen kann. \n",
    " * Schalten Sie die zu messende Spannung $U_{\\mathrm{Cell}}$ in Reihe mit einer entgegengesetzt gepolten Hilfsspannung $U_{\\mathrm{H}}$ (gemessenen mit dem $\\mathrm{AV\\Omega}$-Multizet Messgerät) und einem empfindlichen Spannungsmessinstrument (wie z.B. dem $\\mathrm{\\mu A}$-Multizet Messgerät, mit Messbereichen zwischen $10\\,\\mathrm{V}$ und $30\\,\\mathrm{mV}$). \n",
    " * Stellen Sie die Spannung $U_{\\mathrm{H}}$ so ein, dass die Differenzspannung Null, also $U_{\\mathrm{Cell}}=U_{\\mathrm{H}}$ ist. (siehe Schaltskizze 0 in der alten Anleitung). \n",
    "\n",
    "---"
   ]
  },
  {
   "cell_type": "markdown",
   "id": "33d8d77f-4813-4a32-b614-9a5c68fc2974",
   "metadata": {},
   "source": [
    "**Lösung:**\n",
    "\n",
    "*Sie können Ihr Protokoll direkt in dieses Dokument einfügen. Wenn Sie dieses Dokument als Grundlage für ein [Jupyter notebook](https://jupyter.org/) verwenden wollen können Sie die Auswertung, Skripte und ggf. bildliche Darstellungen mit Hilfe von [python](https://www.python.org/) ebenfalls hier einfügen. Löschen Sie hierzu diesen kursiv gestellten Text aus dem Dokument.* \n",
    "\n",
    "---"
   ]
  },
  {
   "cell_type": "markdown",
   "id": "686cc394-17c3-4fea-9cfd-584111870879",
   "metadata": {},
   "source": [
    "### Aufgabe 3.2: Innenwiderstand\n",
    "\n",
    "Messen Sie den Innenwiderstand der Trockenbatterie bei mäßigen Belastungen durch Schaltkreise mit $220\\,\\Omega$,  $110\\,\\Omega$, $47\\,\\Omega$ und $22\\,\\Omega$. Beobachten Sie dazu die jeweilige Spannungserniedrigung $\\Delta U$ direkt, mit Hilfe einer Differenzspannungsmethode. Sie können hierzu die Kompensationsschaltung von **Aufgabe 3.1** verwenden, indem Sie nach dem Abgleich im unbelasteten Zustand zum Ablesen von $\\Delta U$ am $\\mathrm{\\mu A}$-Multizet Messgerät den Lastwiderstand kurzzeitig zuschalten.\n",
    "\n",
    "---"
   ]
  },
  {
   "cell_type": "markdown",
   "id": "85853f65-f74f-4e5a-846b-0c034c56f6b3",
   "metadata": {},
   "source": [
    "**Lösung:**\n",
    "\n",
    "*Sie können Ihr Protokoll direkt in dieses Dokument einfügen. Wenn Sie dieses Dokument als Grundlage für ein [Jupyter notebook](https://jupyter.org/) verwenden wollen können Sie die Auswertung, Skripte und ggf. bildliche Darstellungen mit Hilfe von [python](https://www.python.org/) ebenfalls hier einfügen. Löschen Sie hierzu diesen kursiv gestellten Text aus dem Dokument.* \n",
    "\n",
    "---"
   ]
  },
  {
   "cell_type": "markdown",
   "id": "97b7053b-f7c8-471f-bd76-01bb183198e0",
   "metadata": {},
   "source": [
    "## Aufgabe 4: Messungen an einer Spule \n",
    "\n",
    "### Aufgabe 4.1: Ohmscher Widerstand\n",
    "\n",
    "Messen Sie mit Hilfe des $\\Omega$-Messbereiches des $\\mathrm{\\mu A}$-Multizet Messgeräts den ohmschen Widerstand der Ihnen zur Verfügung stehenden Spule bei Gleichstrom. Dieser Widerstand ist ein Teil des bei Wechselstromanwendungen beobachteten Verlustwiderstandes der Spule.\n",
    "\n",
    "---"
   ]
  },
  {
   "cell_type": "markdown",
   "id": "c81ae931-21c9-4eff-bb7b-259cf64b3c5e",
   "metadata": {},
   "source": [
    "**Lösung:**\n",
    "\n",
    "*Sie können Ihr Protokoll direkt in dieses Dokument einfügen. Wenn Sie dieses Dokument als Grundlage für ein [Jupyter notebook](https://jupyter.org/) verwenden wollen können Sie die Auswertung, Skripte und ggf. bildliche Darstellungen mit Hilfe von [python](https://www.python.org/) ebenfalls hier einfügen. Löschen Sie hierzu diesen kursiv gestellten Text aus dem Dokument.* \n",
    "\n",
    "---"
   ]
  },
  {
   "cell_type": "markdown",
   "id": "66f60b58-6aac-4a8b-bb6a-adad17f3c95a",
   "metadata": {},
   "source": [
    "### Aufgabe 4.2: Induktivität\n",
    "\n",
    "Messen Sie bei einer Frequenz von $\\omega/2\\pi=30\\,\\mathrm{Hz}$ die Induktivität $L$ und den Verlustwiderstand $R$ der Spule. Schließen Sie hierzu die Spule in Reihe mit einem $110\\,\\Omega$-Vorwiderstand an den Ihnen zur Verfügung stehenden Sinuswellen-Frequenzgenerator an, dessen Ausgangsspannung im so belasteten Zustand auf etwa $0,2\\,\\mathrm{V}$ eingestellt werden sollte. Aus den gemessenen Spannungswerten am Generator ($U_{G}$), am $110\\,\\Omega$-Widerstand ($U_{W}$) und an der Spule (einschließlich Verlustwiderstand, $U_{S}$) lassen sich anhand eines Zeigerdiagramms in der komplexen Ebene $\\omega$, $L$ und $R$ berechnen. Beachten Sie hierzu die Hinweise zu diesem Versuch.\n",
    "\n",
    " ---"
   ]
  },
  {
   "cell_type": "markdown",
   "id": "150973f7-01c7-40e7-b99a-8ccd437ea3c5",
   "metadata": {},
   "source": [
    "**Lösung:**\n",
    "\n",
    "*Sie können Ihr Protokoll direkt in dieses Dokument einfügen. Wenn Sie dieses Dokument als Grundlage für ein [Jupyter notebook](https://jupyter.org/) verwenden wollen können Sie die Auswertung, Skripte und ggf. bildliche Darstellungen mit Hilfe von [python](https://www.python.org/) ebenfalls hier einfügen. Löschen Sie hierzu diesen kursiv gestellten Text aus dem Dokument.* \n",
    "\n",
    "---"
   ]
  },
  {
   "cell_type": "markdown",
   "id": "51243771-39ab-4b0e-9050-d90e3a9d4733",
   "metadata": {},
   "source": [
    "### Aufgabe 4.3: Parallelschwingkreis\n",
    "\n",
    "Bestimmen Sie die Induktivität $L$, den Verlustwiderstand $R$ und die Kapazität $C$ eines Parallelschwingkreises aus seinem Verhalten im Resonanzfall. Schalten Sie hierzu die Spule und den Kondensator parallel und schließen Sie diesen Schwingkreis über den Vorwiderstand von $1\\,\\mathrm{M\\Omega}$ an den Sinuswellen-Frequenzgenerator an. Verwenden Sie die maximale Ausgangsspannung. Schließen Sie außerdem das Ihnen zur Verfügung stehende Oszilloskop und Keithley Multimeter an (siehe Schaltskizze 1, in der alten Anleitung). Messen Sie dann in Abhängigkeit der Frequenz (im Bereich $100$ bis $400\\,\\mathrm{Hz}$ in $20$- bis $5\\,\\mathrm{Hz}$-Schritten, je nach Resonanznähe die folgenden Größen:\n",
    "\n",
    " * Die Spannung $U$ am Resonanzschaltkreis mit dem Multimeter. \n",
    " * Die Phasenverschiebung ($\\Delta t$) mit dem Oszilloskop. \n",
    "\n",
    "Das Multimeter liefert Ihnen auch die genaue Frequenz $\\nu$. Berechnen Sie aus $\\nu$ und $\\Delta t$ die Phase $\\Delta\\phi$. Tragen Sie die Verläufe von $U$ und $\\Delta\\phi$ als Funktion von $\\nu$ auf. Diskutieren Sie den Verlauf der Phase qualitativ. Ermitteln Sie die Resonanzkreisfrequenz $\\omega_{0}$, Halbwertsbreite $\\Delta\\omega$ (aus der Differenz der Kreisfrequenzen, bei denen die Spannung am Schwingkreis halb so groß ist, wie im Maximum der Resonanz) und den Resonanzwiderstand $R_{r}$. \n",
    "\n",
    "Aus diesen Kurven erhalten Sie die gefragten Größen, mit Hilfe der Beziehungen: \n",
    "\n",
    "$$\n",
    "C = \\frac{\\sqrt{3}}{\\Delta\\omega\\,R_{r}};\\qquad L = \\frac{1}{\\omega_{0}^{2}\\,C};\\qquad R = \\frac{\\Delta\\omega\\,L}{\\sqrt{3}}\n",
    "$$\n",
    "\n",
    "Zur Ableitung dieser Beziehungen ist $R$ als Serienwiderstand zu $L$ angesetzt worden. Nehmen Sie zunächst an und überprüfen Sie nachträglich, dass Sie die Messung bei quasi konstantem Strom des Generators ausgeführt haben, der durch den $1\\,\\mathrm{M\\Omega}$-Widerstand bestimmt wird.\n",
    "\n",
    "---"
   ]
  },
  {
   "cell_type": "markdown",
   "id": "57572e17-289b-4bcb-9d1c-6cd574069b73",
   "metadata": {},
   "source": [
    "**Lösung:**\n",
    "\n",
    "*Sie können Ihr Protokoll direkt in dieses Dokument einfügen. Wenn Sie dieses Dokument als Grundlage für ein [Jupyter notebook](https://jupyter.org/) verwenden wollen können Sie die Auswertung, Skripte und ggf. bildliche Darstellungen mit Hilfe von [python](https://www.python.org/) ebenfalls hier einfügen. Löschen Sie hierzu diesen kursiv gestellten Text aus dem Dokument.* \n",
    "\n",
    "---"
   ]
  },
  {
   "cell_type": "markdown",
   "id": "170904fb-860d-4c61-9358-b969a130d9a6",
   "metadata": {},
   "source": [
    "### Aufgabe 4.4: Wechselstromwiderstände von Spule und Kondensator\n",
    "\n",
    "Bestimmen Sie die Wechselstromwiderstände von Spule und Kondensator einzeln bei der Frequenz $\\omega_{0}$, wie in **Aufgabe 4.3** bestimmt, jeweils durch Messung von Strom und Spannung. Berechnen Sie daraus $L$ und $C$. Warum müssen Sie nicht eine Messung nach Art von **Aufgabe 4.2** durchführen, um auch den Verlustwiderstand der Spule bei dieser Frequenz zu ermitteln?\n",
    "\n",
    "---"
   ]
  },
  {
   "cell_type": "markdown",
   "id": "085b30d1-099f-46b2-a967-34343668f698",
   "metadata": {},
   "source": [
    "**Lösung:**\n",
    "\n",
    "*Sie können Ihr Protokoll direkt in dieses Dokument einfügen. Wenn Sie dieses Dokument als Grundlage für ein [Jupyter notebook](https://jupyter.org/) verwenden wollen können Sie die Auswertung, Skripte und ggf. bildliche Darstellungen mit Hilfe von [python](https://www.python.org/) ebenfalls hier einfügen. Löschen Sie hierzu diesen kursiv gestellten Text aus dem Dokument.* \n",
    "\n",
    "---"
   ]
  },
  {
   "cell_type": "markdown",
   "id": "b4981f3d-8aed-49fe-bf5c-e0d57a0b5e79",
   "metadata": {},
   "source": [
    "### Aufgabe 4.5: Innenwiderstand des Sinuswellengenerators\n",
    "\n",
    "Bestimmen Sie den reell angenommenen Innenwiderstand des Sinuswellengenerators. Belasten Sie dazu den Ausgang mit einem passenden Widerstand so, dass die Ausgangsspannung gerade auf den halben Wert der Leerlaufspannung sinkt. Wie groß ist die maximale Ausgangsleistung des Sinuswellengenerators?\n",
    "\n",
    "---"
   ]
  },
  {
   "cell_type": "markdown",
   "id": "21dfcf6b-6117-40a9-bbe4-eaaa027b792a",
   "metadata": {},
   "source": [
    "**Lösung:**\n",
    "\n",
    "*Sie können Ihr Protokoll direkt in dieses Dokument einfügen. Wenn Sie dieses Dokument als Grundlage für ein [Jupyter notebook](https://jupyter.org/) verwenden wollen können Sie die Auswertung, Skripte und ggf. bildliche Darstellungen mit Hilfe von [python](https://www.python.org/) ebenfalls hier einfügen. Löschen Sie hierzu diesen kursiv gestellten Text aus dem Dokument.* \n",
    "\n",
    "---"
   ]
  }
 ],
 "metadata": {
  "kernelspec": {
   "display_name": "Python 3 (ipykernel)",
   "language": "python",
   "name": "python3"
  },
  "language_info": {
   "codemirror_mode": {
    "name": "ipython",
    "version": 3
   },
   "file_extension": ".py",
   "mimetype": "text/x-python",
   "name": "python",
   "nbconvert_exporter": "python",
   "pygments_lexer": "ipython3",
   "version": "3.10.12"
  }
 },
 "nbformat": 4,
 "nbformat_minor": 5
}
