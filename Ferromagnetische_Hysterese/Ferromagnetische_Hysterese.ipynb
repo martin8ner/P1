{
 "cells": [
  {
   "cell_type": "markdown",
   "id": "885c7767-e912-4e31-b5d6-3a3443ffa58e",
   "metadata": {},
   "source": [
    "# Fakultät für Physik\n",
    "\n",
    "## Physikalisches Praktikum P1 für Studierende der Physik\n",
    "\n",
    "Versuch P1-83, 84, 85 (Stand: Oktober 2023)\n",
    "\n",
    "[Raum F1-16](https://labs.physik.kit.edu/img/Praktikum/Lageplan_P1.png)\n",
    "\n",
    "\n",
    "\n",
    "# Ferromagnetische Hysterese"
   ]
  },
  {
   "cell_type": "markdown",
   "id": "02723acd-b4da-43cb-8534-d52f27e5e556",
   "metadata": {},
   "source": [
    "Name: __________________ Vorname: __________________ E-Mail: __________________\n",
    "\n",
    "\\begin{equation*}\n",
    "\\begin{split}\n",
    "&\\\\\n",
    "&\\\\\n",
    "\\end{split}\n",
    "\\end{equation*}\n",
    "\n",
    "Name: __________________ Vorname: __________________ E-Mail: __________________\n",
    "\n",
    "\\begin{equation*}\n",
    "\\begin{split}\n",
    "&\\\\\n",
    "&\\\\\n",
    "&\\\\\n",
    "\\end{split}\n",
    "\\end{equation*}\n",
    "\n",
    "Gruppennummer: _____\n",
    "\n",
    "\\begin{equation*}\n",
    "\\begin{split}\n",
    "&\\\\\n",
    "&\\\\\n",
    "&\\\\\n",
    "\\end{split}\n",
    "\\end{equation*}\n",
    "\n",
    "\n",
    "Betreuer: __________________\n",
    "\n",
    "\\begin{equation*}\n",
    "\\begin{split}\n",
    "&\\\\\n",
    "&\\\\\n",
    "&\\\\\n",
    "\\end{split}\n",
    "\\end{equation*}\n",
    "\n",
    "Versuch durchgeführt am: __________________"
   ]
  },
  {
   "cell_type": "markdown",
   "id": "bd1ced8c-5364-400f-b2ab-cd86a81d5eda",
   "metadata": {},
   "source": [
    "---\n",
    "\n",
    "**Beanstandungen:**\n",
    "\n",
    "\\begin{equation*}\n",
    "\\begin{split}\n",
    "&\\\\\n",
    "&\\\\\n",
    "&\\\\\n",
    "&\\\\\n",
    "&\\\\\n",
    "&\\\\\n",
    "&\\\\\n",
    "&\\\\\n",
    "&\\\\\n",
    "&\\\\\n",
    "\\end{split}\n",
    "%\\text{\\vspace{10cm}}\n",
    "\\end{equation*}\n",
    "\n",
    "<br>\n",
    "Testiert am: __________________ Testat: __________________"
   ]
  },
  {
   "cell_type": "markdown",
   "id": "305b8433-7bc6-4a3c-b0e6-fa5c8955849a",
   "metadata": {},
   "source": [
    "# Durchführung\n",
    "\n",
    "## Aufgabe 1: Induktivität und Verlustwiderstand einer luftgefüllten Spule\n",
    "\n",
    "Lassen Sie durch eine Reihenschaltung eines $10\\,\\Omega$-Widerstands und einer Transformatorspule (ohne Eisenkern) mit 1000-Windungen\n",
    "einen Wechselstrom von $I_{\\mathrm{eff}}\\approx 300\\,\\mathrm{mA}$ fließen. \n",
    "\n",
    " * Messen Sie oszillographisch die Spannungsamplituden an Spule und Widerstand, sowie die Zeitdifferenz $\\Delta t$ zwischen den entsprechenden Nulldurchgängen der beiden Spannungen. Berechnen Sie daraus die Spuleninduktivität $L$ und den Verlustwiderstand $R$ der Spule.\n",
    " * Wiederholen Sie die Messung für $I_{\\mathrm{eff}}\\approx 30\\,\\mathrm{mA}$.\n",
    " * Berechnen Sie aus den angegebenen Spulendaten (siehe Abschnitt Zubehör in der alten Anleitung) näherungsweise die erwartete Induktivität und den erwarteten Widerstand der Spule und vergleichen Sie Ihre Messungen mit dieser Erwartung.\n",
    "\n",
    "---"
   ]
  },
  {
   "cell_type": "markdown",
   "id": "375bc285-33cc-43cc-bf8f-9247c1431ae4",
   "metadata": {},
   "source": [
    "**Lösung:**\n",
    "\n",
    "*Sie können Ihr Protokoll direkt in dieses Dokument einfügen. Wenn Sie dieses Dokument als Grundlage für ein [Jupyter notebook](https://jupyter.org/) verwenden wollen können Sie die Auswertung, Skripte und ggf. bildliche Darstellungen mit Hilfe von [python](https://www.python.org/) ebenfalls hier einfügen. Löschen Sie hierzu diesen kursiv gestellten Text aus dem Dokument.* \n",
    "\n",
    "---"
   ]
  },
  {
   "cell_type": "markdown",
   "id": "20887c3e-9c2e-4cf2-918e-c6091ec8f900",
   "metadata": {},
   "source": [
    "## Aufgabe 2: Induktivität und Verlustwiderstand einer Spule mit geschlossenem Eisenkern\n",
    "\n",
    " * Wiederholen Sie die Messungen von **Aufgabe 1**, jedoch bei $I_{\\mathrm{eff}} \\approx 10\\,\\mathrm{mA}$ und $I_{\\mathrm{eff}}\\approx 30\\,\\mathrm{mA}$ (oder maximalem Strom, falls $30\\,\\mathrm{mA}$ nicht erreicht werden können).\n",
    " * Berechnen Sie aus den gemessenen Induktivitätswerten, den Spulen- und den Eisenkerndaten die zugehörigen relativen Wechselfeld-Permeabilitätswerte und die Gesamtverlustleistungen.\n",
    "\n",
    "---"
   ]
  },
  {
   "cell_type": "markdown",
   "id": "4ff10d07-87d1-4a2a-a7ef-a7014dc727b6",
   "metadata": {},
   "source": [
    "**Lösung:**\n",
    "\n",
    "*Sie können Ihr Protokoll direkt in dieses Dokument einfügen. Wenn Sie dieses Dokument als Grundlage für ein [Jupyter notebook](https://jupyter.org/) verwenden wollen können Sie die Auswertung, Skripte und ggf. bildliche Darstellungen mit Hilfe von [python](https://www.python.org/) ebenfalls hier einfügen. Löschen Sie hierzu diesen kursiv gestellten Text aus dem Dokument.* \n",
    "\n",
    "---"
   ]
  },
  {
   "cell_type": "markdown",
   "id": "97b7053b-f7c8-471f-bd76-01bb183198e0",
   "metadata": {},
   "source": [
    "## Aufgabe 3: Ferromagnetische Hysterese und Ummagnetisierungsverluste\n",
    "\n",
    "### Aufgabe 3.1: Hysteresekurve \n",
    "\n",
    " * Stellen Sie oszillographisch die Magnetisierungskurve (Hysteresekurve) $B$ als Funktion von $H$ des Eisenkerns bei den Primärkreis-Wechselströmen von $I_{\\mathrm{eff}}\\approx 10\\,\\mathrm{mA}$ und $I_{\\mathrm{eff}}\\approx 30\\,\\mathrm{mA}$ (gleiche Werte wie für **Aufgabe 2**) dar.\n",
    " * Als Maß für $H$ benutzen Sie den Spannungsabfall an einem $10\\,\\Omega$-Widerstand im Kreis der felderzeugenden Spule (mit 1000 Windungen) und als Maß für $B$ das Integral über die in einer zweiten Spule (mit 50 Windungen) induzierte Spannung. Benutzen Sie als Integrator ein geeignet dimensioniertes $RC$-Glied (d.h. $R\\,C\\,\\omega\\gg1$).\n",
    " * Kalibrieren Sie für die Auswertung rechnerisch die $H$-Achsen in $\\mathrm{A/m}$ und die $B$-Achsen in $\\mathrm{Vs/m^{2}}$.\n",
    "\n",
    "---"
   ]
  },
  {
   "cell_type": "markdown",
   "id": "c81ae931-21c9-4eff-bb7b-259cf64b3c5e",
   "metadata": {},
   "source": [
    "**Lösung:**\n",
    "\n",
    "*Sie können Ihr Protokoll direkt in dieses Dokument einfügen. Wenn Sie dieses Dokument als Grundlage für ein [Jupyter notebook](https://jupyter.org/) verwenden wollen können Sie die Auswertung, Skripte und ggf. bildliche Darstellungen mit Hilfe von [python](https://www.python.org/) ebenfalls hier einfügen. Löschen Sie hierzu diesen kursiv gestellten Text aus dem Dokument.* \n",
    "\n",
    "---"
   ]
  },
  {
   "cell_type": "markdown",
   "id": "66f60b58-6aac-4a8b-bb6a-adad17f3c95a",
   "metadata": {},
   "source": [
    "### Aufgabe 3.2: Wechselfeld-Permeabilität \n",
    "\n",
    " * Entnehmen Sie den Hysteresekurven mit Hilfe der Messfunktionen der Software des USB-Pikoscope Näherungswerte für die relative Wechselfeld-Permeabilität.\n",
    " * Ermitteln Sie dann das Integral \n",
    "$$\n",
    "\\oint \\vec{B}\\cdot\\mathrm{d}\\vec{H},\n",
    "$$ \n",
    "das die Ummagnetisierungsarbeit pro Volumeneinheit und Umlauf angibt. Berechnen Sie daraus die Ummagnetisierungsverlustleistung des Eisenkerns, sowie den zugehörigen äquivalenten Verlustwiderstand.\n",
    " * Vergleichen Sie die ermittelten Werte der Wechselfeld-Permeabilität und Verlustleistung mit den Werten, die Sie aus den **Aufgaben 1** und **2** ermittelt haben. Sie werden feststellen, dass die Summe der aus der Hysterese ermittelten Ummagnetisierungsverlustleistung und der Drahtwiderstandsverlustleistung (aus **Aufgabe 1**) nicht exakt mit der Gesamtverlustleistung (aus **Aufgabe 2**) übereinstimmt. Diskutieren Sie, was die hauptsächliche Ursache hierfür sein könnte?\n",
    "\n",
    "---"
   ]
  },
  {
   "cell_type": "markdown",
   "id": "150973f7-01c7-40e7-b99a-8ccd437ea3c5",
   "metadata": {},
   "source": [
    "**Lösung:**\n",
    "\n",
    "*Sie können Ihr Protokoll direkt in dieses Dokument einfügen. Wenn Sie dieses Dokument als Grundlage für ein [Jupyter notebook](https://jupyter.org/) verwenden wollen können Sie die Auswertung, Skripte und ggf. bildliche Darstellungen mit Hilfe von [python](https://www.python.org/) ebenfalls hier einfügen. Löschen Sie hierzu diesen kursiv gestellten Text aus dem Dokument.* \n",
    "\n",
    "---"
   ]
  },
  {
   "cell_type": "markdown",
   "id": "b28379d3-99b6-4e64-8309-2b9cdbff4150",
   "metadata": {},
   "source": [
    "## Aufgabe 4: Sättigungsinduktion, Remanenz, Koerzitivkraft und magnetische Härte\n",
    "\n",
    " * Stellen Sie sowohl für den Eisenkern (bei $I_{\\mathrm{eff}}\\approx 0,29\\,\\mathrm{A}$; 250 Windungen der felderzeugenden Spule) als auch für\n",
    "den Ferrit-Schalenkern (bei $I_{\\mathrm{eff}}\\approx 25\\,\\mathrm{mA}$; 250 Windungen der felderzeugenden Spule) oszillographisch Hysteresekurven dar, die den Sättigungseffekt erkennen lassen.\n",
    " * Ermitteln Sie jeweils die Remanenz, die Koerzitivkraft, die Ummagnetisierungsverlustleistung und (durch Extrapolation) die Sättigungsinduktion. \n",
    " * Kalibrieren Sie hierzu wieder die Achsen in $\\mathrm{A/m}$ und $\\mathrm{Vs/m^{2}}$, wie für **Aufgabe 1**.\n",
    "\n",
    "---"
   ]
  },
  {
   "cell_type": "markdown",
   "id": "dcaa3913-4a31-4ecd-ac08-bccdfb67a227",
   "metadata": {},
   "source": [
    "**Lösung:**\n",
    "\n",
    "*Sie können Ihr Protokoll direkt in dieses Dokument einfügen. Wenn Sie dieses Dokument als Grundlage für ein [Jupyter notebook](https://jupyter.org/) verwenden wollen können Sie die Auswertung, Skripte und ggf. bildliche Darstellungen mit Hilfe von [python](https://www.python.org/) ebenfalls hier einfügen. Löschen Sie hierzu diesen kursiv gestellten Text aus dem Dokument.* \n",
    "\n",
    "---"
   ]
  }
 ],
 "metadata": {
  "kernelspec": {
   "display_name": "Python 3 (ipykernel)",
   "language": "python",
   "name": "python3"
  },
  "language_info": {
   "codemirror_mode": {
    "name": "ipython",
    "version": 3
   },
   "file_extension": ".py",
   "mimetype": "text/x-python",
   "name": "python",
   "nbconvert_exporter": "python",
   "pygments_lexer": "ipython3",
   "version": "3.10.12"
  }
 },
 "nbformat": 4,
 "nbformat_minor": 5
}
