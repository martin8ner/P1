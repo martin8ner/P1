{
 "cells": [
  {
   "cell_type": "markdown",
   "id": "885c7767-e912-4e31-b5d6-3a3443ffa58e",
   "metadata": {},
   "source": [
    "# Fakultät für Physik\n",
    "\n",
    "## Physikalisches Praktikum P1 für Studierende der Physik\n",
    "\n",
    "Versuch P1-26, 27, 28 (Stand: Oktober 2023)\n",
    "\n",
    "[Raum F1-15](https://labs.physik.kit.edu/img/Praktikum/Lageplan_P1.png)\n",
    "\n",
    "\n",
    "\n",
    "# Kreisel"
   ]
  },
  {
   "cell_type": "markdown",
   "id": "02723acd-b4da-43cb-8534-d52f27e5e556",
   "metadata": {},
   "source": [
    "Name: __________________ Vorname: __________________ E-Mail: __________________\n",
    "\n",
    "\\begin{equation*}\n",
    "\\begin{split}\n",
    "&\\\\\n",
    "&\\\\\n",
    "\\end{split}\n",
    "\\end{equation*}\n",
    "\n",
    "Name: __________________ Vorname: __________________ E-Mail: __________________\n",
    "\n",
    "\\begin{equation*}\n",
    "\\begin{split}\n",
    "&\\\\\n",
    "&\\\\\n",
    "&\\\\\n",
    "\\end{split}\n",
    "\\end{equation*}\n",
    "\n",
    "Gruppennummer: _____\n",
    "\n",
    "\\begin{equation*}\n",
    "\\begin{split}\n",
    "&\\\\\n",
    "&\\\\\n",
    "&\\\\\n",
    "\\end{split}\n",
    "\\end{equation*}\n",
    "\n",
    "\n",
    "Betreuer: __________________\n",
    "\n",
    "\\begin{equation*}\n",
    "\\begin{split}\n",
    "&\\\\\n",
    "&\\\\\n",
    "&\\\\\n",
    "\\end{split}\n",
    "\\end{equation*}\n",
    "\n",
    "Versuch durchgeführt am: __________________"
   ]
  },
  {
   "cell_type": "markdown",
   "id": "bd1ced8c-5364-400f-b2ab-cd86a81d5eda",
   "metadata": {},
   "source": [
    "---\n",
    "\n",
    "**Beanstandungen:**\n",
    "\n",
    "\\begin{equation*}\n",
    "\\begin{split}\n",
    "&\\\\\n",
    "&\\\\\n",
    "&\\\\\n",
    "&\\\\\n",
    "&\\\\\n",
    "&\\\\\n",
    "&\\\\\n",
    "&\\\\\n",
    "&\\\\\n",
    "&\\\\\n",
    "\\end{split}\n",
    "%\\text{\\vspace{10cm}}\n",
    "\\end{equation*}\n",
    "\n",
    "<br>\n",
    "Testiert am: __________________ Testat: __________________"
   ]
  },
  {
   "cell_type": "markdown",
   "id": "305b8433-7bc6-4a3c-b0e6-fa5c8955849a",
   "metadata": {},
   "source": [
    "# Durchführung\n",
    "\n",
    "## Aufgabe 1: Physik starrer Körper\n",
    "\n",
    "**Hinweise zu allen hier durchzuführenden Messungen finden Sie in der Datei [Hinweise-Aufgabe-1.md](https://gitlab.kit.edu/kit/etp-lehre/p1-praktikum/students/-/blob/main/Kreisel/doc/Hinweise-Aufgabe-1.md).**\n",
    "\n",
    "Bei dieser Aufgabe handelt es sich um **Demonstrationsversuche**, die Sie sich gemeinsam mit Ihrem:r Tutor:in während der Praktikumsvorbesprechung überlegen und im Anschluß durchführen können, um sich durch eigene Erfahrung mit der Physik starrer Körper vertraut zu machen. Wir empfehlen Ihnen, die nötige Zeit für die entsprechenden Versuche einzuräumen und jedem:r Teilnehmer:in die Versuche, bei denen Sie selbst das Studienobjekt sind, selbst durchzuführen.\n",
    "\n",
    "### Aufgabe 1.1: Drehimpulserhaltung\n",
    "\n",
    "Um persönliche Erfahrungen mit der Drehimpulserhaltung zu sammeln, stehen Ihnen ein Drehschemel und ein Rad mit zwei Griffen und Zugband zur Verfügung. Notieren Sie Ihre Erfahrungen und diskutieren Sie die zugrundeliegenden physikalischen Effekte.\n",
    "\n",
    "---"
   ]
  },
  {
   "cell_type": "markdown",
   "id": "375bc285-33cc-43cc-bf8f-9247c1431ae4",
   "metadata": {},
   "source": [
    "**Lösung:**\n",
    "\n",
    "*Sie können Ihr Protokoll direkt in dieses Dokument einfügen. Wenn Sie dieses Dokument als Grundlage für ein [Jupyter notebook](https://jupyter.org/) verwenden wollen können Sie die Auswertung, Skripte und ggf. bildliche Darstellungen mit Hilfe von [python](https://www.python.org/) ebenfalls hier einfügen. Löschen Sie hierzu diesen kursiv gestellten Text aus dem Dokument.* \n",
    "\n",
    "---"
   ]
  },
  {
   "cell_type": "markdown",
   "id": "20887c3e-9c2e-4cf2-918e-c6091ec8f900",
   "metadata": {},
   "source": [
    "### Aufgabe 1.2: Trägheitstensor\n",
    "\n",
    "Um Erfahrungen mit dem Trägheitstensor zu sammeln steht Ihnen ein Aufbau zur Verfügung, mit dem Sie entsprechend präparierte Holzkisten in ihren Schwerpunkten aufhängen und in Rotation versetzen können. Notieren Sie Ihre Erfahrungen und diskutieren Sie die zugrundeliegenden physikalischen Effekte.\n",
    "\n",
    "---"
   ]
  },
  {
   "cell_type": "markdown",
   "id": "4ff10d07-87d1-4a2a-a7ef-a7014dc727b6",
   "metadata": {},
   "source": [
    "**Lösung:**\n",
    "\n",
    "*Sie können Ihr Protokoll direkt in dieses Dokument einfügen. Wenn Sie dieses Dokument als Grundlage für ein [Jupyter notebook](https://jupyter.org/) verwenden wollen können Sie die Auswertung, Skripte und ggf. bildliche Darstellungen mit Hilfe von [python](https://www.python.org/) ebenfalls hier einfügen. Löschen Sie hierzu diesen kursiv gestellten Text aus dem Dokument.* \n",
    "\n",
    "---"
   ]
  },
  {
   "cell_type": "markdown",
   "id": "335cd2f4-efc6-4072-9ab7-d4a240eb220d",
   "metadata": {},
   "source": [
    "### Aufgabe 1.3: Kreiselkompass\n",
    "\n",
    "Für diesen Versuch steht Ihnen ein [kardanisch](https://de.wikipedia.org/wiki/Kardanische_Aufh%C3%A4ngung) gelagerter Kreisel auf einer drehbaren Grundfläche zur Verfügung, der sich gegen die Grundfläche kippen lässt. Der innere Kardanrahmen ist durch Arretierfedern fixiert. Beschreiben und diskutieren Sie das Verhalten des Kreisel nachdem Sie zunächst den Kreisel und dann seine Standfläche in Rotation versetzt haben. \n",
    "\n",
    "---"
   ]
  },
  {
   "cell_type": "markdown",
   "id": "aaf9c2e9-f6cf-4a3b-bfc9-796841dca7ed",
   "metadata": {},
   "source": [
    "**Lösung:**\n",
    "\n",
    "*Sie können Ihr Protokoll direkt in dieses Dokument einfügen. Wenn Sie dieses Dokument als Grundlage für ein [Jupyter notebook](https://jupyter.org/) verwenden wollen können Sie die Auswertung, Skripte und ggf. bildliche Darstellungen mit Hilfe von [python](https://www.python.org/) ebenfalls hier einfügen. Löschen Sie hierzu diesen kursiv gestellten Text aus dem Dokument.* \n",
    "\n",
    "---"
   ]
  },
  {
   "cell_type": "markdown",
   "id": "97b7053b-f7c8-471f-bd76-01bb183198e0",
   "metadata": {},
   "source": [
    "## Aufgabe 2: Kardanisch gelagerter Kreisel\n",
    "\n",
    "**Hinweise zu allen hier durchzuführenden Messungen finden Sie in der Datei [Hinweise-Aufgabe-2.md](https://gitlab.kit.edu/kit/etp-lehre/p1-praktikum/students/-/blob/main/Kreisel/doc/Hinweise-Aufgabe-2.md).**\n",
    "\n",
    "Im Verlauf dieses Versuchs untersuchen Sie den [kardanisch](https://de.wikipedia.org/wiki/Kardanische_Aufh%C3%A4ngung) gelagerten Kreisel quantitativ. Sie lernen dabei mehrere charakteristische Eigenschaften symmetrischer Kreisel kennen. Sie bestimmen die Trägheitsmomente entlang der [Hauptträgheitsachsen](https://de.wikipedia.org/wiki/Haupttr%C3%A4gheitsachse) des Kreisels und schätzen die Masse des Kreiselrotors ab.   \n",
    "\n",
    "### Aufgabe 2.1: Dämpfung\n",
    "\n",
    "Bestimmen Sie die Dämpfung des Kreisels aus einer Messreihe von mindestens 30 Punkten. Stellen Sie die Kreisfrequenz $\\omega$ des Kreisels geeignet als Funktion der Zeit $t$ dar.\n",
    "\n",
    "---"
   ]
  },
  {
   "cell_type": "markdown",
   "id": "c81ae931-21c9-4eff-bb7b-259cf64b3c5e",
   "metadata": {},
   "source": [
    "**Lösung:**\n",
    "\n",
    "*Sie können Ihr Protokoll direkt in dieses Dokument einfügen. Wenn Sie dieses Dokument als Grundlage für ein [Jupyter notebook](https://jupyter.org/) verwenden wollen können Sie die Auswertung, Skripte und ggf. bildliche Darstellungen mit Hilfe von [python](https://www.python.org/) ebenfalls hier einfügen. Löschen Sie hierzu diesen kursiv gestellten Text aus dem Dokument.* \n",
    "\n",
    "---"
   ]
  },
  {
   "cell_type": "markdown",
   "id": "66f60b58-6aac-4a8b-bb6a-adad17f3c95a",
   "metadata": {},
   "source": [
    "### Aufgabe 2.2: Nutation\n",
    "\n",
    " * Bestimmen Sie die Nutationsfrequenz $\\omega_{N}$ des Kreisels als Funktion von $\\omega$. Nehmen Sie eine Messreihe mit mindestens 30 Messpunkten auf und stellen Sie sie geeignet dar. \n",
    " * Wiederholen Sie die Messreihe für eine Konfiguration in der Sie zwei Zylindergewichte zusätzlich an den äußeren Kardanrahmen der Kreiselaufhängung geschraubt haben.  \n",
    "\n",
    " ---"
   ]
  },
  {
   "cell_type": "markdown",
   "id": "150973f7-01c7-40e7-b99a-8ccd437ea3c5",
   "metadata": {},
   "source": [
    "**Lösung:**\n",
    "\n",
    "*Sie können Ihr Protokoll direkt in dieses Dokument einfügen. Wenn Sie dieses Dokument als Grundlage für ein [Jupyter notebook](https://jupyter.org/) verwenden wollen können Sie die Auswertung, Skripte und ggf. bildliche Darstellungen mit Hilfe von [python](https://www.python.org/) ebenfalls hier einfügen. Löschen Sie hierzu diesen kursiv gestellten Text aus dem Dokument.* \n",
    "\n",
    "---"
   ]
  },
  {
   "cell_type": "markdown",
   "id": "60568a02-3549-4afd-a4d0-6975255e804c",
   "metadata": {},
   "source": [
    "### Aufgabe 2.3: Präzession\n",
    "\n",
    "Bestimmen Sie Präzessionsfrequenz $\\Omega$ des nutationsfreien, symmetrischen Kreisels als Funktion von $\\omega$. Tun Sie dies, indem Sie einen Metallstab als zusätzliches Gewicht in den inneren Kardanrahmen der Kreiselaufhängung schrauben. Nehmen Sie eine Messreihe mit midestens 30 Messpunkten auf und stellen Sie sie geeignet dar.\n",
    "\n",
    " ---"
   ]
  },
  {
   "cell_type": "markdown",
   "id": "0a035bc1-cf81-4a36-a1fa-c5568171aaad",
   "metadata": {},
   "source": [
    "**Lösung:**\n",
    "\n",
    "*Sie können Ihr Protokoll direkt in dieses Dokument einfügen. Wenn Sie dieses Dokument als Grundlage für ein [Jupyter notebook](https://jupyter.org/) verwenden wollen können Sie die Auswertung, Skripte und ggf. bildliche Darstellungen mit Hilfe von [python](https://www.python.org/) ebenfalls hier einfügen. Löschen Sie hierzu diesen kursiv gestellten Text aus dem Dokument.* \n",
    "\n",
    "---"
   ]
  },
  {
   "cell_type": "markdown",
   "id": "0444a5d9-9aa9-45ac-8694-d4684c21715d",
   "metadata": {},
   "source": [
    "### Aufgabe 2.4: Trägheitsmomente entlang der Hauptträgheitsachsen\n",
    "\n",
    " * Berechnen Sie aus den Messungen die Sie im Rahmen der **Aufgaben 2.2** und **2.3** durchgeführt haben, die Trägheitsmomente $\\theta_{x}$, $\\theta_{y}$ und $\\theta_{z}$ entlang der Hauptträgheitsachsen.\n",
    " * Schätzen Sie aus Ihren Berechnungen die Masse $M$ des Kreiselrotors ab.\n",
    "\n",
    " ---"
   ]
  },
  {
   "cell_type": "markdown",
   "id": "a071ed7a-edd1-4070-a249-7f4fb5414146",
   "metadata": {},
   "source": [
    "**Lösung:**\n",
    "\n",
    "*Sie können Ihr Protokoll direkt in dieses Dokument einfügen. Wenn Sie dieses Dokument als Grundlage für ein [Jupyter notebook](https://jupyter.org/) verwenden wollen können Sie die Auswertung, Skripte und ggf. bildliche Darstellungen mit Hilfe von [python](https://www.python.org/) ebenfalls hier einfügen. Löschen Sie hierzu diesen kursiv gestellten Text aus dem Dokument.* \n",
    "\n",
    "---"
   ]
  }
 ],
 "metadata": {
  "kernelspec": {
   "display_name": "Python 3 (ipykernel)",
   "language": "python",
   "name": "python3"
  },
  "language_info": {
   "codemirror_mode": {
    "name": "ipython",
    "version": 3
   },
   "file_extension": ".py",
   "mimetype": "text/x-python",
   "name": "python",
   "nbconvert_exporter": "python",
   "pygments_lexer": "ipython3",
   "version": "3.10.12"
  }
 },
 "nbformat": 4,
 "nbformat_minor": 5
}
