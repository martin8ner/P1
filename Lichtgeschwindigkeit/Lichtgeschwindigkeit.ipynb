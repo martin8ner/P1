{
 "cells": [
  {
   "cell_type": "markdown",
   "id": "20220dbb-496c-405d-8e0a-ba9a0bb234a7",
   "metadata": {},
   "source": [
    "# Fakultät für Physik\n",
    "\n",
    "## Physikalisches Praktikum P1 für Studierende der Physik\n",
    "\n",
    "Versuch P1-43, 44, 45 (Stand: August 2023)\n",
    "\n",
    "[Raum F1-12](https://labs.physik.kit.edu/img/Praktikum/Lageplan_P1.png)\n",
    "\n",
    "\n",
    "\n",
    "# Lichtgeschwindigkeit"
   ]
  },
  {
   "cell_type": "markdown",
   "id": "b01eaf0e-ef30-4540-b15c-728e4313f1ea",
   "metadata": {},
   "source": [
    "Name: __________________ Vorname: __________________ E-Mail: __________________\n",
    "\n",
    "\\begin{equation*}\n",
    "\\begin{split}\n",
    "&\\\\\n",
    "&\\\\\n",
    "\\end{split}\n",
    "\\end{equation*}\n",
    "\n",
    "Name: __________________ Vorname: __________________ E-Mail: __________________\n",
    "\n",
    "\\begin{equation*}\n",
    "\\begin{split}\n",
    "&\\\\\n",
    "&\\\\\n",
    "&\\\\\n",
    "\\end{split}\n",
    "\\end{equation*}\n",
    "\n",
    "Gruppennummer: _____\n",
    "\n",
    "\\begin{equation*}\n",
    "\\begin{split}\n",
    "&\\\\\n",
    "&\\\\\n",
    "&\\\\\n",
    "\\end{split}\n",
    "\\end{equation*}\n",
    "\n",
    "\n",
    "Betreuer: __________________\n",
    "\n",
    "\\begin{equation*}\n",
    "\\begin{split}\n",
    "&\\\\\n",
    "&\\\\\n",
    "&\\\\\n",
    "\\end{split}\n",
    "\\end{equation*}\n",
    "\n",
    "Versuch durchgeführt am: __________________"
   ]
  },
  {
   "cell_type": "markdown",
   "id": "fc15df57-f8ca-40ef-875e-3ee4f033df10",
   "metadata": {},
   "source": [
    "---\n",
    "\n",
    "**Beanstandungen:**\n",
    "\n",
    "\\begin{equation*}\n",
    "\\begin{split}\n",
    "&\\\\\n",
    "&\\\\\n",
    "&\\\\\n",
    "&\\\\\n",
    "&\\\\\n",
    "&\\\\\n",
    "&\\\\\n",
    "&\\\\\n",
    "&\\\\\n",
    "&\\\\\n",
    "\\end{split}\n",
    "%\\text{\\vspace{10cm}}\n",
    "\\end{equation*}\n",
    "\n",
    "<br>\n",
    "Testiert am: __________________ Testat: __________________"
   ]
  },
  {
   "cell_type": "markdown",
   "id": "928ecda0-f611-437c-a461-71543f17c258",
   "metadata": {},
   "source": [
    "# Durchführung\n",
    "\n",
    "## Aufgabe 1: Drehspiegelmethode\n",
    "\n",
    "**Hinweise zu allen hier durchzuführenden Messungen finden Sie in der Datei [Hinweise-Aufgabe-1.md](https://gitlab.kit.edu/kit/etp-lehre/p1-praktikum/students/-/tree/main/Lichtgeschwindigkeit/doc/Hinweise-Aufgabe-1.md).**\n",
    "\n",
    "### Aufgabe 1.1: Vorbereitung\n",
    "\n",
    "Diskutieren Sie das Messprinzip, den Aufbau und die Eigenschaften des Strahlengangs, basierend auf den Angaben zum Versuchsaufbau. Beantworten Sie dabei, vor Beginn der Messung, die folgenden Fragen: \n",
    "\n",
    "- Welche Aufgabe erfüllt die Linse im Strahlengang? \n",
    "- Wo sollten Sie die Linse im Strahlengang positionieren, damit sie den Ausgang des Lasers auf den Endspiegel abbildet? \n",
    "- Berechnen Sie, mit Hilfe der [Linsengleichung](https://de.wikipedia.org/wiki/Linsengleichung), die Position $\\ell$, für die der Laser als Gegenstand $G$ in ein Bild $B$ im Endspiegel abgebildet wird (siehe [Skizze](https://git.scc.kit.edu/etp-lehre/p1-for-students/-/blob/Musterprotokoll/Lichtgeschwindigkeit/figures/Drehspiegelmethode.png)).\n",
    "- Wieso ruht der beobachtete Leuchtfleck während der Messung auf der Skala, obwohl sich der Spiegel doch kontinuierlich dreht? \n",
    "- Geben Sie die Formel zur Berechnung der Lichtgeschwindigkeit an.\n",
    "- Geben Sie eine Abschätzung für die Größe des zu erwartenden Versatzes $s$ des Lichtflecks, relativ zum Fall des ruhenden Drehspiegels an.\n",
    "\n",
    "---"
   ]
  },
  {
   "cell_type": "markdown",
   "id": "48ab4816-73f8-4b8a-ab95-06f40c61e0b5",
   "metadata": {},
   "source": [
    "**Lösung:**\n",
    "\n",
    "*Sie können Ihr Protokoll direkt in dieses Dokument einfügen. Wenn Sie dieses Dokument als Grundlage für ein [Jupyter notebook](https://jupyter.org/) verwenden wollen können Sie die Auswertung, Skripte und ggf. bildliche Darstellungen mit Hilfe von [python](https://www.python.org/) ebenfalls hier einfügen. Löschen Sie hierzu diesen kursiv gestellten Text aus dem Dokument.* \n",
    "\n",
    "---"
   ]
  },
  {
   "cell_type": "markdown",
   "id": "7d010b23-cc16-4fac-a86c-1b2f7e140f65",
   "metadata": {},
   "source": [
    "### Aufgabe 1.2: Justierung der Apparatur\n",
    "\n",
    "Überprüfen Sie mit Hilfe Ihres:r Tutor:in die Justierung des Versuchs. Gehen Sie dabei am besten entlang des Strahlengangs, wie folgt, vor: \n",
    "\n",
    "- **Laser – Drehspiegel**:<br> Der horizontal ausgesandte Laserstrahl sollte den ruhenden Drehspiegel mittig treffen und horizontal wieder verlassen. \n",
    "- **Drehspiegel – Umlenkspiegel**:<br> Richten Sie den Drehspiegelwinkel so aus, dass der reflektierte Strahl (noch ohne Linse) auf die Mitte des Umlenkspiegels fällt. Decken Sie hierzu den Endspiegel ab.\n",
    "- **Umlenkspiegel – Endspiegel**:<br> Richten Sie den Umlenkspiegel so aus, dass der Strahl auf die Mitte des Endspiegels fällt. \n",
    "- **Linse**:<br> Richten Sie die Linse aus. \n",
    "- **Endspiegel – Umlenkspiegel**:<br> Richten Sie den Endspiegel so aus, dass der Strahl in sich reflektiert wird (beachten Sie die Lichtflecke auf dem Umlenkspiegel). \n",
    "- **Kontrolle und Feinjustierung**:<br> Stellen Sie durch Feinabstimmung sicher, dass der zurückkehrende Strahl den Drehspiegel und die Laseraustrittsöffnung trifft. \n",
    "- **Schirm und USB-Mikroskop**:<br> Positionieren Sie das USB-Mikroskop hinter dem Schirm mit der Skala. Laser und Skala sind gleich weit vom Strahlteiler entfernt. \n",
    "- **Frequenzmessung am Drehspiegel**:<br> Positionieren Sie den Phototransistor für die Messung der Rotationsfrequenz des Drehspiegels.\n",
    "\n",
    "Notieren Sie sich alle Besonderheiten, die Ihnen dabei auffallen. \n",
    "\n",
    "**Achtung:** Optische Apparaturen sind sehr empfindlich. Eine grundsätzliche Neujustierung des Strahlengangs kann mehrere Stunden in Anspruch nehmen. \n",
    "\n",
    "---"
   ]
  },
  {
   "cell_type": "markdown",
   "id": "918cdb06-e1b8-49e3-abe0-65fd6fbef726",
   "metadata": {},
   "source": [
    "**Lösung:**\n",
    "\n",
    "*Sie können Ihr Protokoll direkt in dieses Dokument einfügen. Wenn Sie dieses Dokument als Grundlage für ein [Jupyter notebook](https://jupyter.org/) verwenden wollen können Sie die Auswertung, Skripte und ggf. bildliche Darstellungen mit Hilfe von [python](https://www.python.org/) ebenfalls hier einfügen. Löschen Sie hierzu diesen kursiv gestellten Text aus dem Dokument.* \n",
    "\n",
    "---"
   ]
  },
  {
   "cell_type": "markdown",
   "id": "378a6f57-58fb-49c3-ad6a-7cf987cefcdc",
   "metadata": {},
   "source": [
    "### Aufgabe 1.3: Messung\n",
    "\n",
    "- Stellen Sie, zur Kalibration des Frequenzzählers, die Rotationsfrequenz des Drehspiegels, mit Hilfe der auftretenden Schwebung zwischen dem Motorengeräusch des Drehspiegels und dem Stimmgabelton für den Kammerton A ($440\\,\\mathrm{Hz}$) ein. Vergleichen Sie den erhaltenen Wert mit der elektronischen Frequenzanzeige und halten Sie den Kalibrationsfaktor in Ihrem Protokoll fest. \n",
    "- Tragen Sie eine geeignete Anzahl an Messpunkten für den Versatz $s$ des beobachteten Lichtpunkts für verschiedene Rotationsfrequenzen des Drehspiegels auf und bestimmen Sie daraus $c$.\n",
    "\n",
    "---"
   ]
  },
  {
   "cell_type": "markdown",
   "id": "cb01f214-4d74-4d75-b56b-7fc91e2931bb",
   "metadata": {},
   "source": [
    "**Lösung:**\n",
    "\n",
    "*Sie können Ihr Protokoll direkt in dieses Dokument einfügen. Wenn Sie dieses Dokument als Grundlage für ein [Jupyter notebook](https://jupyter.org/) verwenden wollen können Sie die Auswertung, Skripte und ggf. bildliche Darstellungen mit Hilfe von [python](https://www.python.org/) ebenfalls hier einfügen. Löschen Sie hierzu diesen kursiv gestellten Text aus dem Dokument.* \n",
    "\n",
    "---"
   ]
  },
  {
   "cell_type": "markdown",
   "id": "0030c710-6fb2-4243-bf4f-81e23573f360",
   "metadata": {},
   "source": [
    "## Aufgabe 2: Phasenvergleichsmethode\n",
    "\n",
    "**Hinweise zu allen hier durchzuführenden Messungen finden Sie in der Datei [Hinweise-Aufgabe-2.md](https://gitlab.kit.edu/kit/etp-lehre/p1-praktikum/students/-/tree/main/Lichtgeschwindigkeit/doc/Hinweise-Aufgabe-2.md).**\n",
    "\n",
    "### Aufgabe 2.1: Vorbereitung\n",
    "\n",
    "Beantworten Sie zur Vorbereitung auf den Versuch die folgenden Fragen: \n",
    "\n",
    "- Welche Größenordnung sollte die Frequenz $\\nu$ der Lichtwelle haben, damit Sie mit dem vorliegenden Aufbau (siehe [Datenblatt.md]()), zwischen Empfänger- und Referenzsignal, eine Phasendifferenz von $\\Delta\\varphi=0,2\\,\\pi$, d.h. einem $1/10$ der Periodendauer, auflösen können? \n",
    "- Welche Ablenkgeschwindigkeit $u$ sollte ein Oszilloskop entlang der Zeitachse haben, damit eine solche Phasenverschiebung zu einer wahrnehmbaren Verschiebung z.B. von $\\Delta d=5\\,\\mathrm{mm}$ führt? Zu Ihrer Information: Für ein einfaches Oszilloskops beträgt die Ablenkgeschwindigkeit entlang der Zeitachse $u\\lesssim 10\\,\\mathrm{cm/\\mu s}$.\n",
    "\n",
    "---"
   ]
  },
  {
   "cell_type": "markdown",
   "id": "72665356-4701-496e-96f8-b67c21237dc8",
   "metadata": {},
   "source": [
    "**Lösung:**\n",
    "\n",
    "*Sie können Ihr Protokoll direkt in dieses Dokument einfügen. Wenn Sie dieses Dokument als Grundlage für ein [Jupyter notebook](https://jupyter.org/) verwenden wollen können Sie die Auswertung, Skripte und ggf. bildliche Darstellungen mit Hilfe von [python](https://www.python.org/) ebenfalls hier einfügen. Löschen Sie hierzu diesen kursiv gestellten Text aus dem Dokument.* \n",
    "\n",
    "---"
   ]
  },
  {
   "cell_type": "markdown",
   "id": "09b67329-05f0-4dce-9068-985e2dace621",
   "metadata": {},
   "source": [
    "### Aufgabe 2.2: Justierung der Apparatur\n",
    "\n",
    "- Überprüfen Sie die Verbindungskabel anhand des Anschlussschemas auf der Frontplatte des Hauptnetzgeräts (siehe [Skizze](https://git.scc.kit.edu/etp-lehre/p1-for-students/-/blob/Musterprotokoll/Lichtgeschwindigkeit/figures/Phasenvergleichsmethode.png)). \n",
    "- Richten Sie einen möglichst parallelen Strahl vom Sender in Richtung des Empfängers ein. Nutzen Sie hierzu die Justierschrauben zur Zentrierung der Leuchtdiode des Senders und des verschiebbaren Kondensors am Lichtsendergehäuse.  \n",
    "- Stellen Sie die Sammellinse vor der Photodiode des Empfängers so auf, dass die Photodiode optimal ausgeleuchtet wird. **Achtung**: Stellen Sie sicher, dass das Lichtsignal des Senders auch bei maximalem Abstand zwischen Sender und Empfänger noch erkannt wird. Das Empfängersignal sollte bei jedem Abstand zwischen Sender und Empfänger ausreichend groß sein, die Amplitude am Empfänger sollte bei allen Entfernungen $\\pm2\\,\\mathrm{V}$ jedoch nicht überschreiten, weil die internen Mischerstufen der Elektronik sonst übersteuern und dabei die Phasenlage verfälschen.\n",
    "\n",
    "Notieren Sie sich alle Besonderheiten, die Ihnen dabei auffallen.\n",
    "\n",
    "---"
   ]
  },
  {
   "cell_type": "markdown",
   "id": "40e7ac4c-287f-4078-be5e-2dd311aaee10",
   "metadata": {},
   "source": [
    "**Lösung:**\n",
    "\n",
    "*Sie können Ihr Protokoll direkt in dieses Dokument einfügen. Wenn Sie dieses Dokument als Grundlage für ein [Jupyter notebook](https://jupyter.org/) verwenden wollen können Sie die Auswertung, Skripte und ggf. bildliche Darstellungen mit Hilfe von [python](https://www.python.org/) ebenfalls hier einfügen. Löschen Sie hierzu diesen kursiv gestellten Text aus dem Dokument.* \n",
    "\n",
    "---"
   ]
  },
  {
   "cell_type": "markdown",
   "id": "0249cf23-8976-443d-a87f-8bd6befe3168",
   "metadata": {},
   "source": [
    "### Aufgabe 2.3: Messung\n",
    "\n",
    "- Überprüfen und notieren Sie mit dem Oszilloskop die Differenzfrequenz $\\overline{\\omega}=(\\omega-\\omega')$. Dabei entspricht $\\omega=2\\,\\pi\\cdot60\\,\\mathrm{MHz}$ der Kreisfrequenz des für die Messung verwendeten Referenzsignals und $\\omega' = 2\\,\\pi\\cdot59,9\\,\\mathrm{MHz}$ der Kreisfrequenz des beigemischten Signals zum Zweck der Amplitudenmodulation. **Achtung**: Für eine zuverlässige Frequenzmessung benötigt das Oszilloskop mehrere vollständige Wellenzüge im Anzeigebereich.\n",
    "- Messen Sie, aus der Phasenverschiebung $\\Delta\\varphi$ zwischen Empfänger- und Referenzsignal, die zeitliche Differenz $\\Delta t$ zwischen Sender- und Empfängersignal, als Funktion des Abstands $\\ell$ des Senders vom Empfänger. Bestimmen Sie aus der Auftragung einer geeigneten Anzahl an Messpunkten $c$ mit entsprechender Unsicherheit $\\Delta c$.\n",
    "- Beschließen Sie diese Aufgabe damit, dass Sie $c$ durch die Bestimmung von $\\lambda /2$ mit Hilfe einer [Lissajous-Figur](https://de.wikipedia.org/wiki/Lissajous-Figur) bestimmen. Betreiben Sie das Oszilloskop hierzu im X/Y-Modus. **Achtung**: Da Sie hierzu fast die gesamte zur Verfügung stehende Strecke der Führungsschiene benötigen, müssen Sie die Phase am Betriebsgerät bei minimalem Abstand geeignet einstellen.\n",
    "\n",
    "---"
   ]
  },
  {
   "cell_type": "markdown",
   "id": "5054bd6a-4535-4042-9548-d71a3942eb44",
   "metadata": {},
   "source": [
    "**Lösung:**\n",
    "\n",
    "*Sie können Ihr Protokoll direkt in dieses Dokument einfügen. Wenn Sie dieses Dokument als Grundlage für ein [Jupyter notebook](https://jupyter.org/) verwenden wollen können Sie die Auswertung, Skripte und ggf. bildliche Darstellungen mit Hilfe von [python](https://www.python.org/) ebenfalls hier einfügen. Löschen Sie hierzu diesen kursiv gestellten Text aus dem Dokument.* \n",
    "\n",
    "---"
   ]
  },
  {
   "cell_type": "markdown",
   "id": "791d43ec-431c-44ae-9d9c-f13755dffbfa",
   "metadata": {},
   "source": [
    "## Aufgabe 3: Bestimmung des Brechungsindex $n$ von Wasser oder Plexiglas\n",
    "\n",
    "**Hinweise zu allen hier durchzuführenden Messungen finden Sie in der Datei [Hinweise-Aufgabe-3.md](https://gitlab.kit.edu/kit/etp-lehre/p1-praktikum/students/-/tree/main/Lichtgeschwindigkeit/doc/Hinweise-Aufgabe-3.md).**\n",
    "\n",
    "### Aufgabe 3.1: Bestimmung von $n$ mit der Apperatur von Aufgabe 2 \n",
    "\n",
    "Bestimmen Sie **mit dem Aufbau von Aufgabe 2** aus der Messung der Laufzeitdifferenz des Lichtstrahls im optisch dichteren Medium den Brechungsindex von ($n_{\\mathrm{H_{2}O}}$) Wasser oder ($n_{\\mathrm{Plex}}$) Plexiglas. Für Wasser ersetzen Sie $1\\,\\mathrm{m}$ Lichtweg in Luft durch $1\\,\\mathrm{m}$ Lichtweg in Wasser. Für Plexiglas verwenden Sie die $8$ und $30\\,\\mathrm{cm}$ langen Plexiglaszylinder. Die Messung mit *einem* der angebotenen Medien erfüllt diese Aufgabe bereits.\n",
    "\n",
    "---"
   ]
  },
  {
   "cell_type": "markdown",
   "id": "d1546753-fc37-4cb6-a17e-5571d90e4adf",
   "metadata": {},
   "source": [
    "**Lösung:**\n",
    "\n",
    "*Sie können Ihr Protokoll direkt in dieses Dokument einfügen. Wenn Sie dieses Dokument als Grundlage für ein [Jupyter notebook](https://jupyter.org/) verwenden wollen können Sie die Auswertung, Skripte und ggf. bildliche Darstellungen mit Hilfe von [python](https://www.python.org/) ebenfalls hier einfügen. Löschen Sie hierzu diesen kursiv gestellten Text aus dem Dokument.* \n",
    "\n",
    "---"
   ]
  },
  {
   "cell_type": "markdown",
   "id": "709d4064-4831-4329-b6b0-7349404b44db",
   "metadata": {},
   "source": [
    "### Aufgabe 3.2: Bestimmung von $n$ mit Hilfe eines Laserentfernungsmessers\n",
    "\n",
    "Heute benutzt fast jeder Handwerker einen handelsüblichen Laserentfernungsmesser, um z.B. den Abstand zweier Wandflächen eines Neubaus zu vermessen. Wiederholen Sie die Messung aus Aufgabe 3.1 mit dem im Praktikum zur Verfügung stehenden Laserentfernungsmesser. Stellen Sie hierzu eine der bereitstehenden Küvetten jeweils einmal längs und einmal quer in den Strahlengang zwischen dem Entfernungsmesser und einem beliebigen Reflektor. Berechnen Sie aus den vom Gerät angezeigten Entfernungen und den Abmessungen der Küvetten den entsprechenden Brechungsindex. \n",
    "\n",
    "Es stehen Ihnen hierzu Küvetten gefüllt mit Wasser und Silikonöl zur Verfügung. Es genügt, wenn Sie für diese Aufgabe die Messung mit *einem* Material durchführen."
   ]
  },
  {
   "cell_type": "markdown",
   "id": "be94617a-330a-410f-b0a2-478c4d939b84",
   "metadata": {},
   "source": [
    "**Lösung:**\n",
    "\n",
    "*Sie können Ihr Protokoll direkt in dieses Dokument einfügen. Wenn Sie dieses Dokument als Grundlage für ein [Jupyter notebook](https://jupyter.org/) verwenden wollen können Sie die Auswertung, Skripte und ggf. bildliche Darstellungen mit Hilfe von [python](https://www.python.org/) ebenfalls hier einfügen. Löschen Sie hierzu diesen kursiv gestellten Text aus dem Dokument.* \n",
    "\n",
    "---"
   ]
  }
 ],
 "metadata": {
  "kernelspec": {
   "display_name": "Python 3 (ipykernel)",
   "language": "python",
   "name": "python3"
  },
  "language_info": {
   "codemirror_mode": {
    "name": "ipython",
    "version": 3
   },
   "file_extension": ".py",
   "mimetype": "text/x-python",
   "name": "python",
   "nbconvert_exporter": "python",
   "pygments_lexer": "ipython3",
   "version": "3.10.12"
  }
 },
 "nbformat": 4,
 "nbformat_minor": 5
}
