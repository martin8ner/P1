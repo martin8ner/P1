{
 "cells": [
  {
   "cell_type": "markdown",
   "id": "885c7767-e912-4e31-b5d6-3a3443ffa58e",
   "metadata": {},
   "source": [
    "# Fakultät für Physik\n",
    "\n",
    "## Physikalisches Praktikum P1 für Studierende der Physik\n",
    "\n",
    "Versuch P1-31, 32, 33 (Stand: Oktober 2023)\n",
    "\n",
    "[Raum F1-15](https://labs.physik.kit.edu/img/Praktikum/Lageplan_P1.png)\n",
    "\n",
    "\n",
    "\n",
    "# Oszilloskop"
   ]
  },
  {
   "cell_type": "markdown",
   "id": "02723acd-b4da-43cb-8534-d52f27e5e556",
   "metadata": {},
   "source": [
    "Name: __________________ Vorname: __________________ E-Mail: __________________\n",
    "\n",
    "\\begin{equation*}\n",
    "\\begin{split}\n",
    "&\\\\\n",
    "&\\\\\n",
    "\\end{split}\n",
    "\\end{equation*}\n",
    "\n",
    "Name: __________________ Vorname: __________________ E-Mail: __________________\n",
    "\n",
    "\\begin{equation*}\n",
    "\\begin{split}\n",
    "&\\\\\n",
    "&\\\\\n",
    "&\\\\\n",
    "\\end{split}\n",
    "\\end{equation*}\n",
    "\n",
    "Gruppennummer: _____\n",
    "\n",
    "\\begin{equation*}\n",
    "\\begin{split}\n",
    "&\\\\\n",
    "&\\\\\n",
    "&\\\\\n",
    "\\end{split}\n",
    "\\end{equation*}\n",
    "\n",
    "\n",
    "Betreuer: __________________\n",
    "\n",
    "\\begin{equation*}\n",
    "\\begin{split}\n",
    "&\\\\\n",
    "&\\\\\n",
    "&\\\\\n",
    "\\end{split}\n",
    "\\end{equation*}\n",
    "\n",
    "Versuch durchgeführt am: __________________"
   ]
  },
  {
   "cell_type": "markdown",
   "id": "bd1ced8c-5364-400f-b2ab-cd86a81d5eda",
   "metadata": {},
   "source": [
    "---\n",
    "\n",
    "**Beanstandungen:**\n",
    "\n",
    "\\begin{equation*}\n",
    "\\begin{split}\n",
    "&\\\\\n",
    "&\\\\\n",
    "&\\\\\n",
    "&\\\\\n",
    "&\\\\\n",
    "&\\\\\n",
    "&\\\\\n",
    "&\\\\\n",
    "&\\\\\n",
    "&\\\\\n",
    "\\end{split}\n",
    "%\\text{\\vspace{10cm}}\n",
    "\\end{equation*}\n",
    "\n",
    "<br>\n",
    "Testiert am: __________________ Testat: __________________"
   ]
  },
  {
   "cell_type": "markdown",
   "id": "305b8433-7bc6-4a3c-b0e6-fa5c8955849a",
   "metadata": {},
   "source": [
    "# Durchführung\n",
    "\n",
    "## Aufgabe 1: Kennenlernen der Bedienelemente\n",
    "\n",
    "Machen Sie sich zunächst mit den wichtigsten Einstellschaltern auf der Frontplatte beider ihnen zur Verfügung stehenden Oszilloskope und mit ihrer Menüsteuerung vertraut. Dabei sollten Sie die folgenden Eigenschaften des Oszilloskops verstehen:\n",
    "\n",
    " * Die Eingangsempfindlichkeit des Verstärkers (in Volt/Division),\n",
    " * Die Signaleinkopplung (AC, DC oder Ground (GND)) \n",
    " * Die Zeitablenkung (in Time/Division) \n",
    " * Triggerkopplung, Triggerlevel und Slope (auf positiver oder negativer Flanke).\n",
    " \n",
    "Stellen Sie auf einem der beiden Eingangskanäle ein stehendes Bild eines Sinussignals dar. Bestimmen Sie mit den jeweiligen Mitteln beider Geräte die Anstiegszeit, Frequenz und Amplitude des Signals. Anhand eines $10\\,\\mathrm{Hz}$ Signals können Sie einen Vorteil des digitalen gegenüber dem analogen Oszilloskop beobachten.\n",
    "\n",
    "---"
   ]
  },
  {
   "cell_type": "markdown",
   "id": "375bc285-33cc-43cc-bf8f-9247c1431ae4",
   "metadata": {},
   "source": [
    "**Lösung:**\n",
    "\n",
    "*Sie können Ihr Protokoll direkt in dieses Dokument einfügen. Wenn Sie dieses Dokument als Grundlage für ein [Jupyter notebook](https://jupyter.org/) verwenden wollen können Sie die Auswertung, Skripte und ggf. bildliche Darstellungen mit Hilfe von [python](https://www.python.org/) ebenfalls hier einfügen. Löschen Sie hierzu diesen kursiv gestellten Text aus dem Dokument.* \n",
    "\n",
    "---"
   ]
  },
  {
   "cell_type": "markdown",
   "id": "20887c3e-9c2e-4cf2-918e-c6091ec8f900",
   "metadata": {},
   "source": [
    "## Aufgabe 2: Messungen im Zweikanalbetrieb\n",
    "\n",
    "Stellen Sie jeweils zwei Signale über derselben Zeitachse dar. Erproben und diskutieren Sie dabei die Bedeutung der Schaltungen DUAL, ADD, INV und TRIG-I/II. Machen Sie für die folgenden Aufgaben oszilloskopische Beobachtungen und fügen Sie Ihrer Auswertung entsprechende Aufnahmen und Diskussionen zu.\n",
    "\n",
    "### Aufgabe 2.1: Einweggleichrichter\n",
    "\n",
    "Verwenden Sie ein sinusförmiges Eingangssignal und betrachten Sie das Ausgangssignal eines Si-Dioden-Einweggleichrichters mit $1\\,\\mathrm{k\\Omega}$ Lastwiderstand jeweils mit und ohne Ladekondensator. Untersuchen Sie die Wirkung des Gleichrichters bei Eingangsspannungen von $0,5\\,\\mathrm{V}$, $1\\,\\mathrm{V}$, $8\\,\\mathrm{V}$ von Signalspitze zu Spitze (VSS).\n",
    "\n",
    "---"
   ]
  },
  {
   "cell_type": "markdown",
   "id": "4ff10d07-87d1-4a2a-a7ef-a7014dc727b6",
   "metadata": {},
   "source": [
    "**Lösung:**\n",
    "\n",
    "*Sie können Ihr Protokoll direkt in dieses Dokument einfügen. Wenn Sie dieses Dokument als Grundlage für ein [Jupyter notebook](https://jupyter.org/) verwenden wollen können Sie die Auswertung, Skripte und ggf. bildliche Darstellungen mit Hilfe von [python](https://www.python.org/) ebenfalls hier einfügen. Löschen Sie hierzu diesen kursiv gestellten Text aus dem Dokument.* \n",
    "\n",
    "---"
   ]
  },
  {
   "cell_type": "markdown",
   "id": "97b7053b-f7c8-471f-bd76-01bb183198e0",
   "metadata": {},
   "source": [
    "### Aufgabe 2.2: $RC$-Differenzierglied \n",
    "\n",
    "Verwenden Sie ein Dreieckssignal mit der Periodendauer $T$ als Eingangssignal und beobachten Sie das Ausgangssignal eines $RC$-Differenziergliedes (jeweils für die Spezifikationen $T\\ll R\\,C$, $T\\approx R\\,C$ und $T\\gg R\\,C$).\n",
    "\n",
    "---"
   ]
  },
  {
   "cell_type": "markdown",
   "id": "c81ae931-21c9-4eff-bb7b-259cf64b3c5e",
   "metadata": {},
   "source": [
    "**Lösung:**\n",
    "\n",
    "*Sie können Ihr Protokoll direkt in dieses Dokument einfügen. Wenn Sie dieses Dokument als Grundlage für ein [Jupyter notebook](https://jupyter.org/) verwenden wollen können Sie die Auswertung, Skripte und ggf. bildliche Darstellungen mit Hilfe von [python](https://www.python.org/) ebenfalls hier einfügen. Löschen Sie hierzu diesen kursiv gestellten Text aus dem Dokument.* \n",
    "\n",
    "---"
   ]
  },
  {
   "cell_type": "markdown",
   "id": "66f60b58-6aac-4a8b-bb6a-adad17f3c95a",
   "metadata": {},
   "source": [
    "### Aufgabe 2.3: $RC$-Integrierglied\n",
    "\n",
    "Verwenden Sie ein Rechtecksignal mit der Periodendauer $T$ als Eingangssignal und beobachten Sie das Ausgangssignal eines $RC$-Integriergliedes (jeweils für die Spezifikationen $T\\ll R\\,C$, $T\\approx R\\,C$ und $T\\gg R\\,C$).\n",
    "\n",
    " ---"
   ]
  },
  {
   "cell_type": "markdown",
   "id": "150973f7-01c7-40e7-b99a-8ccd437ea3c5",
   "metadata": {},
   "source": [
    "**Lösung:**\n",
    "\n",
    "*Sie können Ihr Protokoll direkt in dieses Dokument einfügen. Wenn Sie dieses Dokument als Grundlage für ein [Jupyter notebook](https://jupyter.org/) verwenden wollen können Sie die Auswertung, Skripte und ggf. bildliche Darstellungen mit Hilfe von [python](https://www.python.org/) ebenfalls hier einfügen. Löschen Sie hierzu diesen kursiv gestellten Text aus dem Dokument.* \n",
    "\n",
    "---"
   ]
  },
  {
   "cell_type": "markdown",
   "id": "d3dda936-f113-45ca-87bf-3bfe51644ad7",
   "metadata": {},
   "source": [
    "### Aufgabe 2.4: $RC$-Phasenschieber\n",
    "\n",
    "Verwenden Sie ein Sinussignal als Eingangssignal für eine Reihenschaltung aus Widerstand und Kondensator (mit $R = 1\\,\\mathrm{k\\Omega}$ und $C = 0,47\\,\\mathrm{\\mu F}$) und beobachten Sie das Ausgangsignal als Spannung über dem Widerstand. Verwenden Sie die Schaltung als $RC$-Phasenschieber. Stellen Sie die Frequenz so ein, dass $U_{a0} = U_{e0}/2$ gilt. Berechnen Sie die einzustellende Frequenz, sowie Vorzeichen und Betrag der erwarteten Phasenverschiebung und vergleichen Sie Ihre Erwartung mit den Messwerten.\n",
    "\n",
    " ---"
   ]
  },
  {
   "cell_type": "markdown",
   "id": "24056bff-8dbb-4acd-a03e-1bf6c3f5a1f0",
   "metadata": {},
   "source": [
    "**Lösung:**\n",
    "\n",
    "*Sie können Ihr Protokoll direkt in dieses Dokument einfügen. Wenn Sie dieses Dokument als Grundlage für ein [Jupyter notebook](https://jupyter.org/) verwenden wollen können Sie die Auswertung, Skripte und ggf. bildliche Darstellungen mit Hilfe von [python](https://www.python.org/) ebenfalls hier einfügen. Löschen Sie hierzu diesen kursiv gestellten Text aus dem Dokument.* \n",
    "\n",
    "---"
   ]
  },
  {
   "cell_type": "markdown",
   "id": "b4758697-b501-45da-a365-05d90a0e0c26",
   "metadata": {},
   "source": [
    "### Aufgabe 2.5: Frequenzmodulation\n",
    "\n",
    "Stellen Sie eine frequenzmodulierte Schwingung der Form\n",
    "\n",
    "$$\n",
    "U(t) = U_{0}\\sin(\\varphi(t)) = U_{0}\\sin\\Bigl(\\Omega_{0}\\,t + \\Delta\\omega/\\omega\\,\\sin(\\omega\\,t) + \\varphi_{0}\\Bigr)\n",
    "$$\n",
    "\n",
    "dar, wobei $U_{0}$ und $\\Omega_{0}$ der Amplitude und Kreisfrequenz der Trägerwelle, $\\omega$ der Kreisfrequenz der Modulation, $\\Delta\\omega/2\\pi$ dem sog. Frequenzhub und $\\varphi_{0}$ einer freien Phase entsprechen. \n",
    "\n",
    "**Hinweis:** Legen Sie hierzu eine sinusförmige Wechselspannung mit einer Amplitude von $50\\,\\mathrm{mV}$ (VSS) und einer Frequenz von $50\\,\\mathrm{Hz}$ aus Generator 1 an die VCin-Buchse von Generator 2. Generator 2 sollte dabei auf etwa $1,5\\,\\mathrm{kHz}$ eingestellt sein. Stellen Sie zunächst ein Übersichtsbild mit einigen Modulationsperioden und von da ab Momentanperioden des Trägers dar (Verwenden Sie hierzu AUTO-Triggerung, nahe dem Nulldurchgang). Bestimmen Sie den Frequenzhub $\\Delta\\omega$. Für die Momentankreisfrequenz $\\Omega(t)$ gilt: \n",
    "\n",
    "$$\n",
    "\\Omega(t) = \\frac{\\mathrm{d}\\varphi}{\\mathrm{d}t}(t) = \\Omega_{0} + \\Delta\\omega\\cos(\\omega\\,t).\n",
    "$$\n",
    "\n",
    "---"
   ]
  },
  {
   "cell_type": "markdown",
   "id": "6cf16b2f-c166-41dd-a08c-d46a3c21f527",
   "metadata": {},
   "source": [
    "**Lösung:**\n",
    "\n",
    "*Sie können Ihr Protokoll direkt in dieses Dokument einfügen. Wenn Sie dieses Dokument als Grundlage für ein [Jupyter notebook](https://jupyter.org/) verwenden wollen können Sie die Auswertung, Skripte und ggf. bildliche Darstellungen mit Hilfe von [python](https://www.python.org/) ebenfalls hier einfügen. Löschen Sie hierzu diesen kursiv gestellten Text aus dem Dokument.* \n",
    "\n",
    "---"
   ]
  },
  {
   "cell_type": "markdown",
   "id": "615aac0f-25ed-4fb8-9a5c-77c11c6c1036",
   "metadata": {},
   "source": [
    "### Aufgabe 2.6: Sonderfunktionen am Oszilloskop\n",
    "\n",
    "Addieren Sie mit Hilfe der ADD-Funktion des Oszilloskops und subtrahieren Sie in mindestens einem Fall mit Hilfe der zusätzlichen INVERT-Funktion zwei Signale mit den folgenden Konfigurationen: \n",
    "\n",
    " * verschiedene/gleiche Amplitude; \n",
    " * verschiedene/fast gleiche/gleiche Frequenz, \n",
    "\n",
    "aus unabhängigen Generatoren.\n",
    "\n",
    "**Hinweis:** Fast gleiche Frequenz führt zu Schwebungen. Gleiche Frequenz können Sie erreichen, indem Sie, Generator 2 durch ein Ausgangssignal von Generator 1 synchronisieren.\n",
    "\n",
    "---"
   ]
  },
  {
   "cell_type": "markdown",
   "id": "8eaa1938-1347-4d76-abad-e1646d094359",
   "metadata": {},
   "source": [
    "**Lösung:**\n",
    "\n",
    "*Sie können Ihr Protokoll direkt in dieses Dokument einfügen. Wenn Sie dieses Dokument als Grundlage für ein [Jupyter notebook](https://jupyter.org/) verwenden wollen können Sie die Auswertung, Skripte und ggf. bildliche Darstellungen mit Hilfe von [python](https://www.python.org/) ebenfalls hier einfügen. Löschen Sie hierzu diesen kursiv gestellten Text aus dem Dokument.* \n",
    "\n",
    "---"
   ]
  },
  {
   "cell_type": "markdown",
   "id": "44dd4e62-90df-4b5d-83f5-7564c1b22df9",
   "metadata": {},
   "source": [
    "## Aufgabe 3: XY-Darstellung\n",
    "\n",
    "Für diese Art der Darstellung wird der Generator der Zeitbasis durch eines der zwei Eingangssignale ersetzt. Während man im Fall eines analogen Oszilloskops leicht den XY-Betrieb durch Umschalten des zweiten Spannungssignals auf das Y-Plattenpaar des Oszilloskops erhält, müssen im digitalen Fall die X- und Y-Koordinaten aus den gesampleten Daten beider Kanäle zeitsynchron zusammengesetzt werden. \n",
    "\n",
    "### Aufgabe 3.1: Lissajous-Figuren\n",
    "\n",
    "Stellen Sie vewrschiedene Lissajous-Figuren mit Signalen wie bei **Aufgabe 2.6** dar.\n",
    "\n",
    "**Hinweis:** Die Phasenverschiebung $\\Delta\\varphi$ kann sowohl aus der Zeitdifferenz bei Yt-Darstellung (siehe **Aufgabe 2.4**) als auch aus charakteristischen Ellipsenwerten in der XY-Darstellung ermittelt werden.\n",
    "\n",
    "---"
   ]
  },
  {
   "cell_type": "markdown",
   "id": "3c46aa34-239d-4171-8976-89f59c470745",
   "metadata": {},
   "source": [
    "**Lösung:**\n",
    "\n",
    "*Sie können Ihr Protokoll direkt in dieses Dokument einfügen. Wenn Sie dieses Dokument als Grundlage für ein [Jupyter notebook](https://jupyter.org/) verwenden wollen können Sie die Auswertung, Skripte und ggf. bildliche Darstellungen mit Hilfe von [python](https://www.python.org/) ebenfalls hier einfügen. Löschen Sie hierzu diesen kursiv gestellten Text aus dem Dokument.* \n",
    "\n",
    "---"
   ]
  },
  {
   "cell_type": "markdown",
   "id": "484da8ed-05c5-4df3-bf85-d5e1750fef38",
   "metadata": {},
   "source": [
    "### Aufgabe 3.2: Strom-Spannungs-Kennlinie\n",
    "\n",
    "Stellen Sie Strom-Spannungs-Kennlinien (Strom als Funktion der Spannung) nach Schaltskizze 1 der alten Anleitung für \n",
    "\n",
    " * eine Zener-Diode,\n",
    " * einen Kondensator\n",
    "\n",
    "dar. Verifizieren Sie die Kennlinie mit der Option „Komponententester“\n",
    "\n",
    "---"
   ]
  },
  {
   "cell_type": "markdown",
   "id": "d57fa648-cf4a-43ce-8ad7-c79ca0685efb",
   "metadata": {},
   "source": [
    "**Lösung:**\n",
    "\n",
    "*Sie können Ihr Protokoll direkt in dieses Dokument einfügen. Wenn Sie dieses Dokument als Grundlage für ein [Jupyter notebook](https://jupyter.org/) verwenden wollen können Sie die Auswertung, Skripte und ggf. bildliche Darstellungen mit Hilfe von [python](https://www.python.org/) ebenfalls hier einfügen. Löschen Sie hierzu diesen kursiv gestellten Text aus dem Dokument.* \n",
    "\n",
    "---"
   ]
  },
  {
   "cell_type": "markdown",
   "id": "a81eea90-0a30-4aa0-b07e-1b9c7acc6caa",
   "metadata": {},
   "source": [
    "## Aufgabe 4: Untersuchung von Einmalvorgängen\n",
    "\n",
    "Die folgenden Versuche können nur mit dem Digitaloszilloskop durchführgeführt werden. \n",
    "\n",
    "### Aufgabe 4.1: Kondensatorentladung\n",
    "\n",
    "Speichern Sie den Spannungsverlauf beim Entladevorgang eines $0,47\\,\\mathrm{\\mu F}$-Kondensators\n",
    "\n",
    " * über den Eingangswiderstand des Oszilloskops (Verwenden Sie hierzu den DC-Eingang) und\n",
    "\n",
    " * über den Eingangswiderstand des 10:1-Tastkopfes am Oszilloskop.\n",
    " \n",
    "Bestimmen Sie mit Hilfe des bekannten Kapazitätswerts und den Speicherbildern die Eingangswiderstände von Oszilloskop und Tastkopf, und vergleichen Sie diese mit den Herstellerangaben.\n",
    "\n",
    "---"
   ]
  },
  {
   "cell_type": "markdown",
   "id": "946253e8-b996-42c3-8770-ea7140004ef2",
   "metadata": {},
   "source": [
    "**Lösung:**\n",
    "\n",
    "*Sie können Ihr Protokoll direkt in dieses Dokument einfügen. Wenn Sie dieses Dokument als Grundlage für ein [Jupyter notebook](https://jupyter.org/) verwenden wollen können Sie die Auswertung, Skripte und ggf. bildliche Darstellungen mit Hilfe von [python](https://www.python.org/) ebenfalls hier einfügen. Löschen Sie hierzu diesen kursiv gestellten Text aus dem Dokument.* \n",
    "\n",
    "---"
   ]
  },
  {
   "cell_type": "markdown",
   "id": "6f4aa669-45c2-4ee5-84ca-adcaa1b9dd56",
   "metadata": {},
   "source": [
    "### 4.2: Fallversuch\n",
    "\n",
    "Speichern Sie die Fallkurve eines Magneten: Verbinden Sie hierzu das an Ihrem Arbeitsplatz befindliche Fallrohr mit dem Oszilloskop. Lassen Sie den zugehörigen Magneten durch die Röhre fallen und zeichnen Sie die Induktionssignale aller 6 Spulen als Einmalvorgang auf. Die Nulldurchgänge sind markant und erlauben eine gute Bestimmung der Zeitdifferenzen. Bestimmen Sie fünf Zeitdifferenzen jeweils relativ zum Signal der ersten Spule mit Hilfe des Cursors des Oszilloskops. Passen Sie ein Modell der Art \n",
    "\n",
    "$$\n",
    "s(t) = a_{0} + a_{1}\\,t + a_{2}\\,t^{2} \n",
    "$$\n",
    "\n",
    "an die aufgezeichneten Daten an und vergleichen Sie die Beschleunigung ($a_{2}$) mit der Erdbeschleunigung ($g$). Die Abstände der Spulenmitten betragen $20\\,\\mathrm{cm}$. Schätzen Sie eine geeignete Unsicherheit auf diese Angabe ab und diskutieren Sie Ihr Ergebnis.  \n",
    "\n",
    "---"
   ]
  },
  {
   "cell_type": "markdown",
   "id": "755cdc69-7c8a-4574-9950-15f6dea1478c",
   "metadata": {},
   "source": [
    "**Lösung:**\n",
    "\n",
    "*Sie können Ihr Protokoll direkt in dieses Dokument einfügen. Wenn Sie dieses Dokument als Grundlage für ein [Jupyter notebook](https://jupyter.org/) verwenden wollen können Sie die Auswertung, Skripte und ggf. bildliche Darstellungen mit Hilfe von [python](https://www.python.org/) ebenfalls hier einfügen. Löschen Sie hierzu diesen kursiv gestellten Text aus dem Dokument.* \n",
    "\n",
    "---"
   ]
  }
 ],
 "metadata": {
  "kernelspec": {
   "display_name": "Python 3 (ipykernel)",
   "language": "python",
   "name": "python3"
  },
  "language_info": {
   "codemirror_mode": {
    "name": "ipython",
    "version": 3
   },
   "file_extension": ".py",
   "mimetype": "text/x-python",
   "name": "python",
   "nbconvert_exporter": "python",
   "pygments_lexer": "ipython3",
   "version": "3.10.12"
  }
 },
 "nbformat": 4,
 "nbformat_minor": 5
}
