{
 "cells": [
  {
   "cell_type": "markdown",
   "id": "885c7767-e912-4e31-b5d6-3a3443ffa58e",
   "metadata": {},
   "source": [
    "# Fakultät für Physik\n",
    "\n",
    "## Physikalisches Praktikum P1 für Studierende der Physik\n",
    "\n",
    "Versuch P1-20, 21, 22 (Stand: Oktober 2023)\n",
    "\n",
    "[Raum F1-11](https://labs.physik.kit.edu/img/Praktikum/Lageplan_P1.png)\n",
    "\n",
    "\n",
    "\n",
    "# Pendel"
   ]
  },
  {
   "cell_type": "markdown",
   "id": "02723acd-b4da-43cb-8534-d52f27e5e556",
   "metadata": {},
   "source": [
    "Name: __________________ Vorname: __________________ E-Mail: __________________\n",
    "\n",
    "\\begin{equation*}\n",
    "\\begin{split}\n",
    "&\\\\\n",
    "&\\\\\n",
    "\\end{split}\n",
    "\\end{equation*}\n",
    "\n",
    "Name: __________________ Vorname: __________________ E-Mail: __________________\n",
    "\n",
    "\\begin{equation*}\n",
    "\\begin{split}\n",
    "&\\\\\n",
    "&\\\\\n",
    "&\\\\\n",
    "\\end{split}\n",
    "\\end{equation*}\n",
    "\n",
    "Gruppennummer: _____\n",
    "\n",
    "\\begin{equation*}\n",
    "\\begin{split}\n",
    "&\\\\\n",
    "&\\\\\n",
    "&\\\\\n",
    "\\end{split}\n",
    "\\end{equation*}\n",
    "\n",
    "\n",
    "Betreuer: __________________\n",
    "\n",
    "\\begin{equation*}\n",
    "\\begin{split}\n",
    "&\\\\\n",
    "&\\\\\n",
    "&\\\\\n",
    "\\end{split}\n",
    "\\end{equation*}\n",
    "\n",
    "Versuch durchgeführt am: __________________"
   ]
  },
  {
   "cell_type": "markdown",
   "id": "bd1ced8c-5364-400f-b2ab-cd86a81d5eda",
   "metadata": {},
   "source": [
    "---\n",
    "\n",
    "**Beanstandungen:**\n",
    "\n",
    "\\begin{equation*}\n",
    "\\begin{split}\n",
    "&\\\\\n",
    "&\\\\\n",
    "&\\\\\n",
    "&\\\\\n",
    "&\\\\\n",
    "&\\\\\n",
    "&\\\\\n",
    "&\\\\\n",
    "&\\\\\n",
    "&\\\\\n",
    "\\end{split}\n",
    "%\\text{\\vspace{10cm}}\n",
    "\\end{equation*}\n",
    "\n",
    "<br>\n",
    "Testiert am: __________________ Testat: __________________"
   ]
  },
  {
   "cell_type": "markdown",
   "id": "305b8433-7bc6-4a3c-b0e6-fa5c8955849a",
   "metadata": {},
   "source": [
    "# Durchführung\n",
    "\n",
    "## Aufgabe 1: Fadenpendel\n",
    "\n",
    "**Hinweise zu allen hier durchzuführenden Messungen finden Sie in der Datei [Hinweise-Aufgabe-1.md](https://gitlab.kit.edu/kit/etp-lehre/p1-praktikum/students/-/blob/main/Pendel/doc/Hinweise-Aufgabe-1.md).**\n",
    "\n",
    "Nehmen Sie mit dem Fadenpendel die folgenden Untersuchungen vor:\n",
    "\n",
    " * Untersuchen Sie die Periode $T_{0}$ als Funktion der Anfangsauslenkung $\\varphi_{0}$ der Kugel bei *großer* Auslenkung aus der Ruhelage. (Sie können die Kugel bis zu $60^{\\circ}$ auslenken.) \n",
    " * Bestimmen Sie die Fallbeschleunigung $g$. Achten Sie in diesem Fall darauf, die Kugel *nicht zu weit* auszulenken. Welchen Effekt erwarten Sie für Ihre Wahl von $\\varphi_{0}$, Ihrer ersten Untersuchung zufolge, durch die Annahme der Kleinwinkelnäherung?\n",
    "\n",
    "---"
   ]
  },
  {
   "cell_type": "markdown",
   "id": "375bc285-33cc-43cc-bf8f-9247c1431ae4",
   "metadata": {},
   "source": [
    "**Lösung:**\n",
    "\n",
    "*Sie können Ihr Protokoll direkt in dieses Dokument einfügen. Wenn Sie dieses Dokument als Grundlage für ein [Jupyter notebook](https://jupyter.org/) verwenden wollen können Sie die Auswertung, Skripte und ggf. bildliche Darstellungen mit Hilfe von [python](https://www.python.org/) ebenfalls hier einfügen. Löschen Sie hierzu diesen kursiv gestellten Text aus dem Dokument.* \n",
    "\n",
    "---"
   ]
  },
  {
   "cell_type": "markdown",
   "id": "97b7053b-f7c8-471f-bd76-01bb183198e0",
   "metadata": {},
   "source": [
    "## Aufgabe 2: Reversionspendel\n",
    "\n",
    "**Hinweise zu allen hier durchzuführenden Messungen finden Sie in der Datei [Hinweise-Aufgabe-2.md](https://gitlab.kit.edu/kit/etp-lehre/p1-praktikum/students/-/tree/main/Pendel/doc/Hinweise-Aufgabe-2.md).**\n",
    "\n",
    "### Aufgabe 2.1: Funktionsweise\n",
    "\n",
    "Beschreiben Sie die Eigenschaften und Funktionsweise des [Reversionspendles](https://de.wikipedia.org/wiki/Reversionspendel) zur Bestimmung von $g$ in eigenen Worten. \n",
    "\n",
    "---"
   ]
  },
  {
   "cell_type": "markdown",
   "id": "c81ae931-21c9-4eff-bb7b-259cf64b3c5e",
   "metadata": {},
   "source": [
    "**Lösung:**\n",
    "\n",
    "*Sie können Ihr Protokoll direkt in dieses Dokument einfügen. Wenn Sie dieses Dokument als Grundlage für ein [Jupyter notebook](https://jupyter.org/) verwenden wollen können Sie die Auswertung, Skripte und ggf. bildliche Darstellungen mit Hilfe von [python](https://www.python.org/) ebenfalls hier einfügen. Löschen Sie hierzu diesen kursiv gestellten Text aus dem Dokument.* \n",
    "\n",
    "---"
   ]
  },
  {
   "cell_type": "markdown",
   "id": "66f60b58-6aac-4a8b-bb6a-adad17f3c95a",
   "metadata": {},
   "source": [
    "### Aufgabe 2.2: Bestimmung von $g$\n",
    "\n",
    "Suchen Sie, indem Sie den beweglichen Keil $K'$ des Reversionspendels geeignet verschieben, den Abstand $d$, der $\\ell_{r}$ entspricht. Bestimmen Sie für diese Konfiguration des Pendels die folgenden Größen mit entsprechenden Unsicherheiten: \n",
    "\n",
    " * Den Wert von $\\ell_{r}$ und $\\Delta\\ell_{r}$;\n",
    " * Die Periode $T_{0}$ und $\\Delta T_{0}$;\n",
    " * Die Erbeschleunigung $g$ und $\\Delta g$.\n",
    " \n",
    " ---"
   ]
  },
  {
   "cell_type": "markdown",
   "id": "150973f7-01c7-40e7-b99a-8ccd437ea3c5",
   "metadata": {},
   "source": [
    "**Lösung:**\n",
    "\n",
    "*Sie können Ihr Protokoll direkt in dieses Dokument einfügen. Wenn Sie dieses Dokument als Grundlage für ein [Jupyter notebook](https://jupyter.org/) verwenden wollen können Sie die Auswertung, Skripte und ggf. bildliche Darstellungen mit Hilfe von [python](https://www.python.org/) ebenfalls hier einfügen. Löschen Sie hierzu diesen kursiv gestellten Text aus dem Dokument.* \n",
    "\n",
    "---"
   ]
  },
  {
   "cell_type": "markdown",
   "id": "335cd2f4-efc6-4072-9ab7-d4a240eb220d",
   "metadata": {},
   "source": [
    "## Aufgabe 3: Gekoppelte Pendel\n",
    "\n",
    "**Hinweise zu allen hier durchzuführenden Messungen finden Sie in der Datei [Hinweise-Aufgabe-3.md](https://gitlab.kit.edu/kit/etp-lehre/p1-praktikum/students/-/tree/main/Pendel/doc/Hinweise-Aufgabe-3.md).**\n",
    "\n",
    "### Aufgabe 3.1: Justierung der einzelnen Pendel \n",
    "\n",
    "Stellen Sie bei den zwei baugleichen Pendeln durch Verschieben einer der Pendelscheiben gleiche Schwingungsdauern $T_{0}$ ein. \n",
    "\n",
    "---"
   ]
  },
  {
   "cell_type": "markdown",
   "id": "a071ed7a-edd1-4070-a249-7f4fb5414146",
   "metadata": {},
   "source": [
    "**Lösung:**\n",
    "\n",
    "*Sie können Ihr Protokoll direkt in dieses Dokument einfügen. Wenn Sie dieses Dokument als Grundlage für ein [Jupyter notebook](https://jupyter.org/) verwenden wollen können Sie die Auswertung, Skripte und ggf. bildliche Darstellungen mit Hilfe von [python](https://www.python.org/) ebenfalls hier einfügen. Löschen Sie hierzu diesen kursiv gestellten Text aus dem Dokument.* \n",
    "\n",
    "---"
   ]
  },
  {
   "cell_type": "markdown",
   "id": "d9cb99bb-f300-49e1-87f5-2ca271cd2dbd",
   "metadata": {},
   "source": [
    "### Aufgabe 3.2: Gekoppelte Pendel \n",
    "\n",
    "Koppeln Sie die Pendel mittels einer Schraubenfeder (mit der Federkonstanten $D$) in jeweils gleichem Abstand $\\ell$ von den Aufhängepunkten der Pendel. Hierbei, wie im Folgenden, sollte die koppelnde Feder die Pendel nur mit schwacher Spannung verbinden. Führen Sie dann das folgende Messprogramm durch: \n",
    "\n",
    " * Bestimmen Sie die Perioden $T_{1}$ und $T_{2}$ der beiden [Funda­men­talschwin­gungen](https://de.wikipedia.org/wiki/Gekoppelte_Pendel), bei denen keine Schwebung auftritt. \n",
    " * Wiederholen Sie die Messungen bei verändertem Abstand $\\ell'$. \n",
    " * Diskutieren Sie Ihre Ergebnisse für $T_{0},$ $T_{1}(\\ell)$, $T_{2}(\\ell)$, $T_{1}(\\ell')$ und $T_{2}(\\ell')$. \n",
    " * Bestimmen Sie für $\\ell$ und $\\ell'$ aus $T_{1/2}$ die Werte von $\\omega_{1/2}$. \n",
    " * Berechnen Sie auf der Grundlage des Modells eines [physikalischen Pendels](https://de.wikipedia.org/wiki/Physikalisches_Pendel) aus $\\omega_{1}$ das Trägheitsmoment $\\Theta$ und vergleichen Sie das Ergebnis mit Ihrer Erwartung aus den geometrischen Abmessungen und Massen der Pendel.\n",
    " * Berechnen Sie aus $\\omega_{2}$ das Direktionsmoment $D$ der koppelnden Feder. Führen Sie zwei alternative Bestimmung von $D$ durch und vergleichen Sie Ihre Ergebnisse: \n",
    "   * Mit Hilfe des Hook'schen Gesetzes; \n",
    "   * Unter Verwendung der koppelnden Feder als [Federpendel](https://de.wikipedia.org/wiki/Federpendel). \n",
    "\n",
    "---"
   ]
  },
  {
   "cell_type": "markdown",
   "id": "33010165-848b-4bf8-a45b-46a4bbdb05c1",
   "metadata": {},
   "source": [
    "**Lösung:**\n",
    "\n",
    "*Sie können Ihr Protokoll direkt in dieses Dokument einfügen. Wenn Sie dieses Dokument als Grundlage für ein [Jupyter notebook](https://jupyter.org/) verwenden wollen können Sie die Auswertung, Skripte und ggf. bildliche Darstellungen mit Hilfe von [python](https://www.python.org/) ebenfalls hier einfügen. Löschen Sie hierzu diesen kursiv gestellten Text aus dem Dokument.* \n",
    "\n",
    "---"
   ]
  },
  {
   "cell_type": "markdown",
   "id": "8f0585b7-8252-4301-8084-a814ba33d35b",
   "metadata": {},
   "source": [
    "### Aufgabe 3.3: [Schwebung](https://de.wikipedia.org/wiki/Schwebung)\n",
    "\n",
    " * Messen Sie die Schwingungsperiode $\\overline{T}$ zur Kreisfrequenz $\\overline{\\omega}=\\frac{1}{2}(\\omega_{1}+\\omega_{2})$ und die Schwebungsperiode $\\tilde{T}$ zur Kreisfrequenz $\\tilde{\\omega}=\\frac{1}{2}\\left|\\omega_{1}-\\omega_{2}\\right|$, bei Anregung der gekop­pel­ten Pendel zu Schwebungen. Nutzen Sie dazu einen der Abstände $\\ell$, die Sie auch in Aufgabe 3.2 benutzt haben. \n",
    "  * Prüfen Sie den erwarteten Zusammenhang zwischen $\\overline{T}$ und $\\tilde{T}$ mit $T_{1}$ und $T_{2}$."
   ]
  },
  {
   "cell_type": "markdown",
   "id": "c7fb992f-253d-4d71-bef6-a2cd3a5ebd5a",
   "metadata": {},
   "source": [
    "**Lösung:**\n",
    "\n",
    "*Sie können Ihr Protokoll direkt in dieses Dokument einfügen. Wenn Sie dieses Dokument als Grundlage für ein [Jupyter notebook](https://jupyter.org/) verwenden wollen können Sie die Auswertung, Skripte und ggf. bildliche Darstellungen mit Hilfe von [python](https://www.python.org/) ebenfalls hier einfügen. Löschen Sie hierzu diesen kursiv gestellten Text aus dem Dokument.* \n",
    "\n",
    "---"
   ]
  }
 ],
 "metadata": {
  "kernelspec": {
   "display_name": "Python 3 (ipykernel)",
   "language": "python",
   "name": "python3"
  },
  "language_info": {
   "codemirror_mode": {
    "name": "ipython",
    "version": 3
   },
   "file_extension": ".py",
   "mimetype": "text/x-python",
   "name": "python",
   "nbconvert_exporter": "python",
   "pygments_lexer": "ipython3",
   "version": "3.10.12"
  }
 },
 "nbformat": 4,
 "nbformat_minor": 5
}
