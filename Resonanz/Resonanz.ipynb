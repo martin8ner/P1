{
 "cells": [
  {
   "cell_type": "markdown",
   "id": "5e65796f-29ff-4821-9f49-17f8ce830371",
   "metadata": {},
   "source": [
    "# Fakultät für Physik \n",
    "\n",
    "## Physikalisches Praktikum P1 für Studierende der Physik\n",
    "\n",
    "Versuch P1-12, 22 (Stand: Oktober 2023)\n",
    "\n",
    "[Raum F1-21](https://labs.physik.kit.edu/img/Praktikum/Lageplan_P1.png)\n",
    "\n",
    "# Resonanz"
   ]
  },
  {
   "cell_type": "markdown",
   "id": "fcb4a42f-bfbd-4bf8-9d33-1f1a7d4d146d",
   "metadata": {},
   "source": [
    "Name: __________________ Vorname: __________________ E-Mail: __________________\n",
    "\n",
    "\\begin{equation*}\n",
    "\\begin{split}\n",
    "&\\\\\n",
    "&\\\\\n",
    "\\end{split}\n",
    "\\end{equation*}\n",
    "\n",
    "Name: __________________ Vorname: __________________ E-Mail: __________________\n",
    "\n",
    "\\begin{equation*}\n",
    "\\begin{split}\n",
    "&\\\\\n",
    "&\\\\\n",
    "&\\\\\n",
    "\\end{split}\n",
    "\\end{equation*}\n",
    "\n",
    "Gruppennummer: _____\n",
    "\n",
    "\\begin{equation*}\n",
    "\\begin{split}\n",
    "&\\\\\n",
    "&\\\\\n",
    "&\\\\\n",
    "\\end{split}\n",
    "\\end{equation*}\n",
    "\n",
    "\n",
    "Betreuer: __________________\n",
    "\n",
    "\\begin{equation*}\n",
    "\\begin{split}\n",
    "&\\\\\n",
    "&\\\\\n",
    "&\\\\\n",
    "\\end{split}\n",
    "\\end{equation*}\n",
    "\n",
    "Versuch durchgeführt am: __________________"
   ]
  },
  {
   "cell_type": "markdown",
   "id": "72dd8ca2-00f9-4fef-ace5-9beb38a94d5b",
   "metadata": {},
   "source": [
    "---\n",
    "\n",
    "**Beanstandungen:**\n",
    "\n",
    "\\begin{equation*}\n",
    "\\begin{split}\n",
    "&\\\\\n",
    "&\\\\\n",
    "&\\\\\n",
    "&\\\\\n",
    "&\\\\\n",
    "&\\\\\n",
    "&\\\\\n",
    "&\\\\\n",
    "&\\\\\n",
    "&\\\\\n",
    "\\end{split}\n",
    "%\\text{\\vspace{10cm}}\n",
    "\\end{equation*}\n",
    "\n",
    "<br>\n",
    "Testiert am: __________________ Testat: __________________"
   ]
  },
  {
   "cell_type": "markdown",
   "id": "bf2f9dc7-91fe-4450-85b5-8fd31fe22532",
   "metadata": {},
   "source": [
    "# Durchführung\n",
    "\n",
    "## Aufgabe 1: Freie Schwingung\n",
    "\n",
    "**Hinweise zu allen hier durchzuführenden Messungen finden Sie in der Datei [Hinweise-Aufgabe-1.md](https://gitlab.kit.edu/kit/etp-lehre/p1-praktikum/students/-/tree/main/Resonanz/doc/Hinweise-Aufgabe-1.md).**\n",
    "\n",
    "\n",
    "### Aufgabe 1.1: Schwingung ohne äußere Dämpfung\n",
    "\n",
    "Lenken Sie das [Pohlsche Rad](https://de.wikipedia.org/wiki/Pohlsches_Rad) aus und stellen Sie mit Hilfe des CASSY Datennahmesystems die folgenden Größen geeignet dar: \n",
    "\n",
    " - Zeitlicher Verlauf des Phasenwinkels, $\\varphi(t)$;\n",
    " - Zeitlicher Verlauf der Winkelgeschwindigkeit, $\\omega(t)$;\n",
    " - Stellen Sie den Schwingungsvorgang in einem [Phasenraumportrait](https://de.wikipedia.org/wiki/Phasenraum) $(\\varphi,\\,\\omega)(t)$ dar. \n",
    "\n",
    "Der Schwingungsvorgang ist auch ohne äußere Dämpfung nicht dämpfungsfrei. Passen Sie ein Modell mit linearer Dämpfung an die Verteilung $\\varphi(t)$ an und bestimmmen Sie daraus die Eigenfrequenz $\\omega_{0}$ und die Dämpfung $\\lambda_{0}$ der Schwingung. \n",
    "\n",
    "---"
   ]
  },
  {
   "cell_type": "markdown",
   "id": "58735054-23f1-4b53-9676-e3487573011a",
   "metadata": {},
   "source": [
    "**Lösung:**\n",
    "\n",
    "*Sie können Ihr Protokoll direkt in dieses Dokument einfügen. Wenn Sie dieses Dokument als Grundlage für ein [Jupyter notebook](https://jupyter.org/) verwenden wollen können Sie die Auswertung, Skripte und ggf. bildliche Darstellungen mit Hilfe von [python](https://www.python.org/) ebenfalls hier einfügen. Löschen Sie hierzu diesen kursiv gestellten Text aus dem Dokument.* \n",
    "\n",
    "---"
   ]
  },
  {
   "cell_type": "markdown",
   "id": "77dfdd87-dfcb-4ad8-9360-5b173febb895",
   "metadata": {},
   "source": [
    "### Aufgabe 1.2: Bestimmung des Trägheitsmoments $\\Theta$\n",
    "\n",
    "Bestimmen Sie das Trägheitsmoment $\\Theta$ des Drehpendels. Gehen Sie dabei wie folgt vor:\n",
    "\n",
    " - Bestimmen Sie die Winkelrichtgröße $D$ der im Pohlschen Rad verbauten Schneckenfeder. Messen Sie hierzu die Winkelauslenkung des Drehpendels (in beiden Drehrichtungen), indem Sie mit Hilfe eines Fadens geeignete Gewichte so an den Zeiger des Pendels anhängen, dass der Faden durch die Randnut bei $r = r_{a}$ läuft. Bestimmen Sie $\\Theta$ aus der Gleichung $$\\omega_{0} = \\sqrt{\\frac{D}{\\Theta}}$$.\n",
    " - Vergleichen Sie das Ergebnis, im Rahmen seiner Unsicherheiten mit Ihrer Erwartung aus einer einfachen geometrischen Abschätzung. \n",
    "\n",
    "---"
   ]
  },
  {
   "cell_type": "markdown",
   "id": "068ed6f6-0f5e-4a33-b63f-60caf32b24e0",
   "metadata": {},
   "source": [
    "**Lösung:**\n",
    "\n",
    "*Sie können Ihr Protokoll direkt in dieses Dokument einfügen. Wenn Sie dieses Dokument als Grundlage für ein [Jupyter notebook](https://jupyter.org/) verwenden wollen können Sie die Auswertung, Skripte und ggf. bildliche Darstellungen mit Hilfe von [python](https://www.python.org/) ebenfalls hier einfügen. Löschen Sie hierzu diesen kursiv gestellten Text aus dem Dokument.* \n",
    "\n",
    "---"
   ]
  },
  {
   "cell_type": "markdown",
   "id": "d71c251e-8c1d-49ca-a818-bad1fdf0ca49",
   "metadata": {},
   "source": [
    "### Aufgabe 1.3: Schwingung mit äußerer Dämpfung\n",
    "\n",
    "Die Drehbewegung des Pohlschen Rads kann durch eine [Wirbelstrombremse](https://de.wikipedia.org/wiki/Wirbelstrom) zusätzlich von außen gedämpft werden.\n",
    " \n",
    " - Bestimmen Sie $\\varphi(t)$ für mindestens vier verschiedene Ströme $I_{\\mathrm{B}}$ der Wirbelstrombremse.  \n",
    " - Ermitteln Sie $\\lambda(I_{\\mathrm{B}})$ durch Anpassung Ihres Modells aus Aufgabe 1.1 an die aufgezeichneten Daten. \n",
    " - Bestimmen Sie $\\lambda(I_{\\mathrm{B}})$ zusätzlich aus dem Dämpfungsverhältnis $\\kappa$. Wählen Sie hierzu, je nach Wert von $I_{\\mathrm{B}}$ eine geeignete Anzahl $n$ von Perioden der Schwingung.     \n",
    " - Erwarten Sie eine Abhängigkeit $\\omega(I_{\\mathrm{B}})$? Begründen Sie Ihre Antwort und überprüfen Sie sie mit den aufgezeichneten Daten. \n",
    " - Erwarten Sie eine Abhängigkeit $\\lambda(I_{\\mathrm{B}})$? Begründen Sie Ihre Antwort und überprüfen Sie sie mit den aufgezeichneten Daten. Korrigieren Sie hierzu $\\lambda(I_{\\mathrm{B}})$ auf die zuvor bestimmte intrinsische Dämpfung $\\lambda_{0}$ ($\\lambda(I_{\\mathrm{B}})\\to \\hat{\\lambda}(I_{\\mathrm{B}})$). \n",
    "  - Bestimmen Sie aus dem Verlauf von $\\hat{\\lambda}(I_{\\mathrm{B}})$ den Wert von $I_{\\mathrm{B}}(\\hat{\\lambda}=\\omega_{0})$ für den der aperiodische Grenzfall eintritt. Vergewissern Sie sich experimentell von der Richtigkeit von $I_{\\mathrm{B}}(\\hat{\\lambda}=\\omega_{0})$. \n",
    "  - Berechnen Sie aus $\\omega_{0}$ und $\\hat{\\lambda}(I_{\\mathrm{B}})$ die Güte $Q(I_{\\mathrm{B}})$ des Pohlschen Rads.\n",
    "\n",
    "---"
   ]
  },
  {
   "cell_type": "markdown",
   "id": "0fc51e7c-1745-4c63-a24b-2f499c9044c6",
   "metadata": {},
   "source": [
    "**Lösung:**\n",
    "\n",
    "*Sie können Ihr Protokoll direkt in dieses Dokument einfügen. Wenn Sie dieses Dokument als Grundlage für ein [Jupyter notebook](https://jupyter.org/) verwenden wollen können Sie die Auswertung, Skripte und ggf. bildliche Darstellungen mit Hilfe von [python](https://www.python.org/) ebenfalls hier einfügen. Löschen Sie hierzu diesen kursiv gestellten Text aus dem Dokument.* \n",
    "\n",
    "---"
   ]
  },
  {
   "cell_type": "markdown",
   "id": "2bf04671-915f-455e-bdec-ea9c1ce04a17",
   "metadata": {},
   "source": [
    "## Aufgabe 2: Erzwungene Schwingung\n",
    "\n",
    "**Hinweise zu allen hier durchzuführenden Messungen finden Sie in der Datei [Hinweise-Aufgabe-2.md](https://gitlab.kit.edu/kit/etp-lehre/p1-praktikum/students/-/tree/main/Resonanz/doc/Hinweise-Aufgabe-2.md).**\n",
    "\n",
    "### Aufgabe 2.1: Mechanische erzwungene Schwingung\n",
    "\n",
    " - Nehmen Sie Resonanzkurven $\\varphi(\\Omega)$ für mindestens zwei verschiedene Ströme $I_{\\mathrm{B}}$ auf. Diskutieren Sie den Verlauf sowohl der Amplitude $\\varphi_{0}$, als auch der Phasenverschiebung $\\Delta\\phi$. Bestimmen Sie hierzu $\\Delta\\phi$ in drei Bereichen:\n",
    "   - möglichst weit unterhalb;\n",
    "   - möglichst weit oberhalb; und\n",
    "   - bei der Resonanzfrequenz.\n",
    " - Vergleichen Sie den Verlauf der gemessenen Resonanzkurven mit Ihrer Erwartung. \n",
    " - Bestimmen $Q(I_{\\mathrm{B}})$ und vergleichen Sie Ihre Ergebnisse mit den Ergebnissen aus Aufgabe 1.3. \n",
    "\n",
    "---"
   ]
  },
  {
   "cell_type": "markdown",
   "id": "704714f1-b88d-421d-b970-3a9b022f8771",
   "metadata": {},
   "source": [
    "**Lösung:**\n",
    "\n",
    "*Sie können Ihr Protokoll direkt in dieses Dokument einfügen. Wenn Sie dieses Dokument als Grundlage für ein [Jupyter notebook](https://jupyter.org/) verwenden wollen können Sie die Auswertung, Skripte und ggf. bildliche Darstellungen mit Hilfe von [python](https://www.python.org/) ebenfalls hier einfügen. Löschen Sie hierzu diesen kursiv gestellten Text aus dem Dokument.* \n",
    "\n",
    "---"
   ]
  },
  {
   "cell_type": "markdown",
   "id": "81f63079-eefa-40a1-b2c2-a032b978b11f",
   "metadata": {},
   "source": [
    "### Aufgabe 2.2: Elektrische erzwungene Schwingung\n",
    "\n",
    "Führen Sie die folgenden Aufgaben für drei verschiedene Widerstände $R$ durch:\n",
    "\n",
    " - Stellen Sie $I_{\\Omega}$ und $Z(\\Omega)$ in einer gemeinsamen Abbildung dar. \n",
    " - Bestimmen Sie $Q(R)$ aus der Resonanzbreite. \n",
    " - Demonstrieren Sie die Resonanzüberhöhung an Spule und Kondensator, indem Sie die Spannungsverläufe an Spule und Kondensator zusammen mit der anliegenden Spannung als Funktion von $\\Omega$ darstellen. \n",
    " - Bestimmen Sie auch hieraus $Q(R)$ und vergleichen Sie die ermittelten Werte im Rahmen der sich ergebenden Unsicherheiten. \n",
    " - Stellen Sie $\\Delta\\phi(\\Omega)$ dar.\n",
    "\n",
    "---"
   ]
  },
  {
   "cell_type": "markdown",
   "id": "b90c07ce-9e55-470c-9ae8-5a22ab54fda5",
   "metadata": {},
   "source": [
    "**Lösung:**\n",
    "\n",
    "*Sie können Ihr Protokoll direkt in dieses Dokument einfügen. Wenn Sie dieses Dokument als Grundlage für ein [Jupyter notebook](https://jupyter.org/) verwenden wollen können Sie die Auswertung, Skripte und ggf. bildliche Darstellungen mit Hilfe von [python](https://www.python.org/) ebenfalls hier einfügen. Löschen Sie hierzu diesen kursiv gestellten Text aus dem Dokument.* \n",
    "\n",
    "---"
   ]
  }
 ],
 "metadata": {
  "kernelspec": {
   "display_name": "Python 3 (ipykernel)",
   "language": "python",
   "name": "python3"
  },
  "language_info": {
   "codemirror_mode": {
    "name": "ipython",
    "version": 3
   },
   "file_extension": ".py",
   "mimetype": "text/x-python",
   "name": "python",
   "nbconvert_exporter": "python",
   "pygments_lexer": "ipython3",
   "version": "3.10.12"
  }
 },
 "nbformat": 4,
 "nbformat_minor": 5
}
