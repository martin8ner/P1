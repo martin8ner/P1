{
 "cells": [
  {
   "cell_type": "markdown",
   "id": "885c7767-e912-4e31-b5d6-3a3443ffa58e",
   "metadata": {},
   "source": [
    "# Fakultät für Physik\n",
    "\n",
    "## Physikalisches Praktikum P1 für Studierende der Physik\n",
    "\n",
    "Versuch P1-63, 64, 65 (Stand: Oktober 2023)\n",
    "\n",
    "[Raum F1-08](https://labs.physik.kit.edu/img/Praktikum/Lageplan_P1.png)\n",
    "\n",
    "\n",
    "\n",
    "# Schaltlogik"
   ]
  },
  {
   "cell_type": "markdown",
   "id": "02723acd-b4da-43cb-8534-d52f27e5e556",
   "metadata": {},
   "source": [
    "Name: __________________ Vorname: __________________ E-Mail: __________________\n",
    "\n",
    "\\begin{equation*}\n",
    "\\begin{split}\n",
    "&\\\\\n",
    "&\\\\\n",
    "\\end{split}\n",
    "\\end{equation*}\n",
    "\n",
    "Name: __________________ Vorname: __________________ E-Mail: __________________\n",
    "\n",
    "\\begin{equation*}\n",
    "\\begin{split}\n",
    "&\\\\\n",
    "&\\\\\n",
    "&\\\\\n",
    "\\end{split}\n",
    "\\end{equation*}\n",
    "\n",
    "Gruppennummer: _____\n",
    "\n",
    "\\begin{equation*}\n",
    "\\begin{split}\n",
    "&\\\\\n",
    "&\\\\\n",
    "&\\\\\n",
    "\\end{split}\n",
    "\\end{equation*}\n",
    "\n",
    "\n",
    "Betreuer: __________________\n",
    "\n",
    "\\begin{equation*}\n",
    "\\begin{split}\n",
    "&\\\\\n",
    "&\\\\\n",
    "&\\\\\n",
    "\\end{split}\n",
    "\\end{equation*}\n",
    "\n",
    "Versuch durchgeführt am: __________________"
   ]
  },
  {
   "cell_type": "markdown",
   "id": "bd1ced8c-5364-400f-b2ab-cd86a81d5eda",
   "metadata": {},
   "source": [
    "---\n",
    "\n",
    "**Beanstandungen:**\n",
    "\n",
    "\\begin{equation*}\n",
    "\\begin{split}\n",
    "&\\\\\n",
    "&\\\\\n",
    "&\\\\\n",
    "&\\\\\n",
    "&\\\\\n",
    "&\\\\\n",
    "&\\\\\n",
    "&\\\\\n",
    "&\\\\\n",
    "&\\\\\n",
    "\\end{split}\n",
    "%\\text{\\vspace{10cm}}\n",
    "\\end{equation*}\n",
    "\n",
    "<br>\n",
    "Testiert am: __________________ Testat: __________________"
   ]
  },
  {
   "cell_type": "markdown",
   "id": "305b8433-7bc6-4a3c-b0e6-fa5c8955849a",
   "metadata": {},
   "source": [
    "# Durchführung\n",
    "\n",
    "Dieser Praktikumsversuch ist so gegliedert, dass die einzelnen Aufgabenteile eine logische Folge bilden. Auch ohne Vorkenntnisse erhalten Sie so wertvolle Einblicke in die Grundlagen der Digitaltechnik. Es genügt, wenn Sie etwa zwei Drittel der vorgeschlagenen Aufgaben bearbeiten. Treffen Sie Ihre Auswahl je nach Vorkenntnissen und Interesse. Die mit **(*)** gekennzeichneten **Aufgaben 3.1** und **3.2**, **4**, **5.1** und **6.1 sollten jedoch auf jeden Fall bearbeitet werden**. \n",
    "\n",
    "## Aufgabe 1: Gatter aus diskreten Bauelementen \n",
    "\n",
    "Bei dieser Aufgabe lernen Sie einfachste Grundschaltungen der Schaltlogik kennen.\n",
    "\n",
    "### Aufgabe 1.1: Das AND-Gatter \n",
    "\n",
    "Bauen Sie ein Dioden-AND-Gatter auf und prüfen Sie seine Funktion.\n",
    "\n",
    "---"
   ]
  },
  {
   "cell_type": "markdown",
   "id": "375bc285-33cc-43cc-bf8f-9247c1431ae4",
   "metadata": {},
   "source": [
    "**Lösung:**\n",
    "\n",
    "*Sie können Ihr Protokoll direkt in dieses Dokument einfügen. Wenn Sie dieses Dokument als Grundlage für ein [Jupyter notebook](https://jupyter.org/) verwenden wollen können Sie die Auswertung, Skripte und ggf. bildliche Darstellungen mit Hilfe von [python](https://www.python.org/) ebenfalls hier einfügen. Löschen Sie hierzu diesen kursiv gestellten Text aus dem Dokument.* \n",
    "\n",
    "---"
   ]
  },
  {
   "cell_type": "markdown",
   "id": "20887c3e-9c2e-4cf2-918e-c6091ec8f900",
   "metadata": {},
   "source": [
    "### Aufgabe 1.2: NOT- und NAND-Gatter \n",
    "\n",
    "Bauen Sie zusätzlich zum AND-Gatter ein Transistor-NOT-Gatter auf und bilden Sie durch Hintereinanderschalten ein NAND-Gatter. Prüfen Sie seine Funktion.\n",
    "\n",
    "---"
   ]
  },
  {
   "cell_type": "markdown",
   "id": "4ff10d07-87d1-4a2a-a7ef-a7014dc727b6",
   "metadata": {},
   "source": [
    "**Lösung:**\n",
    "\n",
    "*Sie können Ihr Protokoll direkt in dieses Dokument einfügen. Wenn Sie dieses Dokument als Grundlage für ein [Jupyter notebook](https://jupyter.org/) verwenden wollen können Sie die Auswertung, Skripte und ggf. bildliche Darstellungen mit Hilfe von [python](https://www.python.org/) ebenfalls hier einfügen. Löschen Sie hierzu diesen kursiv gestellten Text aus dem Dokument.* \n",
    "\n",
    "---"
   ]
  },
  {
   "cell_type": "markdown",
   "id": "97b7053b-f7c8-471f-bd76-01bb183198e0",
   "metadata": {},
   "source": [
    "### Aufgabe 1.3: OR-Gatter \n",
    "\n",
    "Bauen Sie ein Dioden-OR-Gatter auf und prüfen Sie seine Funktion.\n",
    "\n",
    "---"
   ]
  },
  {
   "cell_type": "markdown",
   "id": "c81ae931-21c9-4eff-bb7b-259cf64b3c5e",
   "metadata": {},
   "source": [
    "**Lösung:**\n",
    "\n",
    "*Sie können Ihr Protokoll direkt in dieses Dokument einfügen. Wenn Sie dieses Dokument als Grundlage für ein [Jupyter notebook](https://jupyter.org/) verwenden wollen können Sie die Auswertung, Skripte und ggf. bildliche Darstellungen mit Hilfe von [python](https://www.python.org/) ebenfalls hier einfügen. Löschen Sie hierzu diesen kursiv gestellten Text aus dem Dokument.* \n",
    "\n",
    "---"
   ]
  },
  {
   "cell_type": "markdown",
   "id": "66f60b58-6aac-4a8b-bb6a-adad17f3c95a",
   "metadata": {},
   "source": [
    "## Aufgabe 2: Weitere einfache logische Funktionen (Gatter)\n",
    "\n",
    "Die folgenden Gatter sollen Sie als *Integrated Circuits* (ICs) mit Hilfe einer Experimentiertafel (von Fischer TB05) realisieren. Vergessen Sie nicht, die ICs an die Betriebsspannung ($+5\\,\\mathrm{V}$ und $\\perp$) anzuschließen. Bei allen verwendeten IC-Typen wirken freie Eingänge so, als seien sie an das Potential 'Logisch 1' angeschlossen (sprich 'auf 1 gelegt'). Die bei den Teilaufgaben in eckigen Klammern angegebenen Zahlen bezeichnen die vorgeschlagenen IC-Typ-Nummern.\n",
    "\n",
    "### Aufgabe 2.1: Inverter (NOT-Gatter) aus NAND- oder NOR-Gatter [7400, 7402]\n",
    "\n",
    "Realisieren Sie einen digitalen Inverter (NOT-Gatter) aus einem NAND- oder einem NOR-Gatter. Betrachten Sie hierzu die Wahrheitstabellen der Gatter. Es gibt für beide Gatter jeweils zwei verschiedene Möglichkeiten, einen Inverter zu realisieren. Das Invertieren einer Dualziffer (der wechselseitige Austausch von 0 und 1) wird auch als 'Negieren' bezeichnet. Dies sollte nicht mit der negativen Zahl (vgl. **Aufgabe 3.3**) verwechselt werden. Das Invertieren aller Ziffern einer Dualzahl wird auch als 'Komplementieren' bezeichnet.\n",
    "\n",
    "---"
   ]
  },
  {
   "cell_type": "markdown",
   "id": "150973f7-01c7-40e7-b99a-8ccd437ea3c5",
   "metadata": {},
   "source": [
    "**Lösung:**\n",
    "\n",
    "*Sie können Ihr Protokoll direkt in dieses Dokument einfügen. Wenn Sie dieses Dokument als Grundlage für ein [Jupyter notebook](https://jupyter.org/) verwenden wollen können Sie die Auswertung, Skripte und ggf. bildliche Darstellungen mit Hilfe von [python](https://www.python.org/) ebenfalls hier einfügen. Löschen Sie hierzu diesen kursiv gestellten Text aus dem Dokument.* \n",
    "\n",
    "---"
   ]
  },
  {
   "cell_type": "markdown",
   "id": "d3dda936-f113-45ca-87bf-3bfe51644ad7",
   "metadata": {},
   "source": [
    "### Aufgabe 2.2: XOR [7400, 7408, 7432] \n",
    "\n",
    "Lesen Sie aus der Wahrheitstabelle der XOR-Funktion (siehe Vorbereitungshilfe S.10) deren disjunktive Normalform ab. Realisieren Sie diese (ohne vorherige Umformung) mit Hilfe von Gattern und überprüfen Sie die Funktion der Schaltung. Sie lernen hiermit ein Verfahren kennen, mit dessen Hilfe Sie ein zunächst nur durch eine Wahrheitstabelle gegebenes Problem durch eine Schaltlogik-Funktion (in der Booleschen Algebra) beschreiben und schließlich als logische Schaltung realisieren können.\n",
    "\n",
    "---"
   ]
  },
  {
   "cell_type": "markdown",
   "id": "24056bff-8dbb-4acd-a03e-1bf6c3f5a1f0",
   "metadata": {},
   "source": [
    "**Lösung:**\n",
    "\n",
    "*Sie können Ihr Protokoll direkt in dieses Dokument einfügen. Wenn Sie dieses Dokument als Grundlage für ein [Jupyter notebook](https://jupyter.org/) verwenden wollen können Sie die Auswertung, Skripte und ggf. bildliche Darstellungen mit Hilfe von [python](https://www.python.org/) ebenfalls hier einfügen. Löschen Sie hierzu diesen kursiv gestellten Text aus dem Dokument.* \n",
    "\n",
    "---"
   ]
  },
  {
   "cell_type": "markdown",
   "id": "b4758697-b501-45da-a365-05d90a0e0c26",
   "metadata": {},
   "source": [
    "### Aufgabe 2.3: XOR mit NAND-Gattern [7400] \n",
    "\n",
    "Versuchen Sie die Umformung der in **Aufgabe 2.2** aufgestellten XOR-Funktion in die Form \n",
    "\n",
    "$$\n",
    "f=\\overline{\\overline{a\\overline{ab}}\\,\\overline{b\\overline{ab}}}. \n",
    "$$\n",
    "\n",
    "Realisieren Sie das XOR in dieser Form und überprüfen Sie seine Funktion.\n",
    "\n",
    "---"
   ]
  },
  {
   "cell_type": "markdown",
   "id": "6cf16b2f-c166-41dd-a08c-d46a3c21f527",
   "metadata": {},
   "source": [
    "**Lösung:**\n",
    "\n",
    "*Sie können Ihr Protokoll direkt in dieses Dokument einfügen. Wenn Sie dieses Dokument als Grundlage für ein [Jupyter notebook](https://jupyter.org/) verwenden wollen können Sie die Auswertung, Skripte und ggf. bildliche Darstellungen mit Hilfe von [python](https://www.python.org/) ebenfalls hier einfügen. Löschen Sie hierzu diesen kursiv gestellten Text aus dem Dokument.* \n",
    "\n",
    "---"
   ]
  },
  {
   "cell_type": "markdown",
   "id": "615aac0f-25ed-4fb8-9a5c-77c11c6c1036",
   "metadata": {},
   "source": [
    "## Aufgabe 3: Addierer\n",
    "\n",
    "### Aufgabe 3.1: Halbaddierer [7408, 7486] **(*)**\n",
    "\n",
    "Der Halbaddierer soll zwei einstellige Dualzahlen addieren. Überlegen Sie sich die zugehörige Wahrheitstabelle (einschließlich Summe und Übertrag). Realisieren Sie den Halbaddierer mit je einem passenden Gatter für Summe und Übertrag und prüfen Sie seine Funktion.\n",
    "\n",
    "---"
   ]
  },
  {
   "cell_type": "markdown",
   "id": "8eaa1938-1347-4d76-abad-e1646d094359",
   "metadata": {},
   "source": [
    "**Lösung:**\n",
    "\n",
    "*Sie können Ihr Protokoll direkt in dieses Dokument einfügen. Wenn Sie dieses Dokument als Grundlage für ein [Jupyter notebook](https://jupyter.org/) verwenden wollen können Sie die Auswertung, Skripte und ggf. bildliche Darstellungen mit Hilfe von [python](https://www.python.org/) ebenfalls hier einfügen. Löschen Sie hierzu diesen kursiv gestellten Text aus dem Dokument.* \n",
    "\n",
    "---"
   ]
  },
  {
   "cell_type": "markdown",
   "id": "44dd4e62-90df-4b5d-83f5-7564c1b22df9",
   "metadata": {},
   "source": [
    "### Aufgabe 3.2: Volladdierer [7408, 7486, 7432] **(*)**\n",
    "\n",
    "Überlegen Sie sich eine 1-Bit-Volladdierer-Schaltung, die aus zwei Halbaddierern und einem OR-Gatter für deren Übertragsausgänge besteht. Bauen Sie die Schaltung auf und prüfen Sie ihre Funktion.\n",
    "\n",
    "---"
   ]
  },
  {
   "cell_type": "markdown",
   "id": "3c46aa34-239d-4171-8976-89f59c470745",
   "metadata": {},
   "source": [
    "**Lösung:**\n",
    "\n",
    "*Sie können Ihr Protokoll direkt in dieses Dokument einfügen. Wenn Sie dieses Dokument als Grundlage für ein [Jupyter notebook](https://jupyter.org/) verwenden wollen können Sie die Auswertung, Skripte und ggf. bildliche Darstellungen mit Hilfe von [python](https://www.python.org/) ebenfalls hier einfügen. Löschen Sie hierzu diesen kursiv gestellten Text aus dem Dokument.* \n",
    "\n",
    "---"
   ]
  },
  {
   "cell_type": "markdown",
   "id": "484da8ed-05c5-4df3-bf85-d5e1750fef38",
   "metadata": {},
   "source": [
    "### Aufgabe 3.3: Subtrahierer [7483, 7400, 7486] \n",
    "\n",
    "Bauen Sie den vorgeschlagenen 4-Bit-Subtrahierer (siehe Vorbereitungshilfe S.15) auf und untersuchen Sie seine Funktion, sowohl für positive, als auch für negative Differenzen. Die Schaltung ist nicht-trivial, sie ist aber ein gutes Beispiel dafür, wie man bei geschickter Ausnutzung aller Möglichkeiten den Schaltungsaufwand gering halten kann.\n",
    "\n",
    "\n",
    "---"
   ]
  },
  {
   "cell_type": "markdown",
   "id": "d57fa648-cf4a-43ce-8ad7-c79ca0685efb",
   "metadata": {},
   "source": [
    "**Lösung:**\n",
    "\n",
    "*Sie können Ihr Protokoll direkt in dieses Dokument einfügen. Wenn Sie dieses Dokument als Grundlage für ein [Jupyter notebook](https://jupyter.org/) verwenden wollen können Sie die Auswertung, Skripte und ggf. bildliche Darstellungen mit Hilfe von [python](https://www.python.org/) ebenfalls hier einfügen. Löschen Sie hierzu diesen kursiv gestellten Text aus dem Dokument.* \n",
    "\n",
    "---"
   ]
  },
  {
   "cell_type": "markdown",
   "id": "a81eea90-0a30-4aa0-b07e-1b9c7acc6caa",
   "metadata": {},
   "source": [
    "## Aufgabe 4: Speicherelemente **(*)**\n",
    "\n",
    "Mit dieser Aufgabe stellen wir Ihnen eine Reihe von Flip-Flop-Typen vor. Flip-Flops (FF) sind bistabile Kippstufen, die als digitale Speicher dienen. Sie sind auch die Bausteine von Schieberegistern und Zählern.\n",
    "\n",
    "### Aufgabe 4.1: RS-Flip-Flop (RS-FF) [7400] \n",
    "\n",
    "Verbinden Sie zwei NAND-Gatter zu einem FF. Ermitteln Sie seine Funktionstabelle. Eine Funktionstabelle beschreibt die Abhängigkeit der Ausgangszustände (hier an $Q$ und $\\overline{Q}$) von den Eingangszuständen (hier an $R$ (Reset) und $S$ (Set)).\n",
    "\n",
    "---"
   ]
  },
  {
   "cell_type": "markdown",
   "id": "946253e8-b996-42c3-8770-ea7140004ef2",
   "metadata": {},
   "source": [
    "**Lösung:**\n",
    "\n",
    "*Sie können Ihr Protokoll direkt in dieses Dokument einfügen. Wenn Sie dieses Dokument als Grundlage für ein [Jupyter notebook](https://jupyter.org/) verwenden wollen können Sie die Auswertung, Skripte und ggf. bildliche Darstellungen mit Hilfe von [python](https://www.python.org/) ebenfalls hier einfügen. Löschen Sie hierzu diesen kursiv gestellten Text aus dem Dokument.* \n",
    "\n",
    "---"
   ]
  },
  {
   "cell_type": "markdown",
   "id": "6f4aa669-45c2-4ee5-84ca-adcaa1b9dd56",
   "metadata": {},
   "source": [
    "### Aufgabe 4.2: Getaktetes RS-Flip-Flop (RST-FF) [7400] \n",
    "\n",
    "Bauen Sie ein RST-FF (siehe Vorbereitungshilfe S.19) auf. Ermitteln Sie seine Funktionstabelle. Finden Sie eine Möglichkeit, den „verbotenen Zustand“ zu eliminieren.\n",
    "\n",
    "---"
   ]
  },
  {
   "cell_type": "markdown",
   "id": "755cdc69-7c8a-4574-9950-15f6dea1478c",
   "metadata": {},
   "source": [
    "**Lösung:**\n",
    "\n",
    "*Sie können Ihr Protokoll direkt in dieses Dokument einfügen. Wenn Sie dieses Dokument als Grundlage für ein [Jupyter notebook](https://jupyter.org/) verwenden wollen können Sie die Auswertung, Skripte und ggf. bildliche Darstellungen mit Hilfe von [python](https://www.python.org/) ebenfalls hier einfügen. Löschen Sie hierzu diesen kursiv gestellten Text aus dem Dokument.* \n",
    "\n",
    "---"
   ]
  },
  {
   "cell_type": "markdown",
   "id": "cdd6bc28-52b6-468f-9320-87c3ecc49c85",
   "metadata": {},
   "source": [
    "### Aufgabe 4.3: JK-Master-Slave-Flip-Flop (JK-MS-FF) [7400, 7410] \n",
    "\n",
    "Bauen Sie ein JK-MS-FF (siehe Vorbereitungshilfe S.23) auf. Ermitteln Sie seine Funktionstabelle, in der sowohl die Master-, als auch die Slave-Ausgänge enthalten sein sollen, und die zwischen dem 0-1-Wechsel und dem 1-0-Wechsel des Taktsignals unterscheidet. Beschreiben Sie die Unterschiede und Vorteile dieses FF-Typen gegenüber den zuvor untersuchten FF-Typen.\n",
    "\n",
    "---"
   ]
  },
  {
   "cell_type": "markdown",
   "id": "93babac0-edce-4fe5-a285-7392d16af206",
   "metadata": {},
   "source": [
    "**Lösung:**\n",
    "\n",
    "*Sie können Ihr Protokoll direkt in dieses Dokument einfügen. Wenn Sie dieses Dokument als Grundlage für ein [Jupyter notebook](https://jupyter.org/) verwenden wollen können Sie die Auswertung, Skripte und ggf. bildliche Darstellungen mit Hilfe von [python](https://www.python.org/) ebenfalls hier einfügen. Löschen Sie hierzu diesen kursiv gestellten Text aus dem Dokument.* \n",
    "\n",
    "---"
   ]
  },
  {
   "cell_type": "markdown",
   "id": "8b3fcc7b-4342-4a37-b661-ca5f7bdd896e",
   "metadata": {},
   "source": [
    "## Aufgabe 5 Schieben, Multiplizieren, Rotieren\n",
    "\n",
    "### Aufgabe 5.1: 4-Bit-Schieberegister [7400, 7476] **(*)**\n",
    "\n",
    "Bauen Sie ein 4-Bit-Schieberegister (siehe Vorbereitungshilfe S.25) auf. Löschen Sie das Register über den C-Eingang. Laden Sie dann das Register durch geeignete Stellungen des Eingangsschalters bei den folgenden vier Taktzyklen (0-1-0) mit einer gewünschten 4-Bit-Dualzahl. Beobachten Sie nach jeder Taktflanke die Ausgänge $Q_{A}$, $Q_{B}$, $Q_{C}$, $Q_{D}$. Machen Sie sich klar, dass Sie seriell (zeitlich nacheinander auf einer Leitung) ankommende Information jetzt parallel, gleichzeitig auf verschiedenen Leitungen, vorliegen haben. \n",
    "\n",
    "**Anmerkung:** Da mechanische Schalter beim Ein- und Ausschalten prellen, müssen Sie mit Hilfe eines Flip-Flops ein prellfreies Taktsignal erzeugen (siehe Vorbereitungshilfe S.21).\n",
    "\n",
    "---"
   ]
  },
  {
   "cell_type": "markdown",
   "id": "b6f919ce-38cb-4797-bdfa-64318420e19e",
   "metadata": {},
   "source": [
    "**Lösung:**\n",
    "\n",
    "*Sie können Ihr Protokoll direkt in dieses Dokument einfügen. Wenn Sie dieses Dokument als Grundlage für ein [Jupyter notebook](https://jupyter.org/) verwenden wollen können Sie die Auswertung, Skripte und ggf. bildliche Darstellungen mit Hilfe von [python](https://www.python.org/) ebenfalls hier einfügen. Löschen Sie hierzu diesen kursiv gestellten Text aus dem Dokument.* \n",
    "\n",
    "---"
   ]
  },
  {
   "cell_type": "markdown",
   "id": "f4811f58-7369-4fac-a5b4-097a3b4dc826",
   "metadata": {},
   "source": [
    "### Aufgabe 5.2: 4-Bit-Rotationsregister (parallele Eingabe) [7400, 7476]. \n",
    "\n",
    "Benutzen Sie die Preset-Eingänge ($P$) der JK-MS-FF für parallele Dateneingabe in das Schieberegister. Schließen Sie den Ausgang $Q_{D}$ des letzten FFs jetzt an den Eingang $J_{A}$ des ersten FFs. Untersuchen Sie die Funktion dieser Schaltung beim Takten. Sie kennen das Rotieren von Information z.B. von der Lauflicht-Reklame.\n",
    "\n",
    "---"
   ]
  },
  {
   "cell_type": "markdown",
   "id": "9dbda470-da7b-437c-934a-bc5f61683e3f",
   "metadata": {},
   "source": [
    "**Lösung:**\n",
    "\n",
    "*Sie können Ihr Protokoll direkt in dieses Dokument einfügen. Wenn Sie dieses Dokument als Grundlage für ein [Jupyter notebook](https://jupyter.org/) verwenden wollen können Sie die Auswertung, Skripte und ggf. bildliche Darstellungen mit Hilfe von [python](https://www.python.org/) ebenfalls hier einfügen. Löschen Sie hierzu diesen kursiv gestellten Text aus dem Dokument.* \n",
    "\n",
    "---"
   ]
  },
  {
   "cell_type": "markdown",
   "id": "2de77e54-0527-4eee-8459-77823ac42c42",
   "metadata": {},
   "source": [
    "## Aufgabe 6: Zähler \n",
    "\n",
    "Elektronische Zähler sind heute vielbenutzte Messinstrumente. Zählt man Ereignisse während einer bestimmten Zeit, so spricht man bei statistischen Ereignissen von Zählratenmessung, bei periodischen von Frequenzmessung. Speist man den Zähler mit einer periodischen Impulsfolge bekannter Frequenz, erhält man eine Uhr. Gibt eine solche Uhr beim Erreichen einer vorgewählten Zeit ein Schaltsignal ab, dann bezeichnet man sie Timer (oder auch auch Wecker).\n",
    "\n",
    "### Aufgabe 6.1: 4-Bit-Asynchronzähler [7476] **(*)**\n",
    "\n",
    "Schalten Sie gemäß Vorbereitungshilfe S.27 vier JK-MS-FF hintereinander, löschen Sie den Inhalt und beobachten Sie nach jedem Taktzyklus am Zählereingang $T$ die an $Q_{A}$, $Q_{B}$, $Q_{C}$, $Q_{D}$ angezeigte Dualzahl.\n",
    "\n",
    "---"
   ]
  },
  {
   "cell_type": "markdown",
   "id": "32855f82-9189-40cb-a073-5e110b35c4f5",
   "metadata": {},
   "source": [
    "**Lösung:**\n",
    "\n",
    "*Sie können Ihr Protokoll direkt in dieses Dokument einfügen. Wenn Sie dieses Dokument als Grundlage für ein [Jupyter notebook](https://jupyter.org/) verwenden wollen können Sie die Auswertung, Skripte und ggf. bildliche Darstellungen mit Hilfe von [python](https://www.python.org/) ebenfalls hier einfügen. Löschen Sie hierzu diesen kursiv gestellten Text aus dem Dokument.* \n",
    "\n",
    "---"
   ]
  },
  {
   "cell_type": "markdown",
   "id": "c95ee2d7-1f6d-4a02-999c-3cec69a3b9d5",
   "metadata": {},
   "source": [
    "### Aufgabe 6.2: Asynchroner Dezimalzähler [7400, 7476] \n",
    "\n",
    "Erweitern Sie den Zähler von **Aufgabe 6.1** durch ein NAND-Gatter so, dass beim Erreichen von $Q_{D}Q_{C}Q_{B}Q_{A} = 1010$ (dezimal 10) der Zähler über die C-Eingänge auf Null zurückgesetzt wird.\n",
    "\n",
    "---"
   ]
  },
  {
   "cell_type": "markdown",
   "id": "06ca3e72-f03a-4842-b4cc-6101c0423175",
   "metadata": {},
   "source": [
    "**Lösung:**\n",
    "\n",
    "*Sie können Ihr Protokoll direkt in dieses Dokument einfügen. Wenn Sie dieses Dokument als Grundlage für ein [Jupyter notebook](https://jupyter.org/) verwenden wollen können Sie die Auswertung, Skripte und ggf. bildliche Darstellungen mit Hilfe von [python](https://www.python.org/) ebenfalls hier einfügen. Löschen Sie hierzu diesen kursiv gestellten Text aus dem Dokument.* \n",
    "\n",
    "---"
   ]
  },
  {
   "cell_type": "markdown",
   "id": "2095f327-c003-44c4-bc01-7e7dd2eaeaa9",
   "metadata": {},
   "source": [
    "### Aufgabe 6.3: 4-Bit-Synchronzähler [7408, 7476] \n",
    "\n",
    "Entwerfen Sie eine Schaltung für einen 4-Bit-Synchronzähler. Bauen Sie diese auf und überprüfen Sie ihre Funktion.\n",
    "\n",
    "---"
   ]
  },
  {
   "cell_type": "markdown",
   "id": "f73d8566-758e-49df-8e69-ebf2e710428b",
   "metadata": {},
   "source": [
    "**Lösung:**\n",
    "\n",
    "*Sie können Ihr Protokoll direkt in dieses Dokument einfügen. Wenn Sie dieses Dokument als Grundlage für ein [Jupyter notebook](https://jupyter.org/) verwenden wollen können Sie die Auswertung, Skripte und ggf. bildliche Darstellungen mit Hilfe von [python](https://www.python.org/) ebenfalls hier einfügen. Löschen Sie hierzu diesen kursiv gestellten Text aus dem Dokument.* \n",
    "\n",
    "---"
   ]
  },
  {
   "cell_type": "markdown",
   "id": "9f016edf-d3d9-4f84-bd46-992d2c11cf5b",
   "metadata": {},
   "source": [
    "### Aufgabe 6.4: Synchroner Dezimalzähler [(7400,) 7408, 7476] \n",
    "\n",
    "Bauen Sie den synchronen Dezimalzähler entsprechend Vorbereitungshilfe S.30 auf und überprüfen und diskutieren Sie seine Funktion.\n",
    "\n",
    "---"
   ]
  },
  {
   "cell_type": "markdown",
   "id": "2462bcfd-3417-43b2-9f95-2a23d1037a76",
   "metadata": {},
   "source": [
    "**Lösung:**\n",
    "\n",
    "*Sie können Ihr Protokoll direkt in dieses Dokument einfügen. Wenn Sie dieses Dokument als Grundlage für ein [Jupyter notebook](https://jupyter.org/) verwenden wollen können Sie die Auswertung, Skripte und ggf. bildliche Darstellungen mit Hilfe von [python](https://www.python.org/) ebenfalls hier einfügen. Löschen Sie hierzu diesen kursiv gestellten Text aus dem Dokument.* \n",
    "\n",
    "---"
   ]
  },
  {
   "cell_type": "markdown",
   "id": "51862096-eef3-461e-8d5e-5d0fe63936ac",
   "metadata": {},
   "source": [
    "## Aufgabe 7: Digital-Analog-Wandlung \n",
    "\n",
    "Schließen Sie ein Drehspulmessinstrument über ein geeignetes Widerstandsnetzwerk so an die Ausgänge $Q_{D}$, $Q_{C}$, $Q_{B}$, $Q_{A}$ eines Dezimalzählers an, dass die Ausschläge proportional zum Zählerstand sind und beim Zählerstand 9 gerade 90% des Vollausschlages erreicht werden. Die Kenndaten des Instruments sind $R_{i}=1\\,\\mathrm{k\\Omega}$ und $I_{\\mathrm{max}}=100\\,\\mathrm{\\mu A}$. Bei den benutzten ICs beträgt das 1-Potential ca. $4\\,\\mathrm{V}$, das 0-Potential ca. $0\\,\\mathrm{V}$.\n",
    "\n",
    "---"
   ]
  },
  {
   "cell_type": "markdown",
   "id": "0b8a553d-e338-4074-8930-a620cb18c5d7",
   "metadata": {},
   "source": [
    "**Lösung:**\n",
    "\n",
    "*Sie können Ihr Protokoll direkt in dieses Dokument einfügen. Wenn Sie dieses Dokument als Grundlage für ein [Jupyter notebook](https://jupyter.org/) verwenden wollen können Sie die Auswertung, Skripte und ggf. bildliche Darstellungen mit Hilfe von [python](https://www.python.org/) ebenfalls hier einfügen. Löschen Sie hierzu diesen kursiv gestellten Text aus dem Dokument.* \n",
    "\n",
    "---"
   ]
  }
 ],
 "metadata": {
  "kernelspec": {
   "display_name": "Python 3 (ipykernel)",
   "language": "python",
   "name": "python3"
  },
  "language_info": {
   "codemirror_mode": {
    "name": "ipython",
    "version": 3
   },
   "file_extension": ".py",
   "mimetype": "text/x-python",
   "name": "python",
   "nbconvert_exporter": "python",
   "pygments_lexer": "ipython3",
   "version": "3.10.12"
  }
 },
 "nbformat": 4,
 "nbformat_minor": 5
}
