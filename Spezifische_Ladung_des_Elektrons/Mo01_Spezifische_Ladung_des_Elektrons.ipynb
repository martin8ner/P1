{
 "cells": [
  {
   "attachments": {},
   "cell_type": "markdown",
   "metadata": {
    "collapsed": false
   },
   "source": [
    "<img src=\"./figures/Logo_KIT.svg\" width=200px style=\"float:right;\" />\n",
    "\n",
    "# Fakultät für Physik \n",
    "\n",
    "## Physikalisches Praktikum P1 für Studierende der Physik\n",
    "\n",
    "Versuch P1-71, 72, 73 (Stand: Dezember 2022)\n",
    "\n",
    "[Raum F1-14](http://www-ekp.physik.uni-karlsruhe.de/~simonis/praktikum/layoutobjekte/Lageplan_P1.png)\n",
    "\n",
    "# Spezifische Ladung des Elektrons"
   ]
  },
  {
   "attachments": {},
   "cell_type": "markdown",
   "metadata": {
    "collapsed": false
   },
   "source": [
    "Name: Aichert    Vorname: Julius E-Mail: uhoeb@student.kit.edu\n",
    "\n",
    "\\begin{equation*}\n",
    "\\begin{split}\n",
    "&\\\\\n",
    "&\\\\\n",
    "\\end{split}\n",
    "\\end{equation*}\n",
    "\n",
    "Name: Achtner   Vorname: Martin E-Mail: urrvl@student.kit.edu\n",
    "\n",
    "\\begin{equation*}\n",
    "\\begin{split}\n",
    "&\\\\\n",
    "&\\\\\n",
    "&\\\\\n",
    "\\end{split}\n",
    "\\end{equation*}\n",
    "\n",
    "Gruppennummer: Mo01\n",
    "\n",
    "\\begin{equation*}\n",
    "\\begin{split}\n",
    "&\\\\\n",
    "&\\\\\n",
    "&\\\\\n",
    "\\end{split}\n",
    "\\end{equation*}\n",
    "\n",
    "\n",
    "Betreuer: __________________\n",
    "\n",
    "\\begin{equation*}\n",
    "\\begin{split}\n",
    "&\\\\\n",
    "&\\\\\n",
    "&\\\\\n",
    "\\end{split}\n",
    "\\end{equation*}\n",
    "\n",
    "Versuch durchgeführt am: 8.11.2023"
   ]
  },
  {
   "attachments": {},
   "cell_type": "markdown",
   "metadata": {
    "collapsed": false
   },
   "source": [
    "---\n",
    "\n",
    "**Beanstandungen:**\n",
    "\n",
    "\\begin{equation*}\n",
    "\\begin{split}\n",
    "&\\\\\n",
    "&\\\\\n",
    "&\\\\\n",
    "&\\\\\n",
    "&\\\\\n",
    "&\\\\\n",
    "&\\\\\n",
    "&\\\\\n",
    "&\\\\\n",
    "&\\\\\n",
    "\\end{split}\n",
    "%\\text{\\vspace{10cm}}\n",
    "\\end{equation*}\n",
    "\n",
    "<br>\n",
    "Testiert am: __________________ Testat: __________________"
   ]
  },
  {
   "attachments": {},
   "cell_type": "markdown",
   "metadata": {
    "collapsed": false
   },
   "source": [
    "# Durchführung\n",
    "\n",
    "## Aufgabe 1: Fadenstrahlrohr\n",
    "\n",
    "**Hinweise zu allen hier durchzuführenden Messungen finden Sie in der Datei [Hinweise-Aufgabe-1.md](https://git.scc.kit.edu/etp-lehre/p1-for-students/-/blob/main/Spezifische_Lading_des_Elektrons/doc/Hinweise-Aufgabe-1.md).**\n",
    "\n",
    "### Aufgabe 1.1: Magnetfeld im Fadenstrahlrohr\n",
    "\n",
    " * Schätzen Sie das Magnetfeld $B$, entlang der Mittelebene zwischen $H_{1}$ und $H_{2}$ im Inneren der Spulen, mit Hilfe einer baugleichen, weiteren Helmholtzspule $H_{3}$, einer, an verschiedenen Stellen mit Bohrungen versehenen, Holzplatte $M$, und einer [Hall-Sonde](https://de.wikipedia.org/wiki/Hall-Effekt) ab. Dabei bezeichnet $r$ im Folgenden den Abstand von der Symmetrieachse des Spulenpaares.\n",
    " * Kalibrieren Sie die Hall-Sonde mit Hilfe einer weiteren, langen Spule, deren Magnetfeld Sie über das [Ampèresche Gesetz](https://de.wikipedia.org/wiki/Amp%C3%A8resches_Gesetz#Magnetfeld_der_Spule) bestimmen können.\n",
    " * Diskutieren Sie die Homogenität von $B(r)$ für die vorliegende Spulenanordnung. \n",
    " * Vergleichen Sie Ihre Messung für $r=0$ mit Ihrer Erwartung. \n",
    " \n",
    "---"
   ]
  },
  {
   "cell_type": "code",
   "execution_count": 7,
   "metadata": {
    "collapsed": false
   },
   "outputs": [],
   "source": [
    "import warnings\n",
    "warnings.filterwarnings('ignore')\n",
    "\n",
    "import numpy as np\n",
    "import kafe2\n",
    "#import PhyPraKit as ppk\n",
    "import matplotlib as mpl\n",
    "import matplotlib.pyplot as plt\n",
    "import os\n",
    "import scipy\n",
    "mpl.rcParams['figure.dpi']=200\n",
    "mu = scipy.constants.mu_0"
   ]
  },
  {
   "attachments": {},
   "cell_type": "markdown",
   "metadata": {
    "collapsed": false
   },
   "source": [
    "**Lösung:**"
   ]
  },
  {
   "cell_type": "code",
   "execution_count": 8,
   "metadata": {
    "collapsed": false
   },
   "outputs": [],
   "source": [
    "hall_helmh = np.genfromtxt( \"hall_spannung_helmholtz.csv\", delimiter=\",\", skip_header=1 ) # Einlesen der Daten, speichern in Variablen\n",
    "pos = hall_helmh[:,0]\n",
    "I_helmh = hall_helmh[:,1]\n",
    "U_helmh = hall_helmh[:,2]\n",
    "#print(pos, I_helmh, U_helmh)\n",
    "hall_cal = np.genfromtxt( \"hall_spannung_kalibrierung.csv\", delimiter=\",\", skip_header=1 ) # Einlesen der Daten, speichern in Variablen\n",
    "I_cal = hall_cal[:,0]\n",
    "U_cal = hall_cal[:,1]"
   ]
  },
  {
   "cell_type": "markdown",
   "metadata": {},
   "source": [
    "Bei einer Stromstärke von 2.002 A varriiert der Wert vor und nach der Messung, aufgrund von Erhitzung um 52.20 mV und 51.49mV\n",
    "Bei der Kallibrierung wurde keine nennenswerten Unterschiede zwischen der ersten und der letzten Messung bei der Hallspannung festgestellt."
   ]
  },
  {
   "cell_type": "code",
   "execution_count": 12,
   "metadata": {
    "collapsed": false
   },
   "outputs": [
    {
     "name": "stdout",
     "output_type": "stream",
     "text": [
      "-3.3002043450382574\n"
     ]
    }
   ],
   "source": [
    "def I_hall(U, m, N):\n",
    "    l = 0.3\n",
    "    return m * U * mu * N / l\n",
    "I_error = 0.05 # relative\n",
    "U_error = 0.01 # relative\n",
    "N_error = 0.01 # relative\n",
    "fit = kafe2.XYFit(xy_data=[U_cal, I_cal], model_function=I_hall) \n",
    "fit.add_error(axis='y', err_val=I_error, relative=True)\n",
    "fit.add_error(axis='x', err_val=U_error, relative=True)\n",
    "\n",
    "fit.add_parameter_constraint(name='N',   value=750,   uncertainty=N_error, relative=True)\n",
    "\n",
    "fit.do_fit()\n",
    "plot = kafe2.Plot(fit)\n",
    "plot.show()\n",
    "\n",
    "par_vals = fit.parameter_values\n",
    "par_err = fit.parameter_errors\n",
    "m = par_vals[0]\n",
    "m_err = par_err[0]\n",
    "print(m)"
   ]
  },
  {
   "cell_type": "code",
   "execution_count": 5,
   "metadata": {
    "collapsed": false
   },
   "outputs": [],
   "source": [
    "def B_helmh(U):\n",
    "    return (m * U, np.sqrt((U * m_err)**2 + (m * U_error)**2)) # add error on B with gauss law\n",
    "\n",
    "B, B_err = B_helmh(U_helmh)\n",
    "\n",
    "\n"
   ]
  },
  {
   "attachments": {},
   "cell_type": "markdown",
   "metadata": {
    "collapsed": false
   },
   "source": [
    "### Aufgabe 1.2: Elektronenkreisbahn\n",
    "\n",
    "Bestimmen Sie den Durchmesser $d$ der Elektronenbahn im Fadenstrahlrohr in zwei Messreihen: \n",
    "\n",
    " * Als als Funktion der Anodenspannung $U$ (z.B. mit sechs Messpunkten  $100$; $125$; $\\ldots 250\\,\\mathrm{V}$) für zwei Spulenströme (z.B. $1\\,\\mathrm{A}$ und $2\\,\\mathrm{A}$).\n",
    " * Als Funktion des Spulenstroms $I$ (z.B. mit zehn Messpunkten $1,0$; $1,2$; $\\ldots 2,0\\,\\mathrm{A}$) für zwei Anodenspannungen (z.B. $125\\,\\mathrm{V}$ und $250\\,\\mathrm{V}$).\n",
    " \n",
    "---"
   ]
  },
  {
   "attachments": {},
   "cell_type": "markdown",
   "metadata": {
    "collapsed": false
   },
   "source": [
    "**Lösung:**\n",
    "\n",
    "*Sie können Ihr Protokoll direkt in dieses Dokument einfügen. Wenn Sie dieses Dokument als Grundlage für ein [Jupyter notebook](https://jupyter.org/) verwenden wollen können Sie die Auswertung, Skripte und ggf. bildliche Darstellungen mit Hilfe von [python](https://www.python.org/) ebenfalls hier einfügen. Löschen Sie hierzu diesen kursiv gestellten Text aus dem Dokument.* \n",
    "\n",
    "---"
   ]
  },
  {
   "cell_type": "markdown",
   "metadata": {},
   "source": [
    "Wert bei 250A und 1 V-1,2V konnte nicht bestimmt werden."
   ]
  },
  {
   "cell_type": "code",
   "execution_count": 6,
   "metadata": {
    "collapsed": false
   },
   "outputs": [
    {
     "ename": "TypeError",
     "evalue": "'function' object is not subscriptable",
     "output_type": "error",
     "traceback": [
      "\u001b[1;31m---------------------------------------------------------------------------\u001b[0m",
      "\u001b[1;31mTypeError\u001b[0m                                 Traceback (most recent call last)",
      "\u001b[1;32mg:\\Meine Ablage\\Uni\\Praktikum\\P1\\Spezifische_Ladung_des_Elektrons\\Mo01_Spezifische_Ladung_des_Elektrons.ipynb Cell 12\u001b[0m line \u001b[0;36m1\n\u001b[0;32m     <a href='vscode-notebook-cell:/g%3A/Meine%20Ablage/Uni/Praktikum/P1/Spezifische_Ladung_des_Elektrons/Mo01_Spezifische_Ladung_des_Elektrons.ipynb#X14sZmlsZQ%3D%3D?line=13'>14</a>\u001b[0m d_error \u001b[39m=\u001b[39m \u001b[39m0.1\u001b[39m \u001b[39m# relative\u001b[39;00m\n\u001b[0;32m     <a href='vscode-notebook-cell:/g%3A/Meine%20Ablage/Uni/Praktikum/P1/Spezifische_Ladung_des_Elektrons/Mo01_Spezifische_Ladung_des_Elektrons.ipynb#X14sZmlsZQ%3D%3D?line=16'>17</a>\u001b[0m \u001b[39m#first with data for which I = 1A\u001b[39;00m\n\u001b[1;32m---> <a href='vscode-notebook-cell:/g%3A/Meine%20Ablage/Uni/Praktikum/P1/Spezifische_Ladung_des_Elektrons/Mo01_Spezifische_Ladung_des_Elektrons.ipynb#X14sZmlsZQ%3D%3D?line=17'>18</a>\u001b[0m fit \u001b[39m=\u001b[39m kafe2\u001b[39m.\u001b[39mXYFit(xy_data\u001b[39m=\u001b[39m[U[:\u001b[39m7\u001b[39m], d[:\u001b[39m7\u001b[39;49m]], model_function\u001b[39m=\u001b[39md) \n\u001b[0;32m     <a href='vscode-notebook-cell:/g%3A/Meine%20Ablage/Uni/Praktikum/P1/Spezifische_Ladung_des_Elektrons/Mo01_Spezifische_Ladung_des_Elektrons.ipynb#X14sZmlsZQ%3D%3D?line=18'>19</a>\u001b[0m fit\u001b[39m.\u001b[39madd_error(axis\u001b[39m=\u001b[39m\u001b[39m'\u001b[39m\u001b[39my\u001b[39m\u001b[39m'\u001b[39m, err_val\u001b[39m=\u001b[39md_error, relative\u001b[39m=\u001b[39m\u001b[39mTrue\u001b[39;00m)\n\u001b[0;32m     <a href='vscode-notebook-cell:/g%3A/Meine%20Ablage/Uni/Praktikum/P1/Spezifische_Ladung_des_Elektrons/Mo01_Spezifische_Ladung_des_Elektrons.ipynb#X14sZmlsZQ%3D%3D?line=19'>20</a>\u001b[0m fit\u001b[39m.\u001b[39madd_error(axis\u001b[39m=\u001b[39m\u001b[39m'\u001b[39m\u001b[39mx\u001b[39m\u001b[39m'\u001b[39m, err_val\u001b[39m=\u001b[39mU_error, relative\u001b[39m=\u001b[39m\u001b[39mTrue\u001b[39;00m)\n",
      "\u001b[1;31mTypeError\u001b[0m: 'function' object is not subscriptable"
     ]
    }
   ],
   "source": [
    "d_von_U = np.genfromtxt( \"d_von_U.csv\", delimiter=\",\", skip_header=1 ) # Einlesen der Daten, speichern in Variablen\n",
    "U = d_von_U[:,0]\n",
    "I = d_von_U[:,1]\n",
    "d = d_von_U[:,2]\n",
    "\n",
    "def d(U, I, me): # x = U/I**2\n",
    "    N = 130\n",
    "    R = 0.15\n",
    "    x = U \n",
    "    return x * me * (125 * R**2) / (8 * mu**2 * N**2)\n",
    "\n",
    "I_error = 0.05 # relative; nochmal beim Netzgerät nachschauen\n",
    "U_error = 0.01 # relative; nochmal beim Netzgerät nachschauen, hier nicht die Hall Spannung\n",
    "d_error = 0.1 # relative\n",
    "\n",
    "\n",
    "#first with data for which I = 1A\n",
    "fit = kafe2.XYFit(xy_data=[U[:7], d[:7]], model_function=d) \n",
    "fit.add_error(axis='y', err_val=d_error, relative=True)\n",
    "fit.add_error(axis='x', err_val=U_error, relative=True)\n",
    "\n",
    "fit.add_parameter_constraint(name=I, value=1, uncertainty=I_error, relative=True)\n",
    "\n",
    "fit.do_fit()\n",
    "plot = kafe2.Plot(fit)\n",
    "plot.show()\n",
    "\n",
    "#now with data for which I = 2A\n",
    "fit = kafe2.XYFit(xy_data=[U[7:13], d[7:13]], model_function=d) \n",
    "fit.add_error(axis='y', err_val=d_error, relative=True)\n",
    "fit.add_error(axis='x', err_val=U_error, relative=True)\n",
    "\n",
    "fit.add_parameter_constraint(name=I, value=2, uncertainty=I_error, relative=True)\n",
    "\n",
    "fit.do_fit()\n",
    "plot = kafe2.Plot(fit)\n",
    "plot.show()"
   ]
  },
  {
   "cell_type": "code",
   "execution_count": null,
   "metadata": {
    "collapsed": false
   },
   "outputs": [],
   "source": [
    "d_von_I = np.genfromtxt( \"d_von_I.csv\", delimiter=\",\", skip_header=1 ) # Einlesen der Daten, speichern in Variablen\n",
    "U = d_von_U[:,0]\n",
    "I = d_von_U[:,1]\n",
    "d = d_von_U[:,2]"
   ]
  },
  {
   "attachments": {},
   "cell_type": "markdown",
   "metadata": {
    "collapsed": false
   },
   "source": [
    "## Aufgabe 2: Methode von Busch\n",
    "\n",
    "**Hinweise zu allen hier durchzuführenden Messungen finden Sie in der Datei [Hinweise-Aufgabe-2.md](https://git.scc.kit.edu/etp-lehre/p1-for-students/-/blob/main/Spezifische_Lading_des_Elektrons/doc/Hinweise-Aufgabe-2.md).**\n",
    "\n",
    "### Aufgabe 2.1: Vorbereitung der Messung\n",
    "\n",
    "Machen Sie sich mit der Methode zur Bestimmung der von $e/m_{e}$ nach der Methode von Busch vertraut. Verändern Sie hierzu bei vorgegebener Beschleunigungsspannung $U_{z}$ den Spulenstrom, und erklären Sie Ihre Beobachtungen mit eigenen Worten.\n",
    "\n",
    "---"
   ]
  },
  {
   "attachments": {},
   "cell_type": "markdown",
   "metadata": {
    "collapsed": false
   },
   "source": [
    "**Lösung:**\n",
    "\n",
    "*Sie können Ihr Protokoll direkt in dieses Dokument einfügen. Wenn Sie dieses Dokument als Grundlage für ein [Jupyter notebook](https://jupyter.org/) verwenden wollen können Sie die Auswertung, Skripte und ggf. bildliche Darstellungen mit Hilfe von [python](https://www.python.org/) ebenfalls hier einfügen. Löschen Sie hierzu diesen kursiv gestellten Text aus dem Dokument.* \n",
    "\n",
    "---"
   ]
  },
  {
   "attachments": {},
   "cell_type": "markdown",
   "metadata": {
    "collapsed": false
   },
   "source": [
    "### Aufgabe 2.2: Bestimmung von $e/m_{\\mathrm{e}}$ \n",
    "\n",
    "Messen Sie für Beschleunigungsspannungen von $U = 200\\,\\ldots 700\\,\\mathrm{V}$ (in Schritten von $50\\,\\mathrm{V}$) den nötigen Spulenstrom $I$, um auf dem Schirm einen Signalpunkt zu erzeugen. Gehen Sie dabei, für jeden Messpunkt so, wie in Aufgabe 2.1 vor. Tragen Sie $U$ geeignet über $I^{2}$ auf und ermitteln Sie daraus $e/m_{\\mathrm{e}}$. \n",
    "\n",
    "---"
   ]
  },
  {
   "attachments": {},
   "cell_type": "markdown",
   "metadata": {
    "collapsed": false
   },
   "source": [
    "**Lösung:**\n",
    "\n",
    "*Sie können Ihr Protokoll direkt in dieses Dokument einfügen. Wenn Sie dieses Dokument als Grundlage für ein [Jupyter notebook](https://jupyter.org/) verwenden wollen können Sie die Auswertung, Skripte und ggf. bildliche Darstellungen mit Hilfe von [python](https://www.python.org/) ebenfalls hier einfügen. Löschen Sie hierzu diesen kursiv gestellten Text aus dem Dokument.* \n",
    "\n",
    "---"
   ]
  },
  {
   "cell_type": "code",
   "execution_count": null,
   "metadata": {
    "collapsed": false
   },
   "outputs": [],
   "source": [
    "# bestimme zuerst konstante K * (ds - d2) für den Mittelwert des Magnetfeldes\n",
    "l = 0.2  # +- 0.0005\n",
    "R = 0.045 # +-0.0005\n",
    "N = 3000\n",
    "d2 = 0.08 # +- 0.001\n",
    "ds = 0.15\n",
    "def B(a):\n",
    "    return mu * N / l * 0.567 * (a/np.sqrt(R**2 + a**2) + (l - a)/np.sqrt(R**2 + (l - a)**2))\n",
    "k =  scipy.integrate.quad(B, d2, ds)"
   ]
  },
  {
   "cell_type": "code",
   "execution_count": null,
   "metadata": {
    "collapsed": false
   },
   "outputs": [
    {
     "ename": "",
     "evalue": "",
     "output_type": "error",
     "traceback": [
      "\u001b[1;31mRunning cells with 'pua' requires the ipykernel package.\n",
      "\u001b[1;31mRun the following command to install 'ipykernel' into the Python environment. \n",
      "\u001b[1;31mCommand: 'conda install -n pua ipykernel --update-deps --force-reinstall'"
     ]
    }
   ],
   "source": [
    "k0 = k[0]#0.0013435370205851793\n",
    "\n",
    "k1 = 0.0013412079923252028 # + in l\n",
    "k2 = 0.0013458624795267087 # - in l\n",
    "\n",
    "k3 = 0.0013407491868634852 # + in R\n",
    "k4 = 0.0013463147265669803 # - in R\n",
    "\n",
    "k5 = 0.0013242059973940048 # + in d2\n",
    "k6 = 0.0013628503364845855 # - in d2\n",
    "\n",
    "dk = np.sqrt((k1-k0)**2 + (k2-k0)**2 + (k3-k0)**2 + (k4-k0)**2 + (k5-k0)**2 + (k6-k0)**2 + (k[1])**2) # systematic and numerical error on k\n",
    "print(dk)"
   ]
  },
  {
   "cell_type": "code",
   "execution_count": null,
   "metadata": {
    "collapsed": false
   },
   "outputs": [
    {
     "ename": "",
     "evalue": "",
     "output_type": "error",
     "traceback": [
      "\u001b[1;31mRunning cells with 'pua' requires the ipykernel package.\n",
      "\u001b[1;31mRun the following command to install 'ipykernel' into the Python environment. \n",
      "\u001b[1;31mCommand: 'conda install -n pua ipykernel --update-deps --force-reinstall'"
     ]
    }
   ],
   "source": [
    "busch_data = np.genfromtxt(\"busch.csv\", delimiter=\",\", skip_header=1 )\n",
    "U_b = busch_data[:0]\n",
    "I_b = busch_data[:1]\n",
    "\n",
    "def busch_U(em, K, I):\n",
    "    return 1/(np.pi * 8) * K**2 * em * I**2\n",
    "\n",
    "fit = kafe2.XYFit(xy_data=[I_b, U_b], model_function=d) \n",
    "fit.add_error(axis='y', err_val=U_error, relative=True)\n",
    "fit.add_error(axis='x', err_val=I_error, relative=True)\n",
    "\n",
    "fit.add_parameter_constraint(name=K, value=k, uncertainty=dk)\n",
    "\n",
    "fit.do_fit()\n",
    "plot = kafe2.Plot(fit)\n",
    "plot.show()"
   ]
  }
 ],
 "metadata": {
  "kernelspec": {
   "display_name": "pua",
   "language": "python",
   "name": "python3"
  },
  "language_info": {
   "codemirror_mode": {
    "name": "ipython",
    "version": 3
   },
   "file_extension": ".py",
   "mimetype": "text/x-python",
   "name": "python",
   "nbconvert_exporter": "python",
   "pygments_lexer": "ipython3",
   "version": "3.9.1"
  }
 },
 "nbformat": 4,
 "nbformat_minor": 4
}
