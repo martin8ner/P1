{
 "cells": [
  {
   "cell_type": "markdown",
   "id": "4e735538-5a8d-46f8-88fe-56165ffe8347",
   "metadata": {},
   "source": [
    "# Fakultät für Physik \n",
    "\n",
    "## Physikalisches Praktikum P1 für Studierende der Physik\n",
    "\n",
    "Versuch P1-53, 54, 55 (Stand: September 2023)\n",
    "\n",
    "[Raum F1-13](https://labs.physik.kit.edu/img/Praktikum/Lageplan_P1.png)\n",
    "\n",
    "# Vierpole und Leitungen"
   ]
  },
  {
   "cell_type": "markdown",
   "id": "120361ee-43c6-403f-8077-932ff713927d",
   "metadata": {},
   "source": [
    "Name: __________________ Vorname: __________________ E-Mail: __________________\n",
    "\n",
    "\\begin{equation*}\n",
    "\\begin{split}\n",
    "&\\\\\n",
    "&\\\\\n",
    "\\end{split}\n",
    "\\end{equation*}\n",
    "\n",
    "Name: __________________ Vorname: __________________ E-Mail: __________________\n",
    "\n",
    "\\begin{equation*}\n",
    "\\begin{split}\n",
    "&\\\\\n",
    "&\\\\\n",
    "&\\\\\n",
    "\\end{split}\n",
    "\\end{equation*}\n",
    "\n",
    "Gruppennummer: _____\n",
    "\n",
    "\\begin{equation*}\n",
    "\\begin{split}\n",
    "&\\\\\n",
    "&\\\\\n",
    "&\\\\\n",
    "\\end{split}\n",
    "\\end{equation*}\n",
    "\n",
    "\n",
    "Betreuer: __________________\n",
    "\n",
    "\\begin{equation*}\n",
    "\\begin{split}\n",
    "&\\\\\n",
    "&\\\\\n",
    "&\\\\\n",
    "\\end{split}\n",
    "\\end{equation*}\n",
    "\n",
    "Versuch durchgeführt am: __________________"
   ]
  },
  {
   "cell_type": "markdown",
   "id": "2381e5fc-34ba-4b68-9a7a-9d7eae443c75",
   "metadata": {},
   "source": [
    "---\n",
    "\n",
    "**Beanstandungen:**\n",
    "\n",
    "\\begin{equation*}\n",
    "\\begin{split}\n",
    "&\\\\\n",
    "&\\\\\n",
    "&\\\\\n",
    "&\\\\\n",
    "&\\\\\n",
    "&\\\\\n",
    "&\\\\\n",
    "&\\\\\n",
    "&\\\\\n",
    "&\\\\\n",
    "\\end{split}\n",
    "%\\text{\\vspace{10cm}}\n",
    "\\end{equation*}\n",
    "\n",
    "<br>\n",
    "Testiert am: __________________ Testat: __________________"
   ]
  },
  {
   "cell_type": "markdown",
   "id": "d4d502bf-cd42-4ac3-aae4-3370af582289",
   "metadata": {},
   "source": [
    "# Durchführung\n",
    "\n",
    "## Aufgabe 1: Einfache Viepole\n",
    "\n",
    "**Hinweise zu allen hier durchzuführenden Messungen finden Sie in der Datei [Hinweise-Aufgabe-1.md](https://gitlab.kit.edu/kit/etp-lehre/p1-praktikum/students/-/tree/main/Vierpole_und_Leitungen/doc/Hinweise-Aufgabe-1.md).**\n",
    "\n",
    "### Aufgabe 1.1: Hochpass-Filter\n",
    "\n",
    " - Bauen Sie mit Hilfe eines Kondensators und eines ohmschen Widerstands die Schaltung eines einfachen Hochpass-Filters auf. Legen Sie an den Eingang dieser Schaltung eine sinusförmige Wechselspannung $U_{0}$ an.\n",
    " - Untersuchen Sie das Signal $U_{1}$ am Ausgang der Schaltung und verlgeichen Sie es mit $U_{0}$. Nutzen Sie hierzu das Oszilloskop im Zweikanalbetrieb, so dass Sie beide Signale gemeinsam auf dem Oszilloskop darstellen können.\n",
    " - Bestimmen Sie den **Spannungsübertrag** $\\mu$ und die **Phasendifferenz** $\\Delta\\varphi$ zwischen Ein- und Ausgangssignal. \n",
    " - Nehmen Sie mindestens vier Messpunkte und stellen Sie sowohl $\\mu(\\omega)$, als auch $\\Delta\\varphi(\\omega)$ als Funktion on $\\log(\\omega/\\omega_{0})$ graphisch dar. Tragen Sie in die gleichen Figuren jeweils den erwarteten Verlauf ein.\n",
    "\n",
    "---"
   ]
  },
  {
   "cell_type": "markdown",
   "id": "402872bf-4bae-448c-ba43-2acf8a543be1",
   "metadata": {},
   "source": [
    "**Lösung:**\n",
    "\n",
    "*Sie können Ihr Protokoll direkt in dieses Dokument einfügen. Wenn Sie dieses Dokument als Grundlage für ein [Jupyter notebook](https://jupyter.org/) verwenden wollen können Sie die Auswertung, Skripte und ggf. bildliche Darstellungen mit Hilfe von [python](https://www.python.org/) ebenfalls hier einfügen. Löschen Sie hierzu diesen kursiv gestellten Text aus dem Dokument.* \n",
    "\n",
    "---"
   ]
  },
  {
   "cell_type": "markdown",
   "id": "df1e7309-266d-422e-91db-6eeb09b64edf",
   "metadata": {},
   "source": [
    "### Aufgabe 1.2: Differenzierglied\n",
    "\n",
    "Wiederholen Sie die Messreihe aus Aufgabe 1.1, aber legen statt einer sinus- eine **dreieckförmige** Wechselspannung (gleicher Frequenz und Amplitude) am Eingang der Schaltung an. Für $\\omega\\ll\\omega_{0}$ wird die Schaltung zum Differenzierglied. Beschreiben Sie was Sie sehen und vergleichen Sie Ihre Beobachtung mit Ihrer Erwartung.\n",
    "\n",
    "---"
   ]
  },
  {
   "cell_type": "markdown",
   "id": "2671033c-e100-4d99-bf65-7eabf849b14d",
   "metadata": {},
   "source": [
    "**Lösung:**\n",
    "\n",
    "*Sie können Ihr Protokoll direkt in dieses Dokument einfügen. Wenn Sie dieses Dokument als Grundlage für ein [Jupyter notebook](https://jupyter.org/) verwenden wollen können Sie die Auswertung, Skripte und ggf. bildliche Darstellungen mit Hilfe von [python](https://www.python.org/) ebenfalls hier einfügen. Löschen Sie hierzu diesen kursiv gestellten Text aus dem Dokument.* \n",
    "\n",
    "---"
   ]
  },
  {
   "cell_type": "markdown",
   "id": "7bd9e9c8-d495-46f4-8b96-17aee7de2ec2",
   "metadata": {},
   "source": [
    "### Aufgabe 1.3: Tiefpass-Filter\n",
    "\n",
    "Gehen Sie zur Charakterisierung des Tiefpass-Filters analog zu Aufgabe 1.1 vor.\n",
    "\n",
    "---"
   ]
  },
  {
   "cell_type": "markdown",
   "id": "c48be328-94c6-451d-bf0a-77826767aa8c",
   "metadata": {},
   "source": [
    "**Lösung:**\n",
    "\n",
    "*Sie können Ihr Protokoll direkt in dieses Dokument einfügen. Wenn Sie dieses Dokument als Grundlage für ein [Jupyter notebook](https://jupyter.org/) verwenden wollen können Sie die Auswertung, Skripte und ggf. bildliche Darstellungen mit Hilfe von [python](https://www.python.org/) ebenfalls hier einfügen. Löschen Sie hierzu diesen kursiv gestellten Text aus dem Dokument.* \n",
    "\n",
    "---"
   ]
  },
  {
   "cell_type": "markdown",
   "id": "e10bc068-eca7-4797-8fe2-affa4cdde0c9",
   "metadata": {},
   "source": [
    "### Aufgabe 1.4: Integrierglied\n",
    "\n",
    "Gehen Sie zur weiteren Untersuchung des Tiefpass-Filters analog zu Aufgabe 1.2 vor, aber verwenden Sie statt einer sinus- (oder dreieck-) eine **rechteckförmige** Wechselspannung. Für $\\omega\\gg\\omega_{0}$ wird die Schaltung zum Integrierglied. Beschreiben Sie was Sie sehen und vergleichen Sie Ihre Beobachtung mit Ihrer Erwartung. \n",
    "\n",
    "---"
   ]
  },
  {
   "cell_type": "markdown",
   "id": "e58b1a89-7179-4087-893d-61b6097fb7e5",
   "metadata": {},
   "source": [
    "**Lösung:**\n",
    "\n",
    "*Sie können Ihr Protokoll direkt in dieses Dokument einfügen. Wenn Sie dieses Dokument als Grundlage für ein [Jupyter notebook](https://jupyter.org/) verwenden wollen können Sie die Auswertung, Skripte und ggf. bildliche Darstellungen mit Hilfe von [python](https://www.python.org/) ebenfalls hier einfügen. Löschen Sie hierzu diesen kursiv gestellten Text aus dem Dokument.* \n",
    "\n",
    "---"
   ]
  },
  {
   "cell_type": "markdown",
   "id": "fd7c69fe-3087-48dd-89f2-b103c4c41dbd",
   "metadata": {},
   "source": [
    "## Aufgabe 2: Drosselkette\n",
    "\n",
    "**Hinweise zu allen hier durchzuführenden Messungen finden Sie in der Datei [Hinweise-Aufgabe-2.md](https://gitlab.kit.edu/kit/etp-lehre/p1-praktikum/students/-/tree/main/Vierpole_und_Leitungen/doc/Hinweise-Aufgabe-2.md).** \n",
    "\n",
    "### Aufgabe 2.1: Bestimmung der charakteristischen Impedanz $Z_{0}$\n",
    "\n",
    "Bestimmen Sie $Z_0$ für $\\omega\\ll\\omega_0$.\n",
    "\n",
    "---"
   ]
  },
  {
   "cell_type": "markdown",
   "id": "b2a7e3de-d15e-4894-a4fb-a61d3343d9a5",
   "metadata": {},
   "source": [
    "**Lösung:**\n",
    "\n",
    "*Sie können Ihr Protokoll direkt in dieses Dokument einfügen. Wenn Sie dieses Dokument als Grundlage für ein [Jupyter notebook](https://jupyter.org/) verwenden wollen können Sie die Auswertung, Skripte und ggf. bildliche Darstellungen mit Hilfe von [python](https://www.python.org/) ebenfalls hier einfügen. Löschen Sie hierzu diesen kursiv gestellten Text aus dem Dokument.* \n",
    "\n",
    "---"
   ]
  },
  {
   "cell_type": "markdown",
   "id": "ecad6d99-563b-4657-b791-bfc51563d720",
   "metadata": {},
   "source": [
    "### Aufgabe 2.2: Bestimmung der Grenzfrequenz $\\omega_{0}$\n",
    "\n",
    "Bestimmen Sie $\\omega_0$. Um diese Messreihe zügig aufnehmen zu können sollten Sie eine klare numerische Erwartung zur Frequenzabhängigkeit von $Z_{0}(\\omega)$ haben.  \n",
    "\n",
    "---"
   ]
  },
  {
   "cell_type": "markdown",
   "id": "d9f9aa06-77e3-4917-af3e-b5e2b8d89e57",
   "metadata": {},
   "source": [
    "**Lösung:**\n",
    "\n",
    "*Sie können Ihr Protokoll direkt in dieses Dokument einfügen. Wenn Sie dieses Dokument als Grundlage für ein [Jupyter notebook](https://jupyter.org/) verwenden wollen können Sie die Auswertung, Skripte und ggf. bildliche Darstellungen mit Hilfe von [python](https://www.python.org/) ebenfalls hier einfügen. Löschen Sie hierzu diesen kursiv gestellten Text aus dem Dokument.* \n",
    "\n",
    "---"
   ]
  },
  {
   "cell_type": "markdown",
   "id": "6900665f-59fa-498a-bd4a-6a18ce333be1",
   "metadata": {},
   "source": [
    "### Aufgabe 2.3: Bestimmung von $C$ und $L$ der in der Drosselkette verbauten Elemente\n",
    "\n",
    "Aus Ihren Messergebnissen aus den Aufgaben 2.1 und 2.2 können Sie die Kapazität $C$ und die Induktivität $L$ der in der Drosselkette verbauten Elemente bestimmen. Pflanzen Sie die Unsicherheiten Ihrer Messungen fort und vergleichen Sie Ihre Ergebnisse mit den technischen Daten zu diesem Versuch (siehe [Datenblatt.md](https://git.scc.kit.edu/etp-lehre/p1-for-students/-/blob/main/Vierpole_und_Leitungen/Datenblatt.md)). \n",
    "\n",
    "---"
   ]
  },
  {
   "cell_type": "markdown",
   "id": "e3ca3af1-b4a4-43c2-a5ef-fdcb219d01e2",
   "metadata": {},
   "source": [
    "**Lösung:**\n",
    "\n",
    "*Sie können Ihr Protokoll direkt in dieses Dokument einfügen. Wenn Sie dieses Dokument als Grundlage für ein [Jupyter notebook](https://jupyter.org/) verwenden wollen können Sie die Auswertung, Skripte und ggf. bildliche Darstellungen mit Hilfe von [python](https://www.python.org/) ebenfalls hier einfügen. Löschen Sie hierzu diesen kursiv gestellten Text aus dem Dokument.* \n",
    "\n",
    "---"
   ]
  },
  {
   "cell_type": "markdown",
   "id": "4d3a151c-e819-41d4-bf88-c78fad286a26",
   "metadata": {},
   "source": [
    "### Aufgabe 2.4: Bestimmung der Phasendifferenz $\\Delta\\varphi$\n",
    "\n",
    " - Stellen Sie den Verlauf von \\$\\Delta\\varphi(\\omega)$ für mindestens 6 bis 8 Werte von $\\omega$ dar. Führen Sie die gleiche Messreihe sowohl für die gesamte Drosselkette, als auch für ein einzelnes $\\pi$-Glied aus der Drosselkette durch und überzeugen Sie sich von den folgenden Eigenschaften:\n",
    " \n",
    "   - Für **ein einzelnes $\\pi$-Glied** gilt $\\Delta\\varphi(\\omega_{0})=\\pi$. \n",
    "\n",
    "   - Bei vorgegebener Frequenz ist $\\Delta\\varphi(\\omega)$ für die **sechsgliedrige Drosselkette** gegenüber des einzelnen $\\pi$-Glieds 6-mal größer. \n",
    "\n",
    " - Bestimmen Sie, in einer weiteren Messreihe, $\\omega(\\Delta\\varphi)$ für fünf vorgegebene Werte von $\\Delta\\varphi=1\\pi,2\\pi,3\\pi,4\\pi,5\\pi$. Bestimmen Sie hieraus einen weiteren Messwert für $\\omega_{0}$. Vergleichen Sie den so ermittelten Wert mit Ihrem Ergebnis aus Aufgabe 2.2.\n",
    "\n",
    "---"
   ]
  },
  {
   "cell_type": "markdown",
   "id": "740a4609-c0e6-407a-ad79-9e27f8398adb",
   "metadata": {},
   "source": [
    "**Lösung:**\n",
    "\n",
    "*Sie können Ihr Protokoll direkt in dieses Dokument einfügen. Wenn Sie dieses Dokument als Grundlage für ein [Jupyter notebook](https://jupyter.org/) verwenden wollen können Sie die Auswertung, Skripte und ggf. bildliche Darstellungen mit Hilfe von [python](https://www.python.org/) ebenfalls hier einfügen. Löschen Sie hierzu diesen kursiv gestellten Text aus dem Dokument.* \n",
    "\n",
    "---"
   ]
  },
  {
   "cell_type": "markdown",
   "id": "e38d8acc-e798-41b1-9dca-44b2eed9876a",
   "metadata": {},
   "source": [
    "### Aufgabe 2.5: Reflexionen\n",
    "\n",
    "Studieren Sie Reflexionen am Ende der Drosselkette qualitativ. Schließen Sie hierzu das Ende der Drosselkette (impedanzfrei) kurz und fügen Sie eine entsprechende Impedanz am Ketten anfang zu, um dort Reflexionen so weit wie möglich zu reduzieren. Schließen Sie eine rechteckförmige Wechselspannung an, beschreiben Sie, was Sie beobachten und diskutieren Sie, ob diese Beobachtungen Ihrer Erwartung entsprechen. \n",
    "\n",
    "---"
   ]
  },
  {
   "cell_type": "markdown",
   "id": "13251a13-0619-4ae0-879e-e09ff0ac220c",
   "metadata": {},
   "source": [
    "**Lösung:**\n",
    "\n",
    "*Sie können Ihr Protokoll direkt in dieses Dokument einfügen. Wenn Sie dieses Dokument als Grundlage für ein [Jupyter notebook](https://jupyter.org/) verwenden wollen können Sie die Auswertung, Skripte und ggf. bildliche Darstellungen mit Hilfe von [python](https://www.python.org/) ebenfalls hier einfügen. Löschen Sie hierzu diesen kursiv gestellten Text aus dem Dokument.* \n",
    "\n",
    "---"
   ]
  },
  {
   "cell_type": "markdown",
   "id": "773c93e4-744a-4424-8f18-ca1560d7cf7f",
   "metadata": {},
   "source": [
    "## Aufgabe 3: Koaxialkabel\n",
    "\n",
    "**Hinweise zu allen hier durchzuführenden Messungen finden Sie in der Datei [Hinweise-Aufgabe-3.md](https://gitlab.kit.edu/kit/etp-lehre/p1-praktikum/students/-/tree/main/Vierpole_und_Leitungen/doc/Hinweise-Aufgabe-3.md).** \n",
    "\n",
    "### Aufgabe 3.1: Bestimmung der charakteristischen Impedanz $Z_{0}$\n",
    "\n",
    "Bestimmen Sie $Z_0$ für $\\omega\\ll\\omega_0$, analog zu Aufgabe 2.1. Hierzu können Sie eine rechteckförmige Spannung mit der Frequenz $\\nu=1.1\\,\\mathrm{MHz}$ verwenden. (Die Grenzfrequenz von Koaxialkabeln liegt i.a. im $\\mathrm{GHz}$-Bereich.) \n",
    "\n",
    "---"
   ]
  },
  {
   "cell_type": "markdown",
   "id": "80615d85-3aca-4e97-b48c-a8da1e259710",
   "metadata": {},
   "source": [
    "**Lösung:**\n",
    "\n",
    "*Sie können Ihr Protokoll direkt in dieses Dokument einfügen. Wenn Sie dieses Dokument als Grundlage für ein [Jupyter notebook](https://jupyter.org/) verwenden wollen können Sie die Auswertung, Skripte und ggf. bildliche Darstellungen mit Hilfe von [python](https://www.python.org/) ebenfalls hier einfügen. Löschen Sie hierzu diesen kursiv gestellten Text aus dem Dokument.* \n",
    "\n",
    "---"
   ]
  },
  {
   "cell_type": "markdown",
   "id": "3d15951f-f49b-4651-adef-6bcef329385a",
   "metadata": {},
   "source": [
    "### Aufgabe 3.2: Bestimmung der Verzögerungszeit pro Länge $\\tau'$\n",
    "\n",
    "Bestimmen Sie die **Verzögerungszeit pro Länge des Kabels $\\tau$'**. Tun Sie dies auf zwei verschiedene Arten: \n",
    "\n",
    " - Indem Sie das Signal am Anfgang mit dem Signal am Ende des Kabels vegleichen. Verwenden Sie hierzu ein geeignetes recheckförmiges Signal und verwenden Sie das Oszilloskop im Zweikanalmodus. \n",
    " \n",
    " - Bestimmen Sie die Laufzeit, indem Sie das Kabelende (impedanzfrei) kurzschließen und am Kabelanfang das am Kabelende reflektierte Signal mit dem Referenzsignal des Frequenzgenerators vergleichen. Wählen Sie auch hier eine rechteckförmige Wechselspannung.\n",
    " \n",
    " - Vergleichen Sie beide Ergebnisse im Rahmen der bestimmten Unsicherheiten. \n",
    "\n",
    "---"
   ]
  },
  {
   "cell_type": "markdown",
   "id": "b23623c2-99c7-4f9b-8e48-ada7f0cb6aa1",
   "metadata": {},
   "source": [
    "**Lösung:**\n",
    "\n",
    "*Sie können Ihr Protokoll direkt in dieses Dokument einfügen. Wenn Sie dieses Dokument als Grundlage für ein [Jupyter notebook](https://jupyter.org/) verwenden wollen können Sie die Auswertung, Skripte und ggf. bildliche Darstellungen mit Hilfe von [python](https://www.python.org/) ebenfalls hier einfügen. Löschen Sie hierzu diesen kursiv gestellten Text aus dem Dokument.* \n",
    "\n",
    "---"
   ]
  },
  {
   "cell_type": "markdown",
   "id": "0946bb22-ee97-49a8-9ec5-6e5602350eed",
   "metadata": {},
   "source": [
    "### Aufgabe 3.3: Bestimmung der Dielektrizitätskonstanten $\\epsilon$\n",
    "\n",
    "Bestimmen Sie $\\epsilon$ aus den Werten, die Sie in den Aufgaben 4.1 und 4.2 bestimmt haben. Verwenden Sie hierzu alle Messungen, die Sie durchgeführt haben: \n",
    "\n",
    " - Bestimmen Sie $\\epsilon$ aus Ihrer Messung von $Z_{0}$ aus Aufgabe 4.1;\n",
    " - Bestimmen Sie $\\epsilon$ aus den beiden Messungen von $\\tau'$ aus Aufgabe 4.2;\n",
    " - Vergleichen Sie die von Ihnen bestimmten Werte für $\\epsilon$ untereinander und vergleichen Sie sie mit der Erwartung aus den technischen Angaben zu diesem Versuch (siehe [Datenblatt.md](https://git.scc.kit.edu/etp-lehre/p1-for-students/-/blob/main/Vierpole_und_Leitungen/Datenblatt.md)).\n",
    "\n",
    "---"
   ]
  },
  {
   "cell_type": "markdown",
   "id": "8fd5a982-4f4c-4955-8d89-ccb47a63b81b",
   "metadata": {},
   "source": [
    "**Lösung:**\n",
    "\n",
    "*Sie können Ihr Protokoll direkt in dieses Dokument einfügen. Wenn Sie dieses Dokument als Grundlage für ein [Jupyter notebook](https://jupyter.org/) verwenden wollen können Sie die Auswertung, Skripte und ggf. bildliche Darstellungen mit Hilfe von [python](https://www.python.org/) ebenfalls hier einfügen. Löschen Sie hierzu diesen kursiv gestellten Text aus dem Dokument.* \n",
    "\n",
    "---"
   ]
  }
 ],
 "metadata": {
  "kernelspec": {
   "display_name": "Python 3 (ipykernel)",
   "language": "python",
   "name": "python3"
  },
  "language_info": {
   "codemirror_mode": {
    "name": "ipython",
    "version": 3
   },
   "file_extension": ".py",
   "mimetype": "text/x-python",
   "name": "python",
   "nbconvert_exporter": "python",
   "pygments_lexer": "ipython3",
   "version": "3.10.12"
  }
 },
 "nbformat": 4,
 "nbformat_minor": 5
}
