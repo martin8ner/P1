{
 "cells": [
  {
   "cell_type": "markdown",
   "id": "25f39727-e17c-4872-a16e-0da5adab70ef",
   "metadata": {},
   "source": [
    "# Fakultät für Physik\n",
    "\n",
    "## Physikalisches Praktikum P1 für Studierende der Physik\n",
    "\n",
    "Praktikumsvorversuch\n",
    "\n",
    "\n",
    "\n",
    "\n",
    "\n",
    "# Datenverarbeitung am Beispiel des Pendels"
   ]
  },
  {
   "cell_type": "markdown",
   "id": "38a3702e-3be5-44bd-8a9b-cf9b1a1433b5",
   "metadata": {},
   "source": [
    "Name: __________________ Vorname: __________________ E-Mail: __________________\n",
    "\n",
    "\\begin{equation*}\n",
    "\\begin{split}\n",
    "&\\\\\n",
    "&\\\\\n",
    "\\end{split}\n",
    "\\end{equation*}\n",
    "\n",
    "Name: __________________ Vorname: __________________ E-Mail: __________________\n",
    "\n",
    "\\begin{equation*}\n",
    "\\begin{split}\n",
    "&\\\\\n",
    "&\\\\\n",
    "&\\\\\n",
    "\\end{split}\n",
    "\\end{equation*}\n",
    "\n",
    "Gruppennummer: _____\n",
    "\n",
    "\\begin{equation*}\n",
    "\\begin{split}\n",
    "&\\\\\n",
    "&\\\\\n",
    "&\\\\\n",
    "\\end{split}\n",
    "\\end{equation*}\n",
    "\n",
    "\n",
    "Betreuer: __________________\n",
    "\n",
    "\\begin{equation*}\n",
    "\\begin{split}\n",
    "&\\\\\n",
    "&\\\\\n",
    "&\\\\\n",
    "\\end{split}\n",
    "\\end{equation*}\n",
    "\n",
    "Versuch durchgeführt am: __________________"
   ]
  },
  {
   "cell_type": "markdown",
   "id": "6a78848a-50e2-4821-a5e8-e8e1e271be24",
   "metadata": {},
   "source": [
    "---\n",
    "\n",
    "**Beanstandungen:**\n",
    "\n",
    "\\begin{equation*}\n",
    "\\begin{split}\n",
    "&\\\\\n",
    "&\\\\\n",
    "&\\\\\n",
    "&\\\\\n",
    "&\\\\\n",
    "&\\\\\n",
    "&\\\\\n",
    "&\\\\\n",
    "&\\\\\n",
    "&\\\\\n",
    "\\end{split}\n",
    "%\\text{\\vspace{10cm}}\n",
    "\\end{equation*}\n",
    "\n",
    "<br>\n",
    "Testiert am: __________________ Testat: __________________"
   ]
  },
  {
   "cell_type": "markdown",
   "id": "55f54c3e-9db9-4880-af22-70a8ddcd2661",
   "metadata": {},
   "source": [
    "# Durchführung\n",
    "\n",
    "## Aufgabe 1: Umgang mit großen Datensätzen\n",
    "\n",
    "**Hinweise zu allen hier durchzuführenden Messungen finden Sie in der Datei [Hinweise-Aufgabe-1.md](https://gitlab.kit.edu/kit/etp-lehre/p1-praktikum/students/-/tree/main/Vorversuch/doc/Hinweise-Aufgabe-1.md).**\n",
    "\n",
    " * Öffnen Sie die Dateien ```data_raw.csv``` und ```data_down_sampled.csv``` per Doppelklick und untersuchen die Spalten und Zeilen. \n",
    " * Geben Sie die Größe der Dateien in MB an. \n",
    " * Stellen Sie die einzelnen Spalten jeweils in einem Diagramm, als Funktion der Zeit $t$ dar.\n",
    " \n",
    " Verwenden Sie für alle weiteren Untersuchung die Datei ```data_down_sampled.csv```. \n",
    "\n",
    "---"
   ]
  },
  {
   "cell_type": "markdown",
   "id": "baf4742c-1d4f-4a38-a007-a32e5d27329d",
   "metadata": {},
   "source": [
    "**Lösung:**\n",
    "\n",
    "*Sie können Ihr Protokoll direkt in dieses Dokument einfügen. Wenn Sie dieses Dokument als Grundlage für ein [Jupyter notebook](https://jupyter.org/) verwenden wollen können Sie die Auswertung, Skripte und ggf. bildliche Darstellungen mit Hilfe von [python](https://www.python.org/) ebenfalls hier einfügen. Löschen Sie hierzu diesen kursiv gestellten Text aus dem Dokument.* \n",
    "\n",
    "---"
   ]
  },
  {
   "cell_type": "markdown",
   "id": "daa587ba-00e2-4ffe-a28b-8ac1a6bc5979",
   "metadata": {},
   "source": [
    "## Aufgabe 2: Mathematische Pendel\n",
    "\n",
    "**Hinweise zu allen hier durchzuführenden Messungen finden Sie in der Datei [Hinweise-Aufgabe-2.md](https://gitlab.kit.edu/kit/etp-lehre/p1-praktikum/students/-/tree/main/Vorversuch/doc/Hinweise-Aufgabe-2.md).**\n",
    "\n",
    "Zur Bestimmung von $g$ unterlegen wir zunächst das Modell eines [mathematischen Pendels](https://de.wikipedia.org/wiki/Mathematisches_Pendel), woraus sich $g$ wie folgt ableiten lässt:\n",
    "\n",
    "$$\n",
    "g = \\frac{4\\,\\pi^{2}}{T^{2}}\\ell,\n",
    "$$\n",
    "\n",
    "wobei $\\ell$ der Länge des Pendels entspricht. Als Referenzwert für alle weiteren Messungen können Sie den Wert \n",
    "\n",
    "$$\n",
    "g_{\\mathrm{exp}} = (9.809599\\pm0.000034)\\,\\mathrm{m/s^{2}}\n",
    "$$\n",
    "\n",
    "verwenden. Dieser Wert wurde aus der [Global Gravtiy Database des Bureau Gravimetrique International (BGI)](https://ggos.org/item/bgi/) für die Stadt Mannheim (bei $49,49^{\\circ}$ nördlicher Breite und $8,53^{\\circ}$ westlicher Länge auf einer Referenzhöhe von $101\\,\\mathrm{m}$) ausgelesen. \n",
    "\n",
    "### Aufgabe 2.1: Referenzmessung von $T$ \n",
    "\n",
    " * Bestimmen Sie **einen einzelnen Wert** für die Periode $T$ in den Daten. \n",
    " * Überlegen Sie sich eine sinnvolle Unsicherheit $\\Delta T$ und ermitteln Sie $g$ mit entsprechender Unsicherheit $\\Delta g^{(2.1)}$. Bestimmen Sie $\\Delta g^{(2.1)}$ mit Hilfe linearer [Fehlerfortpflanzung](https://de.wikipedia.org/wiki/Fehlerfortpflanzung) nach Gauß. Berücksichtigen Sie dabei auch die Unsicherheit $\\Delta\\ell$.\n",
    " * Vergleichen Sie Ihr Ergebnis, im Rahmen der Unsicherheiten, mit $g_{\\mathrm{exp}}$.\n",
    "\n",
    "---"
   ]
  },
  {
   "cell_type": "markdown",
   "id": "7356d160-237f-43ad-ac20-817f9a709054",
   "metadata": {},
   "source": [
    "**Lösung:**\n",
    "\n",
    "*Sie können Ihr Protokoll direkt in dieses Dokument einfügen. Wenn Sie dieses Dokument als Grundlage für ein [Jupyter notebook](https://jupyter.org/) verwenden wollen können Sie die Auswertung, Skripte und ggf. bildliche Darstellungen mit Hilfe von [python](https://www.python.org/) ebenfalls hier einfügen. Löschen Sie hierzu diesen kursiv gestellten Text aus dem Dokument.* \n",
    "\n",
    "---"
   ]
  },
  {
   "cell_type": "markdown",
   "id": "0bfd2262-f124-4b44-a78f-4ffbb46acc42",
   "metadata": {},
   "source": [
    "### Aufgabe 2.2: Erste Verbesserung der Methodik \n",
    "\n",
    " * Bestimmen Sie $T$ aus einer Anpassung an alle Datenpunkte, bestehend aus den Wertepaaren $\\left(t,\\varphi(t)\\right)$. Berücksichtigen Sie dabei die Unsicherheiten sowohl auf $t$, als auch auf $\\varphi(t)$. Angaben zu diesen Unsicherheiten können Sie z.B. der Datei [Datenblatt.md](https://gitlab.kit.edu/kit/etp-lehre/p1-praktikum/students/-/blob/main/Vorversuch/Datenblatt.md) entnehmen. Stellen Sie die Daten und das angepasste Modell geeignet graphisch dar. \n",
    " * Notieren Sie die folgenden wichtigen Ausgaben der Anpassung: \n",
    "    * Qualität der Anpassung (quantifiziert durch die Größe $\\hat{\\chi}^{2}/n_{\\mathrm{dof}}$) \n",
    "    * Die ermittelten Werte mit entsprechenden Unsicherheiten für alle an die Daten angepassten Parameter. \n",
    " * Berechnen Sie aus den bestimmten Werten für $T$ und $\\Delta T$ verbesserte Abschätzungen für $g^{(2.2)}$ und $\\Delta g^{(2.2)}$. Bestimmen Sie $\\Delta g^{(2.2)}$ mit Hilfe linearer [Fehlerfortpflanzung](https://de.wikipedia.org/wiki/Fehlerfortpflanzung) nach Gauß. Berücksichtigen Sie dabei auch die Unsicherheit $\\Delta\\ell$.\n",
    " * Vergleichen Sie Ihr Ergebnis, im Rahmen der Unsicherheiten, mit $g_{\\mathrm{exp}}$. \n",
    "\n",
    "---"
   ]
  },
  {
   "cell_type": "markdown",
   "id": "24028863-e930-49f0-99de-3d96e047f4f8",
   "metadata": {},
   "source": [
    "**Lösung:**\n",
    "\n",
    "*Sie können Ihr Protokoll direkt in dieses Dokument einfügen. Wenn Sie dieses Dokument als Grundlage für ein [Jupyter notebook](https://jupyter.org/) verwenden wollen können Sie die Auswertung, Skripte und ggf. bildliche Darstellungen mit Hilfe von [python](https://www.python.org/) ebenfalls hier einfügen. Löschen Sie hierzu diesen kursiv gestellten Text aus dem Dokument.* \n",
    "\n",
    "---"
   ]
  },
  {
   "cell_type": "markdown",
   "id": "1fd8883c-152f-40c6-8fe9-20239b97a04e",
   "metadata": {},
   "source": [
    "### Aufgabe 2.3: Zweite Verbesserung der Methodik\n",
    "\n",
    " * Bestimmen Sie $g^{(2.3)}$ und $\\Delta g^{2.3}$ direkt aus der Anpassung. Formulieren Sie ihre Modellfunktion dazu entsprechend um, führen Sie die Anpassung erneut durch und vergleichen Sie die Ergebnisse für $g^{(2.3)}$ und $\\Delta g^{(2.3)}$ mit den Ergebnissen aus Aufgabe 2.2. \n",
    " * Überlegen Sie, wie Sie in diesem Fall $\\Delta\\ell$ im Ergebnis von $\\Delta g^{(2.3)}$ berücksichtigen können.\n",
    "\n",
    "---"
   ]
  },
  {
   "cell_type": "markdown",
   "id": "48a4a491-964f-4760-bb63-29c4089845bb",
   "metadata": {},
   "source": [
    "**Lösung:**\n",
    "\n",
    "*Sie können Ihr Protokoll direkt in dieses Dokument einfügen. Wenn Sie dieses Dokument als Grundlage für ein [Jupyter notebook](https://jupyter.org/) verwenden wollen können Sie die Auswertung, Skripte und ggf. bildliche Darstellungen mit Hilfe von [python](https://www.python.org/) ebenfalls hier einfügen. Löschen Sie hierzu diesen kursiv gestellten Text aus dem Dokument.* \n",
    "\n",
    "---"
   ]
  },
  {
   "cell_type": "markdown",
   "id": "5d108978-f0b0-4c4f-8222-68b7b2096082",
   "metadata": {},
   "source": [
    "## Aufgabe 3: Schrittweise Erweiterung des Modells\n",
    "\n",
    "**Hinweise zu allen hier durchzuführenden Messungen finden Sie in der Datei [Hinweise-Aufgabe-3.md](https://gitlab.kit.edu/kit/etp-lehre/p1-praktikum/students/-/tree/main/Vorversuch/doc/Hinweise-Aufgabe-3.md).**\n",
    "\n",
    "Eine offensichtliche Unzulänglichkeit des vorherigen Modells besteht in der Vernachlässigung der endlichen Ausdehnung des Pendels. Wenn Sie das Modell entsprechend erweitern, nimmt die Formel zur Bestimmung von $g$ die folgende Form an: \n",
    "\n",
    "$$\n",
    "g = \\frac{4\\,\\pi^{2}}{T^{2}}\\frac{\\Theta}{Ms},\n",
    "$$\n",
    "\n",
    "wobei $\\Theta$ und $M$ dem Trägheitsmoment und der Masse der gesamten Pendelkonstruktion (einschließlich aller Montageteile und Smartphone!) und $s$ dem Abstand zwischen dem Schwerpunkt und der Aufhängung des Pendels entsprechen.\n",
    "\n",
    "### Aufgabe 3.1: Erste Erweiterung des Modells \n",
    "\n",
    " * Modifizieren Sie Ihr Modell, so dass es dem Modell eines [physikalischen Pendels](https://de.wikipedia.org/wiki/Physikalisches_Pendel) entspricht und machen Sie eine neue Abschätzung für $g^{(3.1)}$ und $\\Delta g^{(3.1)}$. \n",
    " * Schätzen Sie den Einfluss von $\\Delta\\Theta$, $\\Delta M$, und $\\Delta s$ auf $\\Delta g^{(3.1)}$ ab und überlegen Sie, wie Sie diese Unsicherheiten geeignet zu einer Gesamtunsicherheit kombinieren können.\n",
    "\n",
    "---"
   ]
  },
  {
   "cell_type": "markdown",
   "id": "011015a6-31fb-481b-9e1f-67e6399c6043",
   "metadata": {},
   "source": [
    "**Lösung:**\n",
    "\n",
    "*Sie können Ihr Protokoll direkt in dieses Dokument einfügen. Wenn Sie dieses Dokument als Grundlage für ein [Jupyter notebook](https://jupyter.org/) verwenden wollen können Sie die Auswertung, Skripte und ggf. bildliche Darstellungen mit Hilfe von [python](https://www.python.org/) ebenfalls hier einfügen. Löschen Sie hierzu diesen kursiv gestellten Text aus dem Dokument.* \n",
    "\n",
    "---"
   ]
  },
  {
   "cell_type": "markdown",
   "id": "5381cbdd-851b-4104-8b67-b2d0c6781d79",
   "metadata": {},
   "source": [
    "### Aufgabe 3.2: Zweite Erweiterung der Modells\n",
    "\n",
    "Das Pendel erfährt in seiner Bewegung zusätzlich eine Dämpfung. Wenn Sie der Messung das Modell einer [linearer gedämpften Schwingung](https://de.wikipedia.org/wiki/Schwingung#Linear_ged%C3%A4mpfte_Schwingung) zugrunde legen verändert sich die Formel zur Bestimmung von $g$ wie folgt: \n",
    "\n",
    "$$\n",
    "g = \\left(\\frac{4\\,\\pi^{2}}{T^{2}}+\\frac{1}{\\tau^{2}}\\right)\\frac{\\Theta}{Ms},\n",
    "$$\n",
    "\n",
    "wobei $\\tau$ einer Abklingzeit der Schwingungsamplitude in Sekunden entspricht. Wie Sie sehen handelt es sich um eine Korrektur, die die Abschätzung von $g$ zu größeren Werten hin verändert. \n",
    "\n",
    "Verändern Sie ihr Modell geeignet und beantworten Sie die folgenden Fragen: \n",
    "  * Kann das zugrundeliegende Modell die Daten beschreiben? \n",
    "  * Wie könnten Sie die Hypothese, dass das zugrundeliegende Modell die Daten beschreiben kann, noch besser testen? \n",
    "  * Wie groß ist der Effekt der Korrektur aus der obigen Gleichung auf die Messung von $g$? \n",
    "\n",
    "---"
   ]
  },
  {
   "cell_type": "markdown",
   "id": "a09d0d80-da98-4a74-abca-4d657c9033a9",
   "metadata": {},
   "source": [
    "**Lösung:**\n",
    "\n",
    "*Sie können Ihr Protokoll direkt in dieses Dokument einfügen. Wenn Sie dieses Dokument als Grundlage für ein [Jupyter notebook](https://jupyter.org/) verwenden wollen können Sie die Auswertung, Skripte und ggf. bildliche Darstellungen mit Hilfe von [python](https://www.python.org/) ebenfalls hier einfügen. Löschen Sie hierzu diesen kursiv gestellten Text aus dem Dokument.* \n",
    "\n",
    "---"
   ]
  },
  {
   "cell_type": "markdown",
   "id": "6b1b9b49-c48c-4317-a04d-83ccd0811f31",
   "metadata": {},
   "source": [
    "## Bonusaufgabe: Vom Messen zur Kunst\n",
    "\n",
    "Ein bewusst formuliertes Modell zur Behandlung der Unsicherheiten, die in eine Parameterschätzung eingehen, ist Bestanteil eines guten statistischen Modells. Die Diskussion über die Berücksichtigung der Unsicherheiten der Modellparameter $\\Theta$, $M$ und $s$, bei der Bestimmung von $g$ und $\\Delta g$ in **Aufgabe 3.1** wirft eine Frage auf, die wir im Rahmen dieses Vorversuchs bisher nur streifen konnten: Wie sind die Unsicherheiten auf die äußeren Parameter der Messung korreliert? Sie können die folgenden Bonusaufgaben bearbeiten, um dieser Frage weiter nachzugehen. Die Bearbeitung ist jedoch nicht verpflichtend.\n",
    "\n",
    "### Bonusaufgabe 1: Korrelierte Unsicherheiten\n",
    "\n",
    "Jede Variation eines der drei Parameter $\\Theta$, $M$ oder $s$ in **Aufgabe 3.1** hat einen nicht-trivialen Einfluss, nicht nur auf $g$, sondern auch auf die jeweils anderen äußeren Parameter. Durch naive, quadratische Addition von $\\Delta \\Theta$, $\\Delta M$, und $\\Delta s$ unterlegen Sie (vielleicht unterbewusst) die Annahme, das alle drei Variationen paarweise unabhängig sind. Diese Annahme ist auf jeden Fall falsch! Ein anderes Modell, dass Sie anwenden könnten, wäre zwei oder alle Parameter vollständig zu korrelieren. Was bedeutet diese Annahme für die Variation der Parameter? Denken, Sie dass diese Annahme korrekt ist? Machen Sie einen Vorschlag zur Lösung dieses Problems. \n",
    "\n",
    "---"
   ]
  },
  {
   "cell_type": "markdown",
   "id": "a5614cf5-68ff-4ade-837c-6055a2944e95",
   "metadata": {},
   "source": [
    "**Lösung:**\n",
    "\n",
    "*Sie können Ihr Protokoll direkt in dieses Dokument einfügen. Wenn Sie dieses Dokument als Grundlage für ein [Jupyter notebook](https://jupyter.org/) verwenden wollen können Sie die Auswertung, Skripte und ggf. bildliche Darstellungen mit Hilfe von [python](https://www.python.org/) ebenfalls hier einfügen. Löschen Sie hierzu diesen kursiv gestellten Text aus dem Dokument.* \n",
    "\n",
    "---"
   ]
  },
  {
   "cell_type": "markdown",
   "id": "f7422100-bfce-4332-818d-64ca76c2d4e9",
   "metadata": {},
   "source": [
    "### Bonusaufgabe 2: Experimentelle Verbesserung der Messung \n",
    "\n",
    "Diskutieren Sie, wie dieser Versuch konzeptionell verbessert werden könnte, um die in Bonusaufgabe 1 diskutierten Probleme von vornherein zu vermeiden.  \n",
    "\n",
    "---"
   ]
  },
  {
   "cell_type": "markdown",
   "id": "feaff2b0-b1db-470c-a3fc-13b4d1c59656",
   "metadata": {},
   "source": [
    "**Lösung:**\n",
    "\n",
    "*Sie können Ihr Protokoll direkt in dieses Dokument einfügen. Wenn Sie dieses Dokument als Grundlage für ein [Jupyter notebook](https://jupyter.org/) verwenden wollen können Sie die Auswertung, Skripte und ggf. bildliche Darstellungen mit Hilfe von [python](https://www.python.org/) ebenfalls hier einfügen. Löschen Sie hierzu diesen kursiv gestellten Text aus dem Dokument.* \n",
    "\n",
    "---"
   ]
  }
 ],
 "metadata": {
  "kernelspec": {
   "display_name": "Python 3 (ipykernel)",
   "language": "python",
   "name": "python3"
  },
  "language_info": {
   "codemirror_mode": {
    "name": "ipython",
    "version": 3
   },
   "file_extension": ".py",
   "mimetype": "text/x-python",
   "name": "python",
   "nbconvert_exporter": "python",
   "pygments_lexer": "ipython3",
   "version": "3.10.12"
  }
 },
 "nbformat": 4,
 "nbformat_minor": 5
}
